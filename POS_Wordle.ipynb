{
  "nbformat": 4,
  "nbformat_minor": 0,
  "metadata": {
    "colab": {
      "provenance": []
    },
    "kernelspec": {
      "name": "python3",
      "display_name": "Python 3"
    },
    "language_info": {
      "name": "python"
    }
  },
  "cells": [
    {
      "cell_type": "markdown",
      "source": [
        "## POS Tagging and Analysis"
      ],
      "metadata": {
        "id": "Su30FwapwUcH"
      }
    },
    {
      "cell_type": "markdown",
      "source": [
        "This notebook uses the NLTK Natural Language Toolkit (https://www.nltk.org/) for POS tagging of the Wordle words.\n",
        "\n"
      ],
      "metadata": {
        "id": "0JGZ09aRhm-b"
      }
    },
    {
      "cell_type": "markdown",
      "source": [
        "### Prepare Environment\n",
        "\n",
        "Load necessary packages and set `datapath` location"
      ],
      "metadata": {
        "id": "7_VeSzk8Vrof"
      }
    },
    {
      "cell_type": "code",
      "execution_count": null,
      "metadata": {
        "id": "5LjHhaB78Vn6"
      },
      "outputs": [],
      "source": [
        "# !pip install nltk"
      ]
    },
    {
      "cell_type": "code",
      "source": [
        "import numpy as np\n",
        "import pandas as pd\n",
        "import nltk"
      ],
      "metadata": {
        "id": "AmlaUTvA8sbh"
      },
      "execution_count": 1,
      "outputs": []
    },
    {
      "cell_type": "markdown",
      "source": [
        "Download Perceptron tagger:"
      ],
      "metadata": {
        "id": "MAHbred_iLjz"
      }
    },
    {
      "cell_type": "code",
      "source": [
        "nltk.download('averaged_perceptron_tagger')"
      ],
      "metadata": {
        "colab": {
          "base_uri": "https://localhost:8080/"
        },
        "id": "mcBr62lB-1At",
        "outputId": "f3f858d7-10b4-42af-dcb4-65c8a66c5ed6"
      },
      "execution_count": 2,
      "outputs": [
        {
          "output_type": "stream",
          "name": "stderr",
          "text": [
            "[nltk_data] Downloading package averaged_perceptron_tagger to\n",
            "[nltk_data]     /root/nltk_data...\n",
            "[nltk_data]   Unzipping taggers/averaged_perceptron_tagger.zip.\n"
          ]
        },
        {
          "output_type": "execute_result",
          "data": {
            "text/plain": [
              "True"
            ]
          },
          "metadata": {},
          "execution_count": 2
        }
      ]
    },
    {
      "cell_type": "markdown",
      "source": [
        "Set `GOOGLE_DRIVE = True` and adjust the datapath reference below to use Google Drive to access the data files"
      ],
      "metadata": {
        "id": "BB9CTaOeTHHh"
      }
    },
    {
      "cell_type": "code",
      "source": [
        "GOOGLE_DRIVE = True"
      ],
      "metadata": {
        "id": "raJkKFK_TLS0"
      },
      "execution_count": 3,
      "outputs": []
    },
    {
      "cell_type": "code",
      "source": [
        "if GOOGLE_DRIVE:\n",
        "  from google.colab import drive\n",
        "  drive.mount('/content/drive/')\n",
        "  datapath = '/content/drive/My Drive/Colab Notebooks/UIUC/CS_410/Wordle/data/'\n",
        "else:\n",
        "  datapath = 'data/'"
      ],
      "metadata": {
        "colab": {
          "base_uri": "https://localhost:8080/"
        },
        "id": "EU9ulHlSSwoc",
        "outputId": "f6b60cad-c769-4919-b434-aaeddf875403"
      },
      "execution_count": 4,
      "outputs": [
        {
          "output_type": "stream",
          "name": "stdout",
          "text": [
            "Mounted at /content/drive/\n"
          ]
        }
      ]
    },
    {
      "cell_type": "markdown",
      "source": [
        "### Prepare Words"
      ],
      "metadata": {
        "id": "gsxihl4pkFzk"
      }
    },
    {
      "cell_type": "code",
      "source": [
        "with open(datapath + \"past_words.txt\", \"r\") as fin:\n",
        "  past_words = fin.read().splitlines()\n",
        "\n",
        "len(past_words)"
      ],
      "metadata": {
        "id": "BK40PoWl84lX",
        "colab": {
          "base_uri": "https://localhost:8080/"
        },
        "outputId": "a0884b00-29ba-429c-9236-6362c2ef32f4"
      },
      "execution_count": 5,
      "outputs": [
        {
          "output_type": "execute_result",
          "data": {
            "text/plain": [
              "509"
            ]
          },
          "metadata": {},
          "execution_count": 5
        }
      ]
    },
    {
      "cell_type": "code",
      "source": [
        "with open(datapath + \"allowed_words.txt\", \"r\") as fin:\n",
        "  all_words = fin.read().splitlines()\n",
        "\n",
        "len(all_words)"
      ],
      "metadata": {
        "colab": {
          "base_uri": "https://localhost:8080/"
        },
        "id": "3nDfMTCskTSa",
        "outputId": "291fcb52-931c-4314-c744-a9e6b7590566"
      },
      "execution_count": 6,
      "outputs": [
        {
          "output_type": "execute_result",
          "data": {
            "text/plain": [
              "12972"
            ]
          },
          "metadata": {},
          "execution_count": 6
        }
      ]
    },
    {
      "cell_type": "markdown",
      "source": [
        "### POS Tagging"
      ],
      "metadata": {
        "id": "-WPpcPTLkNEU"
      }
    },
    {
      "cell_type": "markdown",
      "source": [
        "POS tag past Wordle solution words:"
      ],
      "metadata": {
        "id": "4nkcKvmnmJUG"
      }
    },
    {
      "cell_type": "code",
      "source": [
        "past_pos = nltk.pos_tag(past_words)"
      ],
      "metadata": {
        "id": "XkuBl1J49WJY"
      },
      "execution_count": 7,
      "outputs": []
    },
    {
      "cell_type": "code",
      "source": [
        "past_pos[:20]"
      ],
      "metadata": {
        "colab": {
          "base_uri": "https://localhost:8080/"
        },
        "id": "rkEgR6Hd-3g5",
        "outputId": "a1fc0a8d-cd08-40fc-d144-fbcaf65bc3b4"
      },
      "execution_count": 9,
      "outputs": [
        {
          "output_type": "execute_result",
          "data": {
            "text/plain": [
              "[('cigar', 'NN'),\n",
              " ('rebut', 'NN'),\n",
              " ('sissy', 'JJ'),\n",
              " ('humph', 'NN'),\n",
              " ('awake', 'VBP'),\n",
              " ('blush', 'JJ'),\n",
              " ('focal', 'JJ'),\n",
              " ('evade', 'NN'),\n",
              " ('naval', 'JJ'),\n",
              " ('serve', 'VBP'),\n",
              " ('heath', 'NN'),\n",
              " ('dwarf', 'NN'),\n",
              " ('model', 'NN'),\n",
              " ('karma', 'NN'),\n",
              " ('stink', 'VBP'),\n",
              " ('grade', 'VBN'),\n",
              " ('quiet', 'JJ'),\n",
              " ('bench', 'NN'),\n",
              " ('abate', 'VBP'),\n",
              " ('feign', 'NN')]"
            ]
          },
          "metadata": {},
          "execution_count": 9
        }
      ]
    },
    {
      "cell_type": "markdown",
      "source": [
        "POS tag all of the Wordle allowable gameplay words:"
      ],
      "metadata": {
        "id": "ml7MdllnmRm8"
      }
    },
    {
      "cell_type": "code",
      "source": [
        "all_pos = nltk.pos_tag(all_words)\n",
        "all_df = pd.DataFrame(all_pos, columns = ['word', 'tag'])"
      ],
      "metadata": {
        "id": "I7VhtMhUKRgA"
      },
      "execution_count": 8,
      "outputs": []
    },
    {
      "cell_type": "code",
      "source": [
        "all_df.head(n=10)"
      ],
      "metadata": {
        "colab": {
          "base_uri": "https://localhost:8080/",
          "height": 363
        },
        "id": "qp2Y0H2tlwUL",
        "outputId": "8dccd4f1-a2ad-42c6-829c-75eadc9054e2"
      },
      "execution_count": 12,
      "outputs": [
        {
          "output_type": "execute_result",
          "data": {
            "text/plain": [
              "    word  tag\n",
              "0  aahed  VBN\n",
              "1  aalii   JJ\n",
              "2  aargh   NN\n",
              "3  aarti   NN\n",
              "4  abaca   NN\n",
              "5  abaci  VBP\n",
              "6  aback   NN\n",
              "7  abacs   NN\n",
              "8  abaft   NN\n",
              "9  abaka   NN"
            ],
            "text/html": [
              "\n",
              "  <div id=\"df-50d31660-b0f6-481b-ac95-e3e3ccbee35f\">\n",
              "    <div class=\"colab-df-container\">\n",
              "      <div>\n",
              "<style scoped>\n",
              "    .dataframe tbody tr th:only-of-type {\n",
              "        vertical-align: middle;\n",
              "    }\n",
              "\n",
              "    .dataframe tbody tr th {\n",
              "        vertical-align: top;\n",
              "    }\n",
              "\n",
              "    .dataframe thead th {\n",
              "        text-align: right;\n",
              "    }\n",
              "</style>\n",
              "<table border=\"1\" class=\"dataframe\">\n",
              "  <thead>\n",
              "    <tr style=\"text-align: right;\">\n",
              "      <th></th>\n",
              "      <th>word</th>\n",
              "      <th>tag</th>\n",
              "    </tr>\n",
              "  </thead>\n",
              "  <tbody>\n",
              "    <tr>\n",
              "      <th>0</th>\n",
              "      <td>aahed</td>\n",
              "      <td>VBN</td>\n",
              "    </tr>\n",
              "    <tr>\n",
              "      <th>1</th>\n",
              "      <td>aalii</td>\n",
              "      <td>JJ</td>\n",
              "    </tr>\n",
              "    <tr>\n",
              "      <th>2</th>\n",
              "      <td>aargh</td>\n",
              "      <td>NN</td>\n",
              "    </tr>\n",
              "    <tr>\n",
              "      <th>3</th>\n",
              "      <td>aarti</td>\n",
              "      <td>NN</td>\n",
              "    </tr>\n",
              "    <tr>\n",
              "      <th>4</th>\n",
              "      <td>abaca</td>\n",
              "      <td>NN</td>\n",
              "    </tr>\n",
              "    <tr>\n",
              "      <th>5</th>\n",
              "      <td>abaci</td>\n",
              "      <td>VBP</td>\n",
              "    </tr>\n",
              "    <tr>\n",
              "      <th>6</th>\n",
              "      <td>aback</td>\n",
              "      <td>NN</td>\n",
              "    </tr>\n",
              "    <tr>\n",
              "      <th>7</th>\n",
              "      <td>abacs</td>\n",
              "      <td>NN</td>\n",
              "    </tr>\n",
              "    <tr>\n",
              "      <th>8</th>\n",
              "      <td>abaft</td>\n",
              "      <td>NN</td>\n",
              "    </tr>\n",
              "    <tr>\n",
              "      <th>9</th>\n",
              "      <td>abaka</td>\n",
              "      <td>NN</td>\n",
              "    </tr>\n",
              "  </tbody>\n",
              "</table>\n",
              "</div>\n",
              "      <button class=\"colab-df-convert\" onclick=\"convertToInteractive('df-50d31660-b0f6-481b-ac95-e3e3ccbee35f')\"\n",
              "              title=\"Convert this dataframe to an interactive table.\"\n",
              "              style=\"display:none;\">\n",
              "        \n",
              "  <svg xmlns=\"http://www.w3.org/2000/svg\" height=\"24px\"viewBox=\"0 0 24 24\"\n",
              "       width=\"24px\">\n",
              "    <path d=\"M0 0h24v24H0V0z\" fill=\"none\"/>\n",
              "    <path d=\"M18.56 5.44l.94 2.06.94-2.06 2.06-.94-2.06-.94-.94-2.06-.94 2.06-2.06.94zm-11 1L8.5 8.5l.94-2.06 2.06-.94-2.06-.94L8.5 2.5l-.94 2.06-2.06.94zm10 10l.94 2.06.94-2.06 2.06-.94-2.06-.94-.94-2.06-.94 2.06-2.06.94z\"/><path d=\"M17.41 7.96l-1.37-1.37c-.4-.4-.92-.59-1.43-.59-.52 0-1.04.2-1.43.59L10.3 9.45l-7.72 7.72c-.78.78-.78 2.05 0 2.83L4 21.41c.39.39.9.59 1.41.59.51 0 1.02-.2 1.41-.59l7.78-7.78 2.81-2.81c.8-.78.8-2.07 0-2.86zM5.41 20L4 18.59l7.72-7.72 1.47 1.35L5.41 20z\"/>\n",
              "  </svg>\n",
              "      </button>\n",
              "      \n",
              "  <style>\n",
              "    .colab-df-container {\n",
              "      display:flex;\n",
              "      flex-wrap:wrap;\n",
              "      gap: 12px;\n",
              "    }\n",
              "\n",
              "    .colab-df-convert {\n",
              "      background-color: #E8F0FE;\n",
              "      border: none;\n",
              "      border-radius: 50%;\n",
              "      cursor: pointer;\n",
              "      display: none;\n",
              "      fill: #1967D2;\n",
              "      height: 32px;\n",
              "      padding: 0 0 0 0;\n",
              "      width: 32px;\n",
              "    }\n",
              "\n",
              "    .colab-df-convert:hover {\n",
              "      background-color: #E2EBFA;\n",
              "      box-shadow: 0px 1px 2px rgba(60, 64, 67, 0.3), 0px 1px 3px 1px rgba(60, 64, 67, 0.15);\n",
              "      fill: #174EA6;\n",
              "    }\n",
              "\n",
              "    [theme=dark] .colab-df-convert {\n",
              "      background-color: #3B4455;\n",
              "      fill: #D2E3FC;\n",
              "    }\n",
              "\n",
              "    [theme=dark] .colab-df-convert:hover {\n",
              "      background-color: #434B5C;\n",
              "      box-shadow: 0px 1px 3px 1px rgba(0, 0, 0, 0.15);\n",
              "      filter: drop-shadow(0px 1px 2px rgba(0, 0, 0, 0.3));\n",
              "      fill: #FFFFFF;\n",
              "    }\n",
              "  </style>\n",
              "\n",
              "      <script>\n",
              "        const buttonEl =\n",
              "          document.querySelector('#df-50d31660-b0f6-481b-ac95-e3e3ccbee35f button.colab-df-convert');\n",
              "        buttonEl.style.display =\n",
              "          google.colab.kernel.accessAllowed ? 'block' : 'none';\n",
              "\n",
              "        async function convertToInteractive(key) {\n",
              "          const element = document.querySelector('#df-50d31660-b0f6-481b-ac95-e3e3ccbee35f');\n",
              "          const dataTable =\n",
              "            await google.colab.kernel.invokeFunction('convertToInteractive',\n",
              "                                                     [key], {});\n",
              "          if (!dataTable) return;\n",
              "\n",
              "          const docLinkHtml = 'Like what you see? Visit the ' +\n",
              "            '<a target=\"_blank\" href=https://colab.research.google.com/notebooks/data_table.ipynb>data table notebook</a>'\n",
              "            + ' to learn more about interactive tables.';\n",
              "          element.innerHTML = '';\n",
              "          dataTable['output_type'] = 'display_data';\n",
              "          await google.colab.output.renderOutput(dataTable, element);\n",
              "          const docLink = document.createElement('div');\n",
              "          docLink.innerHTML = docLinkHtml;\n",
              "          element.appendChild(docLink);\n",
              "        }\n",
              "      </script>\n",
              "    </div>\n",
              "  </div>\n",
              "  "
            ]
          },
          "metadata": {},
          "execution_count": 12
        }
      ]
    },
    {
      "cell_type": "markdown",
      "source": [
        "### POS Analysis"
      ],
      "metadata": {
        "id": "Doy9nSuPl6NU"
      }
    },
    {
      "cell_type": "markdown",
      "source": [
        "Get count by POS tag for past Wordle solution words:"
      ],
      "metadata": {
        "id": "xZWrN7HWqVy4"
      }
    },
    {
      "cell_type": "code",
      "source": [
        "past_np = np.array(past_pos)\n",
        "past_tags, past_counts = np.unique(past_np[:, 1], return_counts=True)"
      ],
      "metadata": {
        "id": "pj8CAFIQnZNh"
      },
      "execution_count": 13,
      "outputs": []
    },
    {
      "cell_type": "markdown",
      "source": [
        "Get count by POS tag for all Wordle gameplay words:"
      ],
      "metadata": {
        "id": "C_623MZXqc7m"
      }
    },
    {
      "cell_type": "code",
      "source": [
        "all_np = np.array(all_pos)\n",
        "all_tags, all_counts = np.unique(all_np[:, 1], return_counts=True)"
      ],
      "metadata": {
        "id": "pEBOzglUnd1m"
      },
      "execution_count": 14,
      "outputs": []
    },
    {
      "cell_type": "markdown",
      "source": [
        "Compare frequency distribution of POS tags between all words and past words:"
      ],
      "metadata": {
        "id": "nEgqXL65qe28"
      }
    },
    {
      "cell_type": "code",
      "source": [
        "past_freq_df = pd.DataFrame({'tag':past_tags, 'past_count':past_counts})\n",
        "all_freq_df = pd.DataFrame({'tag':all_tags, 'all_count':all_counts})\n",
        "\n",
        "pos_df = past_freq_df.merge(all_freq_df, how='outer', on='tag')\n",
        "pos_df.fillna(0, inplace=True)\n",
        "\n",
        "pos_df['past_p'] = pos_df['past_count']/pos_df['past_count'].sum()\n",
        "pos_df['all_p'] = pos_df['all_count']/pos_df['all_count'].sum()"
      ],
      "metadata": {
        "id": "H8FsGoQGnZNi"
      },
      "execution_count": 19,
      "outputs": []
    },
    {
      "cell_type": "code",
      "source": [
        "pos_df"
      ],
      "metadata": {
        "colab": {
          "base_uri": "https://localhost:8080/",
          "height": 1000
        },
        "id": "-TeqJ6f2oUYf",
        "outputId": "7ca19351-9e85-4b64-8724-f188cb79d4f9"
      },
      "execution_count": 20,
      "outputs": [
        {
          "output_type": "execute_result",
          "data": {
            "text/plain": [
              "     tag  past_count  all_count    past_p     all_p\n",
              "0     CC         1.0         11  0.001965  0.000848\n",
              "1     DT         2.0          7  0.003929  0.000540\n",
              "2     IN         5.0         78  0.009823  0.006013\n",
              "3     JJ       111.0       2645  0.218075  0.203901\n",
              "4    JJR         3.0         59  0.005894  0.004548\n",
              "5    JJS         1.0         15  0.001965  0.001156\n",
              "6     MD         3.0          8  0.005894  0.000617\n",
              "7     NN       315.0       4711  0.618861  0.363167\n",
              "8    NNP         1.0         44  0.001965  0.003392\n",
              "9    NNS         4.0       2375  0.007859  0.183087\n",
              "10  PRP$         1.0          1  0.001965  0.000077\n",
              "11    RB        12.0        251  0.023576  0.019349\n",
              "12   RBR         1.0         12  0.001965  0.000925\n",
              "13    VB         8.0         93  0.015717  0.007169\n",
              "14   VBD         9.0        435  0.017682  0.033534\n",
              "15   VBG         7.0         45  0.013752  0.003469\n",
              "16   VBN         7.0        154  0.013752  0.011872\n",
              "17   VBP        16.0       1614  0.031434  0.124422\n",
              "18   VBZ         2.0        307  0.003929  0.023666\n",
              "19    CD         0.0          8  0.000000  0.000617\n",
              "20    EX         0.0          1  0.000000  0.000077\n",
              "21    FW         0.0         79  0.000000  0.006090\n",
              "22  NNPS         0.0          1  0.000000  0.000077\n",
              "23   POS         0.0          1  0.000000  0.000077\n",
              "24   PRP         0.0          4  0.000000  0.000308\n",
              "25   RBS         0.0          2  0.000000  0.000154\n",
              "26    RP         0.0          1  0.000000  0.000077\n",
              "27   WDT         0.0          4  0.000000  0.000308\n",
              "28    WP         0.0          2  0.000000  0.000154\n",
              "29   WP$         0.0          1  0.000000  0.000077\n",
              "30   WRB         0.0          3  0.000000  0.000231"
            ],
            "text/html": [
              "\n",
              "  <div id=\"df-1e6bcf8b-b5bb-4db0-8e0f-eb8ec39d6e7d\">\n",
              "    <div class=\"colab-df-container\">\n",
              "      <div>\n",
              "<style scoped>\n",
              "    .dataframe tbody tr th:only-of-type {\n",
              "        vertical-align: middle;\n",
              "    }\n",
              "\n",
              "    .dataframe tbody tr th {\n",
              "        vertical-align: top;\n",
              "    }\n",
              "\n",
              "    .dataframe thead th {\n",
              "        text-align: right;\n",
              "    }\n",
              "</style>\n",
              "<table border=\"1\" class=\"dataframe\">\n",
              "  <thead>\n",
              "    <tr style=\"text-align: right;\">\n",
              "      <th></th>\n",
              "      <th>tag</th>\n",
              "      <th>past_count</th>\n",
              "      <th>all_count</th>\n",
              "      <th>past_p</th>\n",
              "      <th>all_p</th>\n",
              "    </tr>\n",
              "  </thead>\n",
              "  <tbody>\n",
              "    <tr>\n",
              "      <th>0</th>\n",
              "      <td>CC</td>\n",
              "      <td>1.0</td>\n",
              "      <td>11</td>\n",
              "      <td>0.001965</td>\n",
              "      <td>0.000848</td>\n",
              "    </tr>\n",
              "    <tr>\n",
              "      <th>1</th>\n",
              "      <td>DT</td>\n",
              "      <td>2.0</td>\n",
              "      <td>7</td>\n",
              "      <td>0.003929</td>\n",
              "      <td>0.000540</td>\n",
              "    </tr>\n",
              "    <tr>\n",
              "      <th>2</th>\n",
              "      <td>IN</td>\n",
              "      <td>5.0</td>\n",
              "      <td>78</td>\n",
              "      <td>0.009823</td>\n",
              "      <td>0.006013</td>\n",
              "    </tr>\n",
              "    <tr>\n",
              "      <th>3</th>\n",
              "      <td>JJ</td>\n",
              "      <td>111.0</td>\n",
              "      <td>2645</td>\n",
              "      <td>0.218075</td>\n",
              "      <td>0.203901</td>\n",
              "    </tr>\n",
              "    <tr>\n",
              "      <th>4</th>\n",
              "      <td>JJR</td>\n",
              "      <td>3.0</td>\n",
              "      <td>59</td>\n",
              "      <td>0.005894</td>\n",
              "      <td>0.004548</td>\n",
              "    </tr>\n",
              "    <tr>\n",
              "      <th>5</th>\n",
              "      <td>JJS</td>\n",
              "      <td>1.0</td>\n",
              "      <td>15</td>\n",
              "      <td>0.001965</td>\n",
              "      <td>0.001156</td>\n",
              "    </tr>\n",
              "    <tr>\n",
              "      <th>6</th>\n",
              "      <td>MD</td>\n",
              "      <td>3.0</td>\n",
              "      <td>8</td>\n",
              "      <td>0.005894</td>\n",
              "      <td>0.000617</td>\n",
              "    </tr>\n",
              "    <tr>\n",
              "      <th>7</th>\n",
              "      <td>NN</td>\n",
              "      <td>315.0</td>\n",
              "      <td>4711</td>\n",
              "      <td>0.618861</td>\n",
              "      <td>0.363167</td>\n",
              "    </tr>\n",
              "    <tr>\n",
              "      <th>8</th>\n",
              "      <td>NNP</td>\n",
              "      <td>1.0</td>\n",
              "      <td>44</td>\n",
              "      <td>0.001965</td>\n",
              "      <td>0.003392</td>\n",
              "    </tr>\n",
              "    <tr>\n",
              "      <th>9</th>\n",
              "      <td>NNS</td>\n",
              "      <td>4.0</td>\n",
              "      <td>2375</td>\n",
              "      <td>0.007859</td>\n",
              "      <td>0.183087</td>\n",
              "    </tr>\n",
              "    <tr>\n",
              "      <th>10</th>\n",
              "      <td>PRP$</td>\n",
              "      <td>1.0</td>\n",
              "      <td>1</td>\n",
              "      <td>0.001965</td>\n",
              "      <td>0.000077</td>\n",
              "    </tr>\n",
              "    <tr>\n",
              "      <th>11</th>\n",
              "      <td>RB</td>\n",
              "      <td>12.0</td>\n",
              "      <td>251</td>\n",
              "      <td>0.023576</td>\n",
              "      <td>0.019349</td>\n",
              "    </tr>\n",
              "    <tr>\n",
              "      <th>12</th>\n",
              "      <td>RBR</td>\n",
              "      <td>1.0</td>\n",
              "      <td>12</td>\n",
              "      <td>0.001965</td>\n",
              "      <td>0.000925</td>\n",
              "    </tr>\n",
              "    <tr>\n",
              "      <th>13</th>\n",
              "      <td>VB</td>\n",
              "      <td>8.0</td>\n",
              "      <td>93</td>\n",
              "      <td>0.015717</td>\n",
              "      <td>0.007169</td>\n",
              "    </tr>\n",
              "    <tr>\n",
              "      <th>14</th>\n",
              "      <td>VBD</td>\n",
              "      <td>9.0</td>\n",
              "      <td>435</td>\n",
              "      <td>0.017682</td>\n",
              "      <td>0.033534</td>\n",
              "    </tr>\n",
              "    <tr>\n",
              "      <th>15</th>\n",
              "      <td>VBG</td>\n",
              "      <td>7.0</td>\n",
              "      <td>45</td>\n",
              "      <td>0.013752</td>\n",
              "      <td>0.003469</td>\n",
              "    </tr>\n",
              "    <tr>\n",
              "      <th>16</th>\n",
              "      <td>VBN</td>\n",
              "      <td>7.0</td>\n",
              "      <td>154</td>\n",
              "      <td>0.013752</td>\n",
              "      <td>0.011872</td>\n",
              "    </tr>\n",
              "    <tr>\n",
              "      <th>17</th>\n",
              "      <td>VBP</td>\n",
              "      <td>16.0</td>\n",
              "      <td>1614</td>\n",
              "      <td>0.031434</td>\n",
              "      <td>0.124422</td>\n",
              "    </tr>\n",
              "    <tr>\n",
              "      <th>18</th>\n",
              "      <td>VBZ</td>\n",
              "      <td>2.0</td>\n",
              "      <td>307</td>\n",
              "      <td>0.003929</td>\n",
              "      <td>0.023666</td>\n",
              "    </tr>\n",
              "    <tr>\n",
              "      <th>19</th>\n",
              "      <td>CD</td>\n",
              "      <td>0.0</td>\n",
              "      <td>8</td>\n",
              "      <td>0.000000</td>\n",
              "      <td>0.000617</td>\n",
              "    </tr>\n",
              "    <tr>\n",
              "      <th>20</th>\n",
              "      <td>EX</td>\n",
              "      <td>0.0</td>\n",
              "      <td>1</td>\n",
              "      <td>0.000000</td>\n",
              "      <td>0.000077</td>\n",
              "    </tr>\n",
              "    <tr>\n",
              "      <th>21</th>\n",
              "      <td>FW</td>\n",
              "      <td>0.0</td>\n",
              "      <td>79</td>\n",
              "      <td>0.000000</td>\n",
              "      <td>0.006090</td>\n",
              "    </tr>\n",
              "    <tr>\n",
              "      <th>22</th>\n",
              "      <td>NNPS</td>\n",
              "      <td>0.0</td>\n",
              "      <td>1</td>\n",
              "      <td>0.000000</td>\n",
              "      <td>0.000077</td>\n",
              "    </tr>\n",
              "    <tr>\n",
              "      <th>23</th>\n",
              "      <td>POS</td>\n",
              "      <td>0.0</td>\n",
              "      <td>1</td>\n",
              "      <td>0.000000</td>\n",
              "      <td>0.000077</td>\n",
              "    </tr>\n",
              "    <tr>\n",
              "      <th>24</th>\n",
              "      <td>PRP</td>\n",
              "      <td>0.0</td>\n",
              "      <td>4</td>\n",
              "      <td>0.000000</td>\n",
              "      <td>0.000308</td>\n",
              "    </tr>\n",
              "    <tr>\n",
              "      <th>25</th>\n",
              "      <td>RBS</td>\n",
              "      <td>0.0</td>\n",
              "      <td>2</td>\n",
              "      <td>0.000000</td>\n",
              "      <td>0.000154</td>\n",
              "    </tr>\n",
              "    <tr>\n",
              "      <th>26</th>\n",
              "      <td>RP</td>\n",
              "      <td>0.0</td>\n",
              "      <td>1</td>\n",
              "      <td>0.000000</td>\n",
              "      <td>0.000077</td>\n",
              "    </tr>\n",
              "    <tr>\n",
              "      <th>27</th>\n",
              "      <td>WDT</td>\n",
              "      <td>0.0</td>\n",
              "      <td>4</td>\n",
              "      <td>0.000000</td>\n",
              "      <td>0.000308</td>\n",
              "    </tr>\n",
              "    <tr>\n",
              "      <th>28</th>\n",
              "      <td>WP</td>\n",
              "      <td>0.0</td>\n",
              "      <td>2</td>\n",
              "      <td>0.000000</td>\n",
              "      <td>0.000154</td>\n",
              "    </tr>\n",
              "    <tr>\n",
              "      <th>29</th>\n",
              "      <td>WP$</td>\n",
              "      <td>0.0</td>\n",
              "      <td>1</td>\n",
              "      <td>0.000000</td>\n",
              "      <td>0.000077</td>\n",
              "    </tr>\n",
              "    <tr>\n",
              "      <th>30</th>\n",
              "      <td>WRB</td>\n",
              "      <td>0.0</td>\n",
              "      <td>3</td>\n",
              "      <td>0.000000</td>\n",
              "      <td>0.000231</td>\n",
              "    </tr>\n",
              "  </tbody>\n",
              "</table>\n",
              "</div>\n",
              "      <button class=\"colab-df-convert\" onclick=\"convertToInteractive('df-1e6bcf8b-b5bb-4db0-8e0f-eb8ec39d6e7d')\"\n",
              "              title=\"Convert this dataframe to an interactive table.\"\n",
              "              style=\"display:none;\">\n",
              "        \n",
              "  <svg xmlns=\"http://www.w3.org/2000/svg\" height=\"24px\"viewBox=\"0 0 24 24\"\n",
              "       width=\"24px\">\n",
              "    <path d=\"M0 0h24v24H0V0z\" fill=\"none\"/>\n",
              "    <path d=\"M18.56 5.44l.94 2.06.94-2.06 2.06-.94-2.06-.94-.94-2.06-.94 2.06-2.06.94zm-11 1L8.5 8.5l.94-2.06 2.06-.94-2.06-.94L8.5 2.5l-.94 2.06-2.06.94zm10 10l.94 2.06.94-2.06 2.06-.94-2.06-.94-.94-2.06-.94 2.06-2.06.94z\"/><path d=\"M17.41 7.96l-1.37-1.37c-.4-.4-.92-.59-1.43-.59-.52 0-1.04.2-1.43.59L10.3 9.45l-7.72 7.72c-.78.78-.78 2.05 0 2.83L4 21.41c.39.39.9.59 1.41.59.51 0 1.02-.2 1.41-.59l7.78-7.78 2.81-2.81c.8-.78.8-2.07 0-2.86zM5.41 20L4 18.59l7.72-7.72 1.47 1.35L5.41 20z\"/>\n",
              "  </svg>\n",
              "      </button>\n",
              "      \n",
              "  <style>\n",
              "    .colab-df-container {\n",
              "      display:flex;\n",
              "      flex-wrap:wrap;\n",
              "      gap: 12px;\n",
              "    }\n",
              "\n",
              "    .colab-df-convert {\n",
              "      background-color: #E8F0FE;\n",
              "      border: none;\n",
              "      border-radius: 50%;\n",
              "      cursor: pointer;\n",
              "      display: none;\n",
              "      fill: #1967D2;\n",
              "      height: 32px;\n",
              "      padding: 0 0 0 0;\n",
              "      width: 32px;\n",
              "    }\n",
              "\n",
              "    .colab-df-convert:hover {\n",
              "      background-color: #E2EBFA;\n",
              "      box-shadow: 0px 1px 2px rgba(60, 64, 67, 0.3), 0px 1px 3px 1px rgba(60, 64, 67, 0.15);\n",
              "      fill: #174EA6;\n",
              "    }\n",
              "\n",
              "    [theme=dark] .colab-df-convert {\n",
              "      background-color: #3B4455;\n",
              "      fill: #D2E3FC;\n",
              "    }\n",
              "\n",
              "    [theme=dark] .colab-df-convert:hover {\n",
              "      background-color: #434B5C;\n",
              "      box-shadow: 0px 1px 3px 1px rgba(0, 0, 0, 0.15);\n",
              "      filter: drop-shadow(0px 1px 2px rgba(0, 0, 0, 0.3));\n",
              "      fill: #FFFFFF;\n",
              "    }\n",
              "  </style>\n",
              "\n",
              "      <script>\n",
              "        const buttonEl =\n",
              "          document.querySelector('#df-1e6bcf8b-b5bb-4db0-8e0f-eb8ec39d6e7d button.colab-df-convert');\n",
              "        buttonEl.style.display =\n",
              "          google.colab.kernel.accessAllowed ? 'block' : 'none';\n",
              "\n",
              "        async function convertToInteractive(key) {\n",
              "          const element = document.querySelector('#df-1e6bcf8b-b5bb-4db0-8e0f-eb8ec39d6e7d');\n",
              "          const dataTable =\n",
              "            await google.colab.kernel.invokeFunction('convertToInteractive',\n",
              "                                                     [key], {});\n",
              "          if (!dataTable) return;\n",
              "\n",
              "          const docLinkHtml = 'Like what you see? Visit the ' +\n",
              "            '<a target=\"_blank\" href=https://colab.research.google.com/notebooks/data_table.ipynb>data table notebook</a>'\n",
              "            + ' to learn more about interactive tables.';\n",
              "          element.innerHTML = '';\n",
              "          dataTable['output_type'] = 'display_data';\n",
              "          await google.colab.output.renderOutput(dataTable, element);\n",
              "          const docLink = document.createElement('div');\n",
              "          docLink.innerHTML = docLinkHtml;\n",
              "          element.appendChild(docLink);\n",
              "        }\n",
              "      </script>\n",
              "    </div>\n",
              "  </div>\n",
              "  "
            ]
          },
          "metadata": {},
          "execution_count": 20
        }
      ]
    },
    {
      "cell_type": "markdown",
      "source": [
        "Comparing the frequency distributions, one interesting finding is that 61.9% of the past Wordle solution words are tagged ‘NN’, which represents a singular noun in the Penn Treebank schema, whereas only 36.3% of allowable Wordle gameplay words have the ‘NN’ tag.  "
      ],
      "metadata": {
        "id": "CufP_9DarARZ"
      }
    },
    {
      "cell_type": "markdown",
      "source": [
        "### Process Results"
      ],
      "metadata": {
        "id": "7I-sUOMfrZzS"
      }
    },
    {
      "cell_type": "markdown",
      "source": [
        "Use the frequency distribution of POS tags for past Wordle solution words to assign probability by POS tag to the list of allowable Wordle gameplay words.  This will allow the Wordle strategy tool to prefer words with POS tags that have a higher likelihood of being a solution word."
      ],
      "metadata": {
        "id": "6yZ7gO2PrcbR"
      }
    },
    {
      "cell_type": "code",
      "source": [
        "all_df['p'] = all_df['tag'].map(pos_df.set_index('tag')['past_p'])"
      ],
      "metadata": {
        "id": "ni-2cU5hIwXR"
      },
      "execution_count": 21,
      "outputs": []
    },
    {
      "cell_type": "code",
      "source": [
        "all_df.head(n=20)"
      ],
      "metadata": {
        "colab": {
          "base_uri": "https://localhost:8080/",
          "height": 676
        },
        "id": "OMYTS-eIjmAj",
        "outputId": "c4435f8f-664d-4699-9ca3-2793e4321603"
      },
      "execution_count": 23,
      "outputs": [
        {
          "output_type": "execute_result",
          "data": {
            "text/plain": [
              "     word  tag         p\n",
              "0   aahed  VBN  0.013752\n",
              "1   aalii   JJ  0.218075\n",
              "2   aargh   NN  0.618861\n",
              "3   aarti   NN  0.618861\n",
              "4   abaca   NN  0.618861\n",
              "5   abaci  VBP  0.031434\n",
              "6   aback   NN  0.618861\n",
              "7   abacs   NN  0.618861\n",
              "8   abaft   NN  0.618861\n",
              "9   abaka   NN  0.618861\n",
              "10  abamp   NN  0.618861\n",
              "11  aband   NN  0.618861\n",
              "12  abase   NN  0.618861\n",
              "13  abash   NN  0.618861\n",
              "14  abask   NN  0.618861\n",
              "15  abate   NN  0.618861\n",
              "16  abaya   NN  0.618861\n",
              "17  abbas   NN  0.618861\n",
              "18  abbed  VBD  0.017682\n",
              "19  abbes   JJ  0.218075"
            ],
            "text/html": [
              "\n",
              "  <div id=\"df-6ca767b3-1c67-4398-85cf-e2c219527007\">\n",
              "    <div class=\"colab-df-container\">\n",
              "      <div>\n",
              "<style scoped>\n",
              "    .dataframe tbody tr th:only-of-type {\n",
              "        vertical-align: middle;\n",
              "    }\n",
              "\n",
              "    .dataframe tbody tr th {\n",
              "        vertical-align: top;\n",
              "    }\n",
              "\n",
              "    .dataframe thead th {\n",
              "        text-align: right;\n",
              "    }\n",
              "</style>\n",
              "<table border=\"1\" class=\"dataframe\">\n",
              "  <thead>\n",
              "    <tr style=\"text-align: right;\">\n",
              "      <th></th>\n",
              "      <th>word</th>\n",
              "      <th>tag</th>\n",
              "      <th>p</th>\n",
              "    </tr>\n",
              "  </thead>\n",
              "  <tbody>\n",
              "    <tr>\n",
              "      <th>0</th>\n",
              "      <td>aahed</td>\n",
              "      <td>VBN</td>\n",
              "      <td>0.013752</td>\n",
              "    </tr>\n",
              "    <tr>\n",
              "      <th>1</th>\n",
              "      <td>aalii</td>\n",
              "      <td>JJ</td>\n",
              "      <td>0.218075</td>\n",
              "    </tr>\n",
              "    <tr>\n",
              "      <th>2</th>\n",
              "      <td>aargh</td>\n",
              "      <td>NN</td>\n",
              "      <td>0.618861</td>\n",
              "    </tr>\n",
              "    <tr>\n",
              "      <th>3</th>\n",
              "      <td>aarti</td>\n",
              "      <td>NN</td>\n",
              "      <td>0.618861</td>\n",
              "    </tr>\n",
              "    <tr>\n",
              "      <th>4</th>\n",
              "      <td>abaca</td>\n",
              "      <td>NN</td>\n",
              "      <td>0.618861</td>\n",
              "    </tr>\n",
              "    <tr>\n",
              "      <th>5</th>\n",
              "      <td>abaci</td>\n",
              "      <td>VBP</td>\n",
              "      <td>0.031434</td>\n",
              "    </tr>\n",
              "    <tr>\n",
              "      <th>6</th>\n",
              "      <td>aback</td>\n",
              "      <td>NN</td>\n",
              "      <td>0.618861</td>\n",
              "    </tr>\n",
              "    <tr>\n",
              "      <th>7</th>\n",
              "      <td>abacs</td>\n",
              "      <td>NN</td>\n",
              "      <td>0.618861</td>\n",
              "    </tr>\n",
              "    <tr>\n",
              "      <th>8</th>\n",
              "      <td>abaft</td>\n",
              "      <td>NN</td>\n",
              "      <td>0.618861</td>\n",
              "    </tr>\n",
              "    <tr>\n",
              "      <th>9</th>\n",
              "      <td>abaka</td>\n",
              "      <td>NN</td>\n",
              "      <td>0.618861</td>\n",
              "    </tr>\n",
              "    <tr>\n",
              "      <th>10</th>\n",
              "      <td>abamp</td>\n",
              "      <td>NN</td>\n",
              "      <td>0.618861</td>\n",
              "    </tr>\n",
              "    <tr>\n",
              "      <th>11</th>\n",
              "      <td>aband</td>\n",
              "      <td>NN</td>\n",
              "      <td>0.618861</td>\n",
              "    </tr>\n",
              "    <tr>\n",
              "      <th>12</th>\n",
              "      <td>abase</td>\n",
              "      <td>NN</td>\n",
              "      <td>0.618861</td>\n",
              "    </tr>\n",
              "    <tr>\n",
              "      <th>13</th>\n",
              "      <td>abash</td>\n",
              "      <td>NN</td>\n",
              "      <td>0.618861</td>\n",
              "    </tr>\n",
              "    <tr>\n",
              "      <th>14</th>\n",
              "      <td>abask</td>\n",
              "      <td>NN</td>\n",
              "      <td>0.618861</td>\n",
              "    </tr>\n",
              "    <tr>\n",
              "      <th>15</th>\n",
              "      <td>abate</td>\n",
              "      <td>NN</td>\n",
              "      <td>0.618861</td>\n",
              "    </tr>\n",
              "    <tr>\n",
              "      <th>16</th>\n",
              "      <td>abaya</td>\n",
              "      <td>NN</td>\n",
              "      <td>0.618861</td>\n",
              "    </tr>\n",
              "    <tr>\n",
              "      <th>17</th>\n",
              "      <td>abbas</td>\n",
              "      <td>NN</td>\n",
              "      <td>0.618861</td>\n",
              "    </tr>\n",
              "    <tr>\n",
              "      <th>18</th>\n",
              "      <td>abbed</td>\n",
              "      <td>VBD</td>\n",
              "      <td>0.017682</td>\n",
              "    </tr>\n",
              "    <tr>\n",
              "      <th>19</th>\n",
              "      <td>abbes</td>\n",
              "      <td>JJ</td>\n",
              "      <td>0.218075</td>\n",
              "    </tr>\n",
              "  </tbody>\n",
              "</table>\n",
              "</div>\n",
              "      <button class=\"colab-df-convert\" onclick=\"convertToInteractive('df-6ca767b3-1c67-4398-85cf-e2c219527007')\"\n",
              "              title=\"Convert this dataframe to an interactive table.\"\n",
              "              style=\"display:none;\">\n",
              "        \n",
              "  <svg xmlns=\"http://www.w3.org/2000/svg\" height=\"24px\"viewBox=\"0 0 24 24\"\n",
              "       width=\"24px\">\n",
              "    <path d=\"M0 0h24v24H0V0z\" fill=\"none\"/>\n",
              "    <path d=\"M18.56 5.44l.94 2.06.94-2.06 2.06-.94-2.06-.94-.94-2.06-.94 2.06-2.06.94zm-11 1L8.5 8.5l.94-2.06 2.06-.94-2.06-.94L8.5 2.5l-.94 2.06-2.06.94zm10 10l.94 2.06.94-2.06 2.06-.94-2.06-.94-.94-2.06-.94 2.06-2.06.94z\"/><path d=\"M17.41 7.96l-1.37-1.37c-.4-.4-.92-.59-1.43-.59-.52 0-1.04.2-1.43.59L10.3 9.45l-7.72 7.72c-.78.78-.78 2.05 0 2.83L4 21.41c.39.39.9.59 1.41.59.51 0 1.02-.2 1.41-.59l7.78-7.78 2.81-2.81c.8-.78.8-2.07 0-2.86zM5.41 20L4 18.59l7.72-7.72 1.47 1.35L5.41 20z\"/>\n",
              "  </svg>\n",
              "      </button>\n",
              "      \n",
              "  <style>\n",
              "    .colab-df-container {\n",
              "      display:flex;\n",
              "      flex-wrap:wrap;\n",
              "      gap: 12px;\n",
              "    }\n",
              "\n",
              "    .colab-df-convert {\n",
              "      background-color: #E8F0FE;\n",
              "      border: none;\n",
              "      border-radius: 50%;\n",
              "      cursor: pointer;\n",
              "      display: none;\n",
              "      fill: #1967D2;\n",
              "      height: 32px;\n",
              "      padding: 0 0 0 0;\n",
              "      width: 32px;\n",
              "    }\n",
              "\n",
              "    .colab-df-convert:hover {\n",
              "      background-color: #E2EBFA;\n",
              "      box-shadow: 0px 1px 2px rgba(60, 64, 67, 0.3), 0px 1px 3px 1px rgba(60, 64, 67, 0.15);\n",
              "      fill: #174EA6;\n",
              "    }\n",
              "\n",
              "    [theme=dark] .colab-df-convert {\n",
              "      background-color: #3B4455;\n",
              "      fill: #D2E3FC;\n",
              "    }\n",
              "\n",
              "    [theme=dark] .colab-df-convert:hover {\n",
              "      background-color: #434B5C;\n",
              "      box-shadow: 0px 1px 3px 1px rgba(0, 0, 0, 0.15);\n",
              "      filter: drop-shadow(0px 1px 2px rgba(0, 0, 0, 0.3));\n",
              "      fill: #FFFFFF;\n",
              "    }\n",
              "  </style>\n",
              "\n",
              "      <script>\n",
              "        const buttonEl =\n",
              "          document.querySelector('#df-6ca767b3-1c67-4398-85cf-e2c219527007 button.colab-df-convert');\n",
              "        buttonEl.style.display =\n",
              "          google.colab.kernel.accessAllowed ? 'block' : 'none';\n",
              "\n",
              "        async function convertToInteractive(key) {\n",
              "          const element = document.querySelector('#df-6ca767b3-1c67-4398-85cf-e2c219527007');\n",
              "          const dataTable =\n",
              "            await google.colab.kernel.invokeFunction('convertToInteractive',\n",
              "                                                     [key], {});\n",
              "          if (!dataTable) return;\n",
              "\n",
              "          const docLinkHtml = 'Like what you see? Visit the ' +\n",
              "            '<a target=\"_blank\" href=https://colab.research.google.com/notebooks/data_table.ipynb>data table notebook</a>'\n",
              "            + ' to learn more about interactive tables.';\n",
              "          element.innerHTML = '';\n",
              "          dataTable['output_type'] = 'display_data';\n",
              "          await google.colab.output.renderOutput(dataTable, element);\n",
              "          const docLink = document.createElement('div');\n",
              "          docLink.innerHTML = docLinkHtml;\n",
              "          element.appendChild(docLink);\n",
              "        }\n",
              "      </script>\n",
              "    </div>\n",
              "  </div>\n",
              "  "
            ]
          },
          "metadata": {},
          "execution_count": 23
        }
      ]
    },
    {
      "cell_type": "code",
      "source": [
        "all_df.to_csv(datapath + 'all_pos.csv', index=False)"
      ],
      "metadata": {
        "id": "9HeM99-KBW0r"
      },
      "execution_count": null,
      "outputs": []
    }
  ]
}
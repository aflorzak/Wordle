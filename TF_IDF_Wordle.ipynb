{
  "nbformat": 4,
  "nbformat_minor": 0,
  "metadata": {
    "colab": {
      "provenance": []
    },
    "kernelspec": {
      "name": "python3",
      "display_name": "Python 3"
    },
    "language_info": {
      "name": "python"
    }
  },
  "cells": [
    {
      "cell_type": "markdown",
      "source": [
        "## TF-IDF Scoring and Analysis"
      ],
      "metadata": {
        "id": "Su30FwapwUcH"
      }
    },
    {
      "cell_type": "markdown",
      "source": [
        "This notebook uses the Google Books Ngram Viewer API (https://books.google.com/ngrams/) to obtain the TF-IDF for the 12,972 5-letter words allowed in Wordle gameplay.  \n",
        "\n",
        "The input is the term list in `allowed_words.txt` and the output is the CSV file `all_tf.csv` which contains the two columns `word` and `p` where `p` is the average percentage likelihood, i.e. normalized TF-IDF, of seeing that word in the Google Ngram English language corpus over the period from 2010-2020.\n"
      ],
      "metadata": {
        "id": "ZRbWfCydTbgc"
      }
    },
    {
      "cell_type": "markdown",
      "source": [
        "### Prepare Environment\n",
        "\n",
        "Load necessary packages and set `datapath` location"
      ],
      "metadata": {
        "id": "7_VeSzk8Vrof"
      }
    },
    {
      "cell_type": "code",
      "source": [
        "import numpy as np\n",
        "import pandas as pd\n",
        "import requests\n",
        "import os"
      ],
      "metadata": {
        "id": "vGMygcNAlKtF"
      },
      "execution_count": 55,
      "outputs": []
    },
    {
      "cell_type": "markdown",
      "source": [
        "Set `GOOGLE_DRIVE = True` and adjust the datapath reference below to use Google Drive to access the data files"
      ],
      "metadata": {
        "id": "BB9CTaOeTHHh"
      }
    },
    {
      "cell_type": "code",
      "source": [
        "GOOGLE_DRIVE = True"
      ],
      "metadata": {
        "id": "raJkKFK_TLS0"
      },
      "execution_count": 56,
      "outputs": []
    },
    {
      "cell_type": "code",
      "source": [
        "if GOOGLE_DRIVE:\n",
        "  from google.colab import drive\n",
        "  drive.mount('/content/drive/')\n",
        "  datapath = '/content/drive/My Drive/Colab Notebooks/UIUC/CS_410/Wordle/data/'\n",
        "else:\n",
        "  datapath = 'data/'"
      ],
      "metadata": {
        "colab": {
          "base_uri": "https://localhost:8080/"
        },
        "id": "EU9ulHlSSwoc",
        "outputId": "b2206e25-c352-480a-86b8-3fc69e9fb4fb"
      },
      "execution_count": 57,
      "outputs": [
        {
          "output_type": "stream",
          "name": "stdout",
          "text": [
            "Drive already mounted at /content/drive/; to attempt to forcibly remount, call drive.mount(\"/content/drive/\", force_remount=True).\n"
          ]
        }
      ]
    },
    {
      "cell_type": "markdown",
      "source": [
        "### Example\n",
        "\n",
        "We will demonstrate how to use Google Ngram Viewer API on a test sample using only two words: `abyss, crate`"
      ],
      "metadata": {
        "id": "UWVaMlVfVULm"
      }
    },
    {
      "cell_type": "code",
      "source": [
        "words = ['abyss', 'crate']\n",
        "query = ','.join(word for word in words)\n",
        "year_start = 2010\n",
        "year_end = 2020"
      ],
      "metadata": {
        "id": "bo86CX0ojfts"
      },
      "execution_count": 58,
      "outputs": []
    },
    {
      "cell_type": "code",
      "source": [
        "url = 'https://books.google.com/ngrams/json?content={0}&year_start={1}&year_end={2}&corpus=26&smoothing=0'.format(query, year_start, year_end)\n",
        "r = requests.get(url)"
      ],
      "metadata": {
        "id": "f3JCHtacjFCz"
      },
      "execution_count": 59,
      "outputs": []
    },
    {
      "cell_type": "markdown",
      "source": [
        "Inspect result:"
      ],
      "metadata": {
        "id": "aKU9CM-OWXRk"
      }
    },
    {
      "cell_type": "code",
      "source": [
        "r.json()"
      ],
      "metadata": {
        "colab": {
          "base_uri": "https://localhost:8080/"
        },
        "id": "ThkxeZgambq-",
        "outputId": "0fce805c-578a-4966-e57d-00775d8fbef9"
      },
      "execution_count": 60,
      "outputs": [
        {
          "output_type": "execute_result",
          "data": {
            "text/plain": [
              "[{'ngram': 'abyss',\n",
              "  'parent': '',\n",
              "  'type': 'NGRAM',\n",
              "  'timeseries': [2.2948961486690678e-06,\n",
              "   2.331440100533655e-06,\n",
              "   2.230736527053523e-06,\n",
              "   2.389529527135892e-06,\n",
              "   2.6553443603916094e-06,\n",
              "   2.6752152280096198e-06,\n",
              "   2.7062797016697004e-06,\n",
              "   3.1142387797444826e-06,\n",
              "   3.449187715887092e-06,\n",
              "   3.261609663240961e-06]},\n",
              " {'ngram': 'crate',\n",
              "  'parent': '',\n",
              "  'type': 'NGRAM',\n",
              "  'timeseries': [1.9144608813803643e-06,\n",
              "   2.3333661829383345e-06,\n",
              "   2.157176368200453e-06,\n",
              "   1.8032590105576674e-06,\n",
              "   2.24838709073083e-06,\n",
              "   2.2294332211458823e-06,\n",
              "   2.0214131382090272e-06,\n",
              "   1.9424621768848738e-06,\n",
              "   1.84960515525745e-06,\n",
              "   1.9351048194948817e-06]}]"
            ]
          },
          "metadata": {},
          "execution_count": 60
        }
      ]
    },
    {
      "cell_type": "code",
      "source": [
        "query_tf_df = pd.DataFrame.from_dict(r.json())\n",
        "query_tf_df['p'] = query_tf_df.apply(lambda row: np.mean(row['timeseries']), axis=1)"
      ],
      "metadata": {
        "id": "Di17DAi9kGqu"
      },
      "execution_count": 61,
      "outputs": []
    },
    {
      "cell_type": "code",
      "source": [
        "query_tf_df.head(n=2)"
      ],
      "metadata": {
        "colab": {
          "base_uri": "https://localhost:8080/",
          "height": 112
        },
        "id": "AGhDn3bjkViO",
        "outputId": "d5bcd5d0-54ef-4ff5-ac89-5befd3ce2286"
      },
      "execution_count": 62,
      "outputs": [
        {
          "output_type": "execute_result",
          "data": {
            "text/plain": [
              "   ngram parent   type                                         timeseries  \\\n",
              "0  abyss         NGRAM  [2.2948961486690678e-06, 2.331440100533655e-06...   \n",
              "1  crate         NGRAM  [1.9144608813803643e-06, 2.3333661829383345e-0...   \n",
              "\n",
              "          p  \n",
              "0  0.000003  \n",
              "1  0.000002  "
            ],
            "text/html": [
              "\n",
              "  <div id=\"df-515921b6-0b1b-4dc2-9ddf-a83575cf1d89\">\n",
              "    <div class=\"colab-df-container\">\n",
              "      <div>\n",
              "<style scoped>\n",
              "    .dataframe tbody tr th:only-of-type {\n",
              "        vertical-align: middle;\n",
              "    }\n",
              "\n",
              "    .dataframe tbody tr th {\n",
              "        vertical-align: top;\n",
              "    }\n",
              "\n",
              "    .dataframe thead th {\n",
              "        text-align: right;\n",
              "    }\n",
              "</style>\n",
              "<table border=\"1\" class=\"dataframe\">\n",
              "  <thead>\n",
              "    <tr style=\"text-align: right;\">\n",
              "      <th></th>\n",
              "      <th>ngram</th>\n",
              "      <th>parent</th>\n",
              "      <th>type</th>\n",
              "      <th>timeseries</th>\n",
              "      <th>p</th>\n",
              "    </tr>\n",
              "  </thead>\n",
              "  <tbody>\n",
              "    <tr>\n",
              "      <th>0</th>\n",
              "      <td>abyss</td>\n",
              "      <td></td>\n",
              "      <td>NGRAM</td>\n",
              "      <td>[2.2948961486690678e-06, 2.331440100533655e-06...</td>\n",
              "      <td>0.000003</td>\n",
              "    </tr>\n",
              "    <tr>\n",
              "      <th>1</th>\n",
              "      <td>crate</td>\n",
              "      <td></td>\n",
              "      <td>NGRAM</td>\n",
              "      <td>[1.9144608813803643e-06, 2.3333661829383345e-0...</td>\n",
              "      <td>0.000002</td>\n",
              "    </tr>\n",
              "  </tbody>\n",
              "</table>\n",
              "</div>\n",
              "      <button class=\"colab-df-convert\" onclick=\"convertToInteractive('df-515921b6-0b1b-4dc2-9ddf-a83575cf1d89')\"\n",
              "              title=\"Convert this dataframe to an interactive table.\"\n",
              "              style=\"display:none;\">\n",
              "        \n",
              "  <svg xmlns=\"http://www.w3.org/2000/svg\" height=\"24px\"viewBox=\"0 0 24 24\"\n",
              "       width=\"24px\">\n",
              "    <path d=\"M0 0h24v24H0V0z\" fill=\"none\"/>\n",
              "    <path d=\"M18.56 5.44l.94 2.06.94-2.06 2.06-.94-2.06-.94-.94-2.06-.94 2.06-2.06.94zm-11 1L8.5 8.5l.94-2.06 2.06-.94-2.06-.94L8.5 2.5l-.94 2.06-2.06.94zm10 10l.94 2.06.94-2.06 2.06-.94-2.06-.94-.94-2.06-.94 2.06-2.06.94z\"/><path d=\"M17.41 7.96l-1.37-1.37c-.4-.4-.92-.59-1.43-.59-.52 0-1.04.2-1.43.59L10.3 9.45l-7.72 7.72c-.78.78-.78 2.05 0 2.83L4 21.41c.39.39.9.59 1.41.59.51 0 1.02-.2 1.41-.59l7.78-7.78 2.81-2.81c.8-.78.8-2.07 0-2.86zM5.41 20L4 18.59l7.72-7.72 1.47 1.35L5.41 20z\"/>\n",
              "  </svg>\n",
              "      </button>\n",
              "      \n",
              "  <style>\n",
              "    .colab-df-container {\n",
              "      display:flex;\n",
              "      flex-wrap:wrap;\n",
              "      gap: 12px;\n",
              "    }\n",
              "\n",
              "    .colab-df-convert {\n",
              "      background-color: #E8F0FE;\n",
              "      border: none;\n",
              "      border-radius: 50%;\n",
              "      cursor: pointer;\n",
              "      display: none;\n",
              "      fill: #1967D2;\n",
              "      height: 32px;\n",
              "      padding: 0 0 0 0;\n",
              "      width: 32px;\n",
              "    }\n",
              "\n",
              "    .colab-df-convert:hover {\n",
              "      background-color: #E2EBFA;\n",
              "      box-shadow: 0px 1px 2px rgba(60, 64, 67, 0.3), 0px 1px 3px 1px rgba(60, 64, 67, 0.15);\n",
              "      fill: #174EA6;\n",
              "    }\n",
              "\n",
              "    [theme=dark] .colab-df-convert {\n",
              "      background-color: #3B4455;\n",
              "      fill: #D2E3FC;\n",
              "    }\n",
              "\n",
              "    [theme=dark] .colab-df-convert:hover {\n",
              "      background-color: #434B5C;\n",
              "      box-shadow: 0px 1px 3px 1px rgba(0, 0, 0, 0.15);\n",
              "      filter: drop-shadow(0px 1px 2px rgba(0, 0, 0, 0.3));\n",
              "      fill: #FFFFFF;\n",
              "    }\n",
              "  </style>\n",
              "\n",
              "      <script>\n",
              "        const buttonEl =\n",
              "          document.querySelector('#df-515921b6-0b1b-4dc2-9ddf-a83575cf1d89 button.colab-df-convert');\n",
              "        buttonEl.style.display =\n",
              "          google.colab.kernel.accessAllowed ? 'block' : 'none';\n",
              "\n",
              "        async function convertToInteractive(key) {\n",
              "          const element = document.querySelector('#df-515921b6-0b1b-4dc2-9ddf-a83575cf1d89');\n",
              "          const dataTable =\n",
              "            await google.colab.kernel.invokeFunction('convertToInteractive',\n",
              "                                                     [key], {});\n",
              "          if (!dataTable) return;\n",
              "\n",
              "          const docLinkHtml = 'Like what you see? Visit the ' +\n",
              "            '<a target=\"_blank\" href=https://colab.research.google.com/notebooks/data_table.ipynb>data table notebook</a>'\n",
              "            + ' to learn more about interactive tables.';\n",
              "          element.innerHTML = '';\n",
              "          dataTable['output_type'] = 'display_data';\n",
              "          await google.colab.output.renderOutput(dataTable, element);\n",
              "          const docLink = document.createElement('div');\n",
              "          docLink.innerHTML = docLinkHtml;\n",
              "          element.appendChild(docLink);\n",
              "        }\n",
              "      </script>\n",
              "    </div>\n",
              "  </div>\n",
              "  "
            ]
          },
          "metadata": {},
          "execution_count": 62
        }
      ]
    },
    {
      "cell_type": "markdown",
      "source": [
        "### Prepare Words"
      ],
      "metadata": {
        "id": "_6wH64xiWeK4"
      }
    },
    {
      "cell_type": "code",
      "source": [
        "with open(datapath + \"allowed_words.txt\", \"r\") as fin:\n",
        "  all_words = fin.read().splitlines()"
      ],
      "metadata": {
        "id": "dI0d-_E1hz_z"
      },
      "execution_count": 63,
      "outputs": []
    },
    {
      "cell_type": "code",
      "source": [
        "n_words = len(all_words)\n",
        "n_words"
      ],
      "metadata": {
        "colab": {
          "base_uri": "https://localhost:8080/"
        },
        "id": "5VVLum20nPTQ",
        "outputId": "a5431e76-87be-4b41-b7b4-c9c77e077738"
      },
      "execution_count": 64,
      "outputs": [
        {
          "output_type": "execute_result",
          "data": {
            "text/plain": [
              "12972"
            ]
          },
          "metadata": {},
          "execution_count": 64
        }
      ]
    },
    {
      "cell_type": "markdown",
      "source": [
        "The Gooogle Ngram Viewer API did not permit the full word list in a single API call, so we need to chunk the word list into batches of size 500 words."
      ],
      "metadata": {
        "id": "aKgiiAxoUYxa"
      }
    },
    {
      "cell_type": "code",
      "source": [
        "batch_size = 500\n",
        "n_batches = n_words//batch_size + 1\n",
        "n_batches"
      ],
      "metadata": {
        "colab": {
          "base_uri": "https://localhost:8080/"
        },
        "id": "OK5MeNOEnTEB",
        "outputId": "714685ce-aa37-4fe4-ea4c-d3569ee16ceb"
      },
      "execution_count": 65,
      "outputs": [
        {
          "output_type": "execute_result",
          "data": {
            "text/plain": [
              "26"
            ]
          },
          "metadata": {},
          "execution_count": 65
        }
      ]
    },
    {
      "cell_type": "code",
      "source": [
        "queries = []\n",
        "\n",
        "for i in range(n_batches):\n",
        "  queries.append(','.join(word for word in all_words[i*batch_size:(i*batch_size + batch_size)]))"
      ],
      "metadata": {
        "id": "xhEpo59Xnlee"
      },
      "execution_count": 66,
      "outputs": []
    },
    {
      "cell_type": "code",
      "source": [
        "queries[0][:89]"
      ],
      "metadata": {
        "colab": {
          "base_uri": "https://localhost:8080/",
          "height": 35
        },
        "id": "LwbMuC5Zn_Sg",
        "outputId": "7badfbd2-bc2a-4a4a-bda4-6c661be7773f"
      },
      "execution_count": 67,
      "outputs": [
        {
          "output_type": "execute_result",
          "data": {
            "text/plain": [
              "'aahed,aalii,aargh,aarti,abaca,abaci,aback,abacs,abaft,abaka,abamp,aband,abase,abash,abask'"
            ],
            "application/vnd.google.colaboratory.intrinsic+json": {
              "type": "string"
            }
          },
          "metadata": {},
          "execution_count": 67
        }
      ]
    },
    {
      "cell_type": "code",
      "source": [
        "queries[-1][-89:]"
      ],
      "metadata": {
        "colab": {
          "base_uri": "https://localhost:8080/",
          "height": 35
        },
        "id": "hljK9NEZybiK",
        "outputId": "375a89b2-0ff0-4fea-886e-69a0b4ebced8"
      },
      "execution_count": 68,
      "outputs": [
        {
          "output_type": "execute_result",
          "data": {
            "text/plain": [
              "'zoris,zorro,zouks,zowee,zowie,zulus,zupan,zupas,zuppa,zurfs,zuzim,zygal,zygon,zymes,zymic'"
            ],
            "application/vnd.google.colaboratory.intrinsic+json": {
              "type": "string"
            }
          },
          "metadata": {},
          "execution_count": 68
        }
      ]
    },
    {
      "cell_type": "markdown",
      "source": [
        "### Run Queries"
      ],
      "metadata": {
        "id": "8XfzP2iZYHn-"
      }
    },
    {
      "cell_type": "markdown",
      "source": [
        "The Google Books Ngram Viewer API calls take a significant amount of time to run (~1 hour on Colab).\n",
        "\n",
        "- Set `REFRESH_TF = True` to generate a new job and run the queries.\n",
        "- Set `REFRESH_TF = False` to check for `all_tf.csv` and use previous TF-IDF results."
      ],
      "metadata": {
        "id": "V4jbG_3xUsV8"
      }
    },
    {
      "cell_type": "code",
      "source": [
        "REFRESH_TF = False"
      ],
      "metadata": {
        "id": "B0eRqUuQU-mL"
      },
      "execution_count": 77,
      "outputs": []
    },
    {
      "cell_type": "code",
      "source": [
        "def getNgramTf(queries, year_start, year_end):\n",
        "  queries_tf = []\n",
        "\n",
        "  for query in queries:\n",
        "    url = 'https://books.google.com/ngrams/json?content={0}&year_start={1}&year_end={2}&corpus=26&smoothing=0'.format(query, year_start, year_end)\n",
        "    r = requests.get(url)\n",
        "\n",
        "    query_tf_df = pd.DataFrame.from_dict(r.json())\n",
        "    query_tf_df['p'] = query_tf_df.apply(lambda row: np.mean(row['timeseries']), axis=1)\n",
        "    queries_tf.append(query_tf_df[['ngram', 'p']])\n",
        "        \n",
        "  words_tf = pd.concat(queries_tf, ignore_index=True, axis=0).reset_index(drop=True)\n",
        "  words_tf.rename(columns={'ngram':'word'}, inplace=True)\n",
        "  \n",
        "  return words_tf"
      ],
      "metadata": {
        "id": "XtKlWa5zlACq"
      },
      "execution_count": 78,
      "outputs": []
    },
    {
      "cell_type": "code",
      "metadata": {
        "id": "6bNWIntvEBJI"
      },
      "source": [
        "tf_file = datapath + 'all_tf.csv'"
      ],
      "execution_count": 79,
      "outputs": []
    },
    {
      "cell_type": "code",
      "metadata": {
        "colab": {
          "base_uri": "https://localhost:8080/"
        },
        "id": "TmYXvJzmEBJI",
        "outputId": "56add258-7805-4729-e946-1f8df970dd3f"
      },
      "source": [
        "if REFRESH_TF or not os.path.exists(tf_file):\n",
        "  print('Getting data...')\n",
        "  words_tf = getNgramTf(queries, 2010, 2020)\n",
        "else:\n",
        "  words_tf = pd.read_csv(tf_file)\n",
        "\n",
        "print('Done!')"
      ],
      "execution_count": 80,
      "outputs": [
        {
          "output_type": "stream",
          "name": "stdout",
          "text": [
            "Getting data...\n",
            "Done!\n"
          ]
        }
      ]
    },
    {
      "cell_type": "code",
      "source": [
        "words_tf.shape"
      ],
      "metadata": {
        "colab": {
          "base_uri": "https://localhost:8080/"
        },
        "id": "Fl7d1nvM84Jr",
        "outputId": "df208d10-7287-4d5e-e6cc-0df7936a18cb"
      },
      "execution_count": 81,
      "outputs": [
        {
          "output_type": "execute_result",
          "data": {
            "text/plain": [
              "(12901, 2)"
            ]
          },
          "metadata": {},
          "execution_count": 81
        }
      ]
    },
    {
      "cell_type": "code",
      "source": [
        "words_tf.head(n=10)"
      ],
      "metadata": {
        "colab": {
          "base_uri": "https://localhost:8080/",
          "height": 363
        },
        "id": "SVZHdk5A9V3T",
        "outputId": "9857736b-0d35-46ac-b670-065c8aef73a4"
      },
      "execution_count": 82,
      "outputs": [
        {
          "output_type": "execute_result",
          "data": {
            "text/plain": [
              "    word             p\n",
              "0  aahed  4.629283e-08\n",
              "1  aalii  3.594560e-10\n",
              "2  aargh  4.751212e-09\n",
              "3  aarti  1.331110e-08\n",
              "4  abaca  2.638774e-08\n",
              "5  abaci  1.290335e-08\n",
              "6  aback  2.593479e-06\n",
              "7  abacs  7.097529e-11\n",
              "8  abaft  1.051571e-07\n",
              "9  abaka  9.413733e-10"
            ],
            "text/html": [
              "\n",
              "  <div id=\"df-ae9a2e6c-27d9-4865-a681-7c7280e64592\">\n",
              "    <div class=\"colab-df-container\">\n",
              "      <div>\n",
              "<style scoped>\n",
              "    .dataframe tbody tr th:only-of-type {\n",
              "        vertical-align: middle;\n",
              "    }\n",
              "\n",
              "    .dataframe tbody tr th {\n",
              "        vertical-align: top;\n",
              "    }\n",
              "\n",
              "    .dataframe thead th {\n",
              "        text-align: right;\n",
              "    }\n",
              "</style>\n",
              "<table border=\"1\" class=\"dataframe\">\n",
              "  <thead>\n",
              "    <tr style=\"text-align: right;\">\n",
              "      <th></th>\n",
              "      <th>word</th>\n",
              "      <th>p</th>\n",
              "    </tr>\n",
              "  </thead>\n",
              "  <tbody>\n",
              "    <tr>\n",
              "      <th>0</th>\n",
              "      <td>aahed</td>\n",
              "      <td>4.629283e-08</td>\n",
              "    </tr>\n",
              "    <tr>\n",
              "      <th>1</th>\n",
              "      <td>aalii</td>\n",
              "      <td>3.594560e-10</td>\n",
              "    </tr>\n",
              "    <tr>\n",
              "      <th>2</th>\n",
              "      <td>aargh</td>\n",
              "      <td>4.751212e-09</td>\n",
              "    </tr>\n",
              "    <tr>\n",
              "      <th>3</th>\n",
              "      <td>aarti</td>\n",
              "      <td>1.331110e-08</td>\n",
              "    </tr>\n",
              "    <tr>\n",
              "      <th>4</th>\n",
              "      <td>abaca</td>\n",
              "      <td>2.638774e-08</td>\n",
              "    </tr>\n",
              "    <tr>\n",
              "      <th>5</th>\n",
              "      <td>abaci</td>\n",
              "      <td>1.290335e-08</td>\n",
              "    </tr>\n",
              "    <tr>\n",
              "      <th>6</th>\n",
              "      <td>aback</td>\n",
              "      <td>2.593479e-06</td>\n",
              "    </tr>\n",
              "    <tr>\n",
              "      <th>7</th>\n",
              "      <td>abacs</td>\n",
              "      <td>7.097529e-11</td>\n",
              "    </tr>\n",
              "    <tr>\n",
              "      <th>8</th>\n",
              "      <td>abaft</td>\n",
              "      <td>1.051571e-07</td>\n",
              "    </tr>\n",
              "    <tr>\n",
              "      <th>9</th>\n",
              "      <td>abaka</td>\n",
              "      <td>9.413733e-10</td>\n",
              "    </tr>\n",
              "  </tbody>\n",
              "</table>\n",
              "</div>\n",
              "      <button class=\"colab-df-convert\" onclick=\"convertToInteractive('df-ae9a2e6c-27d9-4865-a681-7c7280e64592')\"\n",
              "              title=\"Convert this dataframe to an interactive table.\"\n",
              "              style=\"display:none;\">\n",
              "        \n",
              "  <svg xmlns=\"http://www.w3.org/2000/svg\" height=\"24px\"viewBox=\"0 0 24 24\"\n",
              "       width=\"24px\">\n",
              "    <path d=\"M0 0h24v24H0V0z\" fill=\"none\"/>\n",
              "    <path d=\"M18.56 5.44l.94 2.06.94-2.06 2.06-.94-2.06-.94-.94-2.06-.94 2.06-2.06.94zm-11 1L8.5 8.5l.94-2.06 2.06-.94-2.06-.94L8.5 2.5l-.94 2.06-2.06.94zm10 10l.94 2.06.94-2.06 2.06-.94-2.06-.94-.94-2.06-.94 2.06-2.06.94z\"/><path d=\"M17.41 7.96l-1.37-1.37c-.4-.4-.92-.59-1.43-.59-.52 0-1.04.2-1.43.59L10.3 9.45l-7.72 7.72c-.78.78-.78 2.05 0 2.83L4 21.41c.39.39.9.59 1.41.59.51 0 1.02-.2 1.41-.59l7.78-7.78 2.81-2.81c.8-.78.8-2.07 0-2.86zM5.41 20L4 18.59l7.72-7.72 1.47 1.35L5.41 20z\"/>\n",
              "  </svg>\n",
              "      </button>\n",
              "      \n",
              "  <style>\n",
              "    .colab-df-container {\n",
              "      display:flex;\n",
              "      flex-wrap:wrap;\n",
              "      gap: 12px;\n",
              "    }\n",
              "\n",
              "    .colab-df-convert {\n",
              "      background-color: #E8F0FE;\n",
              "      border: none;\n",
              "      border-radius: 50%;\n",
              "      cursor: pointer;\n",
              "      display: none;\n",
              "      fill: #1967D2;\n",
              "      height: 32px;\n",
              "      padding: 0 0 0 0;\n",
              "      width: 32px;\n",
              "    }\n",
              "\n",
              "    .colab-df-convert:hover {\n",
              "      background-color: #E2EBFA;\n",
              "      box-shadow: 0px 1px 2px rgba(60, 64, 67, 0.3), 0px 1px 3px 1px rgba(60, 64, 67, 0.15);\n",
              "      fill: #174EA6;\n",
              "    }\n",
              "\n",
              "    [theme=dark] .colab-df-convert {\n",
              "      background-color: #3B4455;\n",
              "      fill: #D2E3FC;\n",
              "    }\n",
              "\n",
              "    [theme=dark] .colab-df-convert:hover {\n",
              "      background-color: #434B5C;\n",
              "      box-shadow: 0px 1px 3px 1px rgba(0, 0, 0, 0.15);\n",
              "      filter: drop-shadow(0px 1px 2px rgba(0, 0, 0, 0.3));\n",
              "      fill: #FFFFFF;\n",
              "    }\n",
              "  </style>\n",
              "\n",
              "      <script>\n",
              "        const buttonEl =\n",
              "          document.querySelector('#df-ae9a2e6c-27d9-4865-a681-7c7280e64592 button.colab-df-convert');\n",
              "        buttonEl.style.display =\n",
              "          google.colab.kernel.accessAllowed ? 'block' : 'none';\n",
              "\n",
              "        async function convertToInteractive(key) {\n",
              "          const element = document.querySelector('#df-ae9a2e6c-27d9-4865-a681-7c7280e64592');\n",
              "          const dataTable =\n",
              "            await google.colab.kernel.invokeFunction('convertToInteractive',\n",
              "                                                     [key], {});\n",
              "          if (!dataTable) return;\n",
              "\n",
              "          const docLinkHtml = 'Like what you see? Visit the ' +\n",
              "            '<a target=\"_blank\" href=https://colab.research.google.com/notebooks/data_table.ipynb>data table notebook</a>'\n",
              "            + ' to learn more about interactive tables.';\n",
              "          element.innerHTML = '';\n",
              "          dataTable['output_type'] = 'display_data';\n",
              "          await google.colab.output.renderOutput(dataTable, element);\n",
              "          const docLink = document.createElement('div');\n",
              "          docLink.innerHTML = docLinkHtml;\n",
              "          element.appendChild(docLink);\n",
              "        }\n",
              "      </script>\n",
              "    </div>\n",
              "  </div>\n",
              "  "
            ]
          },
          "metadata": {},
          "execution_count": 82
        }
      ]
    },
    {
      "cell_type": "code",
      "source": [
        "words_tf.tail(n=10)"
      ],
      "metadata": {
        "colab": {
          "base_uri": "https://localhost:8080/",
          "height": 363
        },
        "id": "Kf-rL_9q9ZFL",
        "outputId": "f50d8616-742f-463e-9d53-0e42de186738"
      },
      "execution_count": 83,
      "outputs": [
        {
          "output_type": "execute_result",
          "data": {
            "text/plain": [
              "        word             p\n",
              "12891  zulus  7.271149e-10\n",
              "12892  zupan  1.311660e-09\n",
              "12893  zupas  5.376945e-11\n",
              "12894  zuppa  1.702100e-08\n",
              "12895  zurfs  3.662510e-11\n",
              "12896  zuzim  2.757089e-09\n",
              "12897  zygal  2.307935e-10\n",
              "12898  zygon  1.668479e-09\n",
              "12899  zymes  7.890288e-09\n",
              "12900  zymic  1.525064e-10"
            ],
            "text/html": [
              "\n",
              "  <div id=\"df-d0401132-8fb0-4886-a65c-5a797c031240\">\n",
              "    <div class=\"colab-df-container\">\n",
              "      <div>\n",
              "<style scoped>\n",
              "    .dataframe tbody tr th:only-of-type {\n",
              "        vertical-align: middle;\n",
              "    }\n",
              "\n",
              "    .dataframe tbody tr th {\n",
              "        vertical-align: top;\n",
              "    }\n",
              "\n",
              "    .dataframe thead th {\n",
              "        text-align: right;\n",
              "    }\n",
              "</style>\n",
              "<table border=\"1\" class=\"dataframe\">\n",
              "  <thead>\n",
              "    <tr style=\"text-align: right;\">\n",
              "      <th></th>\n",
              "      <th>word</th>\n",
              "      <th>p</th>\n",
              "    </tr>\n",
              "  </thead>\n",
              "  <tbody>\n",
              "    <tr>\n",
              "      <th>12891</th>\n",
              "      <td>zulus</td>\n",
              "      <td>7.271149e-10</td>\n",
              "    </tr>\n",
              "    <tr>\n",
              "      <th>12892</th>\n",
              "      <td>zupan</td>\n",
              "      <td>1.311660e-09</td>\n",
              "    </tr>\n",
              "    <tr>\n",
              "      <th>12893</th>\n",
              "      <td>zupas</td>\n",
              "      <td>5.376945e-11</td>\n",
              "    </tr>\n",
              "    <tr>\n",
              "      <th>12894</th>\n",
              "      <td>zuppa</td>\n",
              "      <td>1.702100e-08</td>\n",
              "    </tr>\n",
              "    <tr>\n",
              "      <th>12895</th>\n",
              "      <td>zurfs</td>\n",
              "      <td>3.662510e-11</td>\n",
              "    </tr>\n",
              "    <tr>\n",
              "      <th>12896</th>\n",
              "      <td>zuzim</td>\n",
              "      <td>2.757089e-09</td>\n",
              "    </tr>\n",
              "    <tr>\n",
              "      <th>12897</th>\n",
              "      <td>zygal</td>\n",
              "      <td>2.307935e-10</td>\n",
              "    </tr>\n",
              "    <tr>\n",
              "      <th>12898</th>\n",
              "      <td>zygon</td>\n",
              "      <td>1.668479e-09</td>\n",
              "    </tr>\n",
              "    <tr>\n",
              "      <th>12899</th>\n",
              "      <td>zymes</td>\n",
              "      <td>7.890288e-09</td>\n",
              "    </tr>\n",
              "    <tr>\n",
              "      <th>12900</th>\n",
              "      <td>zymic</td>\n",
              "      <td>1.525064e-10</td>\n",
              "    </tr>\n",
              "  </tbody>\n",
              "</table>\n",
              "</div>\n",
              "      <button class=\"colab-df-convert\" onclick=\"convertToInteractive('df-d0401132-8fb0-4886-a65c-5a797c031240')\"\n",
              "              title=\"Convert this dataframe to an interactive table.\"\n",
              "              style=\"display:none;\">\n",
              "        \n",
              "  <svg xmlns=\"http://www.w3.org/2000/svg\" height=\"24px\"viewBox=\"0 0 24 24\"\n",
              "       width=\"24px\">\n",
              "    <path d=\"M0 0h24v24H0V0z\" fill=\"none\"/>\n",
              "    <path d=\"M18.56 5.44l.94 2.06.94-2.06 2.06-.94-2.06-.94-.94-2.06-.94 2.06-2.06.94zm-11 1L8.5 8.5l.94-2.06 2.06-.94-2.06-.94L8.5 2.5l-.94 2.06-2.06.94zm10 10l.94 2.06.94-2.06 2.06-.94-2.06-.94-.94-2.06-.94 2.06-2.06.94z\"/><path d=\"M17.41 7.96l-1.37-1.37c-.4-.4-.92-.59-1.43-.59-.52 0-1.04.2-1.43.59L10.3 9.45l-7.72 7.72c-.78.78-.78 2.05 0 2.83L4 21.41c.39.39.9.59 1.41.59.51 0 1.02-.2 1.41-.59l7.78-7.78 2.81-2.81c.8-.78.8-2.07 0-2.86zM5.41 20L4 18.59l7.72-7.72 1.47 1.35L5.41 20z\"/>\n",
              "  </svg>\n",
              "      </button>\n",
              "      \n",
              "  <style>\n",
              "    .colab-df-container {\n",
              "      display:flex;\n",
              "      flex-wrap:wrap;\n",
              "      gap: 12px;\n",
              "    }\n",
              "\n",
              "    .colab-df-convert {\n",
              "      background-color: #E8F0FE;\n",
              "      border: none;\n",
              "      border-radius: 50%;\n",
              "      cursor: pointer;\n",
              "      display: none;\n",
              "      fill: #1967D2;\n",
              "      height: 32px;\n",
              "      padding: 0 0 0 0;\n",
              "      width: 32px;\n",
              "    }\n",
              "\n",
              "    .colab-df-convert:hover {\n",
              "      background-color: #E2EBFA;\n",
              "      box-shadow: 0px 1px 2px rgba(60, 64, 67, 0.3), 0px 1px 3px 1px rgba(60, 64, 67, 0.15);\n",
              "      fill: #174EA6;\n",
              "    }\n",
              "\n",
              "    [theme=dark] .colab-df-convert {\n",
              "      background-color: #3B4455;\n",
              "      fill: #D2E3FC;\n",
              "    }\n",
              "\n",
              "    [theme=dark] .colab-df-convert:hover {\n",
              "      background-color: #434B5C;\n",
              "      box-shadow: 0px 1px 3px 1px rgba(0, 0, 0, 0.15);\n",
              "      filter: drop-shadow(0px 1px 2px rgba(0, 0, 0, 0.3));\n",
              "      fill: #FFFFFF;\n",
              "    }\n",
              "  </style>\n",
              "\n",
              "      <script>\n",
              "        const buttonEl =\n",
              "          document.querySelector('#df-d0401132-8fb0-4886-a65c-5a797c031240 button.colab-df-convert');\n",
              "        buttonEl.style.display =\n",
              "          google.colab.kernel.accessAllowed ? 'block' : 'none';\n",
              "\n",
              "        async function convertToInteractive(key) {\n",
              "          const element = document.querySelector('#df-d0401132-8fb0-4886-a65c-5a797c031240');\n",
              "          const dataTable =\n",
              "            await google.colab.kernel.invokeFunction('convertToInteractive',\n",
              "                                                     [key], {});\n",
              "          if (!dataTable) return;\n",
              "\n",
              "          const docLinkHtml = 'Like what you see? Visit the ' +\n",
              "            '<a target=\"_blank\" href=https://colab.research.google.com/notebooks/data_table.ipynb>data table notebook</a>'\n",
              "            + ' to learn more about interactive tables.';\n",
              "          element.innerHTML = '';\n",
              "          dataTable['output_type'] = 'display_data';\n",
              "          await google.colab.output.renderOutput(dataTable, element);\n",
              "          const docLink = document.createElement('div');\n",
              "          docLink.innerHTML = docLinkHtml;\n",
              "          element.appendChild(docLink);\n",
              "        }\n",
              "      </script>\n",
              "    </div>\n",
              "  </div>\n",
              "  "
            ]
          },
          "metadata": {},
          "execution_count": 83
        }
      ]
    },
    {
      "cell_type": "markdown",
      "source": [
        "### TF-IDF Analysis"
      ],
      "metadata": {
        "id": "OhG8yKej9OCn"
      }
    },
    {
      "cell_type": "code",
      "source": [
        "with open(datapath + \"past_words.txt\", \"r\") as fin:\n",
        "  past_words = fin.read().splitlines()\n",
        "\n",
        "len(past_words)"
      ],
      "metadata": {
        "colab": {
          "base_uri": "https://localhost:8080/"
        },
        "id": "yZ1S2DNK9kjC",
        "outputId": "602c5ef3-73b7-41fe-a238-c7dae86ad785"
      },
      "execution_count": 88,
      "outputs": [
        {
          "output_type": "execute_result",
          "data": {
            "text/plain": [
              "509"
            ]
          },
          "metadata": {},
          "execution_count": 88
        }
      ]
    },
    {
      "cell_type": "code",
      "source": [
        "past_tf = words_tf.loc[words_tf['word'].isin(past_words)]\n",
        "\n",
        "len(past_tf)"
      ],
      "metadata": {
        "colab": {
          "base_uri": "https://localhost:8080/"
        },
        "id": "hXsPQ82r9Tdo",
        "outputId": "d8a0c67c-1f69-4a43-c6ae-2799fdfe48b5"
      },
      "execution_count": 89,
      "outputs": [
        {
          "output_type": "execute_result",
          "data": {
            "text/plain": [
              "509"
            ]
          },
          "metadata": {},
          "execution_count": 89
        }
      ]
    },
    {
      "cell_type": "code",
      "source": [
        "tf_df = pd.DataFrame({'past_tf':past_tf['p'].describe(), 'all_tf':words_tf['p'].describe()})\n",
        "tf_df"
      ],
      "metadata": {
        "colab": {
          "base_uri": "https://localhost:8080/",
          "height": 300
        },
        "id": "gvScmfM2-qQ5",
        "outputId": "f732139e-7513-47fb-ddf8-3062762accfa"
      },
      "execution_count": 93,
      "outputs": [
        {
          "output_type": "execute_result",
          "data": {
            "text/plain": [
              "            past_tf        all_tf\n",
              "count  5.090000e+02  1.290100e+04\n",
              "mean   3.224554e-05  5.337240e-06\n",
              "std    1.321954e-04  4.594543e-05\n",
              "min    1.070396e-08  3.737900e-12\n",
              "25%    6.549039e-07  2.002063e-09\n",
              "50%    2.550427e-06  1.864217e-08\n",
              "75%    1.465864e-05  3.377631e-07\n",
              "max    1.927869e-03  1.990731e-03"
            ],
            "text/html": [
              "\n",
              "  <div id=\"df-91fbd0d8-5388-4a2e-8f0c-5f8a3a68eda8\">\n",
              "    <div class=\"colab-df-container\">\n",
              "      <div>\n",
              "<style scoped>\n",
              "    .dataframe tbody tr th:only-of-type {\n",
              "        vertical-align: middle;\n",
              "    }\n",
              "\n",
              "    .dataframe tbody tr th {\n",
              "        vertical-align: top;\n",
              "    }\n",
              "\n",
              "    .dataframe thead th {\n",
              "        text-align: right;\n",
              "    }\n",
              "</style>\n",
              "<table border=\"1\" class=\"dataframe\">\n",
              "  <thead>\n",
              "    <tr style=\"text-align: right;\">\n",
              "      <th></th>\n",
              "      <th>past_tf</th>\n",
              "      <th>all_tf</th>\n",
              "    </tr>\n",
              "  </thead>\n",
              "  <tbody>\n",
              "    <tr>\n",
              "      <th>count</th>\n",
              "      <td>5.090000e+02</td>\n",
              "      <td>1.290100e+04</td>\n",
              "    </tr>\n",
              "    <tr>\n",
              "      <th>mean</th>\n",
              "      <td>3.224554e-05</td>\n",
              "      <td>5.337240e-06</td>\n",
              "    </tr>\n",
              "    <tr>\n",
              "      <th>std</th>\n",
              "      <td>1.321954e-04</td>\n",
              "      <td>4.594543e-05</td>\n",
              "    </tr>\n",
              "    <tr>\n",
              "      <th>min</th>\n",
              "      <td>1.070396e-08</td>\n",
              "      <td>3.737900e-12</td>\n",
              "    </tr>\n",
              "    <tr>\n",
              "      <th>25%</th>\n",
              "      <td>6.549039e-07</td>\n",
              "      <td>2.002063e-09</td>\n",
              "    </tr>\n",
              "    <tr>\n",
              "      <th>50%</th>\n",
              "      <td>2.550427e-06</td>\n",
              "      <td>1.864217e-08</td>\n",
              "    </tr>\n",
              "    <tr>\n",
              "      <th>75%</th>\n",
              "      <td>1.465864e-05</td>\n",
              "      <td>3.377631e-07</td>\n",
              "    </tr>\n",
              "    <tr>\n",
              "      <th>max</th>\n",
              "      <td>1.927869e-03</td>\n",
              "      <td>1.990731e-03</td>\n",
              "    </tr>\n",
              "  </tbody>\n",
              "</table>\n",
              "</div>\n",
              "      <button class=\"colab-df-convert\" onclick=\"convertToInteractive('df-91fbd0d8-5388-4a2e-8f0c-5f8a3a68eda8')\"\n",
              "              title=\"Convert this dataframe to an interactive table.\"\n",
              "              style=\"display:none;\">\n",
              "        \n",
              "  <svg xmlns=\"http://www.w3.org/2000/svg\" height=\"24px\"viewBox=\"0 0 24 24\"\n",
              "       width=\"24px\">\n",
              "    <path d=\"M0 0h24v24H0V0z\" fill=\"none\"/>\n",
              "    <path d=\"M18.56 5.44l.94 2.06.94-2.06 2.06-.94-2.06-.94-.94-2.06-.94 2.06-2.06.94zm-11 1L8.5 8.5l.94-2.06 2.06-.94-2.06-.94L8.5 2.5l-.94 2.06-2.06.94zm10 10l.94 2.06.94-2.06 2.06-.94-2.06-.94-.94-2.06-.94 2.06-2.06.94z\"/><path d=\"M17.41 7.96l-1.37-1.37c-.4-.4-.92-.59-1.43-.59-.52 0-1.04.2-1.43.59L10.3 9.45l-7.72 7.72c-.78.78-.78 2.05 0 2.83L4 21.41c.39.39.9.59 1.41.59.51 0 1.02-.2 1.41-.59l7.78-7.78 2.81-2.81c.8-.78.8-2.07 0-2.86zM5.41 20L4 18.59l7.72-7.72 1.47 1.35L5.41 20z\"/>\n",
              "  </svg>\n",
              "      </button>\n",
              "      \n",
              "  <style>\n",
              "    .colab-df-container {\n",
              "      display:flex;\n",
              "      flex-wrap:wrap;\n",
              "      gap: 12px;\n",
              "    }\n",
              "\n",
              "    .colab-df-convert {\n",
              "      background-color: #E8F0FE;\n",
              "      border: none;\n",
              "      border-radius: 50%;\n",
              "      cursor: pointer;\n",
              "      display: none;\n",
              "      fill: #1967D2;\n",
              "      height: 32px;\n",
              "      padding: 0 0 0 0;\n",
              "      width: 32px;\n",
              "    }\n",
              "\n",
              "    .colab-df-convert:hover {\n",
              "      background-color: #E2EBFA;\n",
              "      box-shadow: 0px 1px 2px rgba(60, 64, 67, 0.3), 0px 1px 3px 1px rgba(60, 64, 67, 0.15);\n",
              "      fill: #174EA6;\n",
              "    }\n",
              "\n",
              "    [theme=dark] .colab-df-convert {\n",
              "      background-color: #3B4455;\n",
              "      fill: #D2E3FC;\n",
              "    }\n",
              "\n",
              "    [theme=dark] .colab-df-convert:hover {\n",
              "      background-color: #434B5C;\n",
              "      box-shadow: 0px 1px 3px 1px rgba(0, 0, 0, 0.15);\n",
              "      filter: drop-shadow(0px 1px 2px rgba(0, 0, 0, 0.3));\n",
              "      fill: #FFFFFF;\n",
              "    }\n",
              "  </style>\n",
              "\n",
              "      <script>\n",
              "        const buttonEl =\n",
              "          document.querySelector('#df-91fbd0d8-5388-4a2e-8f0c-5f8a3a68eda8 button.colab-df-convert');\n",
              "        buttonEl.style.display =\n",
              "          google.colab.kernel.accessAllowed ? 'block' : 'none';\n",
              "\n",
              "        async function convertToInteractive(key) {\n",
              "          const element = document.querySelector('#df-91fbd0d8-5388-4a2e-8f0c-5f8a3a68eda8');\n",
              "          const dataTable =\n",
              "            await google.colab.kernel.invokeFunction('convertToInteractive',\n",
              "                                                     [key], {});\n",
              "          if (!dataTable) return;\n",
              "\n",
              "          const docLinkHtml = 'Like what you see? Visit the ' +\n",
              "            '<a target=\"_blank\" href=https://colab.research.google.com/notebooks/data_table.ipynb>data table notebook</a>'\n",
              "            + ' to learn more about interactive tables.';\n",
              "          element.innerHTML = '';\n",
              "          dataTable['output_type'] = 'display_data';\n",
              "          await google.colab.output.renderOutput(dataTable, element);\n",
              "          const docLink = document.createElement('div');\n",
              "          docLink.innerHTML = docLinkHtml;\n",
              "          element.appendChild(docLink);\n",
              "        }\n",
              "      </script>\n",
              "    </div>\n",
              "  </div>\n",
              "  "
            ]
          },
          "metadata": {},
          "execution_count": 93
        }
      ]
    },
    {
      "cell_type": "code",
      "source": [
        "tf_df.loc['mean']['past_tf']/tf_df.loc['mean']['all_tf']"
      ],
      "metadata": {
        "colab": {
          "base_uri": "https://localhost:8080/"
        },
        "id": "bgOAkuNe98wq",
        "outputId": "cba9da1f-475d-4a74-b6cb-c7d822f4bc03"
      },
      "execution_count": 95,
      "outputs": [
        {
          "output_type": "execute_result",
          "data": {
            "text/plain": [
              "6.041613922275527"
            ]
          },
          "metadata": {},
          "execution_count": 95
        }
      ]
    },
    {
      "cell_type": "markdown",
      "source": [
        "Comparing the frequency distributions, one interesting finding is that past Wordle solution words have an average TF-IDF likelihood score that is 6x higher than the average among allowable Wordle gameplay words, meaning that more common words are much more likely to be Wordle solutions."
      ],
      "metadata": {
        "id": "UzOP4IPX_IDW"
      }
    },
    {
      "cell_type": "markdown",
      "source": [
        "### Process Results"
      ],
      "metadata": {
        "id": "dr9Mg7bbYRrw"
      }
    },
    {
      "cell_type": "markdown",
      "source": [
        "If Google Ngram Viewer does not contain results for a particular word, it will be excluded from the results.  Here we check for any missing words from the API calls:"
      ],
      "metadata": {
        "id": "vtNq5gI4W0d-"
      }
    },
    {
      "cell_type": "code",
      "source": [
        "if REFRESH_TF or not os.path.exists(tf_file):\n",
        "  print('Processing results...')\n",
        "\n",
        "  missing_words = []\n",
        "\n",
        "  # identify the missing words in words_tf\n",
        "  for word in all_words:\n",
        "    if len(words_tf.loc[words_tf['word'] == word]) == 0:\n",
        "      missing_words.append(word)\n",
        "\n",
        "  print('Missing words: ', ', '.join(word for word in missing_words))\n",
        "\n",
        "  # assign zero probability to the missing words in missing_tf\n",
        "  missing_tf = pd.DataFrame({'word':missing_words, 'p':[0]*len(missing_words)})\n",
        "  missing_tf\n",
        "\n",
        "  # merge the two dataframes as all_tf and sort alphabetically\n",
        "  all_tf = pd.concat([words_tf, missing_tf], ignore_index=True, axis=0).reset_index(drop=True)\n",
        "  all_tf.sort_values('word', inplace=True)\n",
        "\n",
        "  # save the output file as all_tf.csv so it can be used by the Wordle strategy tool\n",
        "  all_tf.to_csv(datapath + 'all_tf.csv', index=False)\n",
        "\n",
        "  print('Done!')"
      ],
      "metadata": {
        "colab": {
          "base_uri": "https://localhost:8080/"
        },
        "id": "16v4-PcM9jrE",
        "outputId": "ccae2dd4-4bb4-4416-f512-11a32db8a8f0"
      },
      "execution_count": 84,
      "outputs": [
        {
          "output_type": "stream",
          "name": "stdout",
          "text": [
            "Processing results...\n",
            "Missing words:  avyze, awdls, azygy, boygs, byked, byrls, daych, dorbs, dsobo, dsomo, durgy, dzhos, eevns, egmas, ennog, erevs, euked, evhoe, ewked, gowfs, hiois, humfs, hwyls, jarps, jokol, kerky, khafs, koaps, kophs, kuzus, lance, mausy, nabks, odyls, omovs, pebas, peeoy, peghs, phpht, poupt, pyins, qapik, qophs, ryked, sdayn, skyfs, skyrs, snebs, sohur, sowfs, syped, takky, tiyns, uraos, viffs, voema, voips, vutty, wembs, whyda, wudus, xysts, yaffs, yarco, yesks, ylems, ylkes, yrivd, zedas, zexes, zimbs\n",
            "Done!\n"
          ]
        }
      ]
    }
  ]
}
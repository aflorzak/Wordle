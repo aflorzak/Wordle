{
  "nbformat": 4,
  "nbformat_minor": 0,
  "metadata": {
    "colab": {
      "provenance": []
    },
    "kernelspec": {
      "name": "python3",
      "display_name": "Python 3"
    },
    "language_info": {
      "name": "python"
    }
  },
  "cells": [
    {
      "cell_type": "markdown",
      "source": [
        "## Wordle Strategy Tool"
      ],
      "metadata": {
        "id": "3VciLrOjvNOu"
      }
    },
    {
      "cell_type": "markdown",
      "source": [
        "### Prepare Environment\n",
        "\n",
        "Load necessary packages and set `datapath` location"
      ],
      "metadata": {
        "id": "jtR8JxwA3KEY"
      }
    },
    {
      "cell_type": "code",
      "execution_count": 1,
      "metadata": {
        "id": "OXanyXk5vYMV"
      },
      "outputs": [],
      "source": [
        "import numpy as np\n",
        "import pandas as pd"
      ]
    },
    {
      "cell_type": "markdown",
      "source": [
        "Set `GOOGLE_DRIVE = True` and adjust the datapath reference below to use Google Drive to access the data files"
      ],
      "metadata": {
        "id": "BB9CTaOeTHHh"
      }
    },
    {
      "cell_type": "code",
      "source": [
        "GOOGLE_DRIVE = True"
      ],
      "metadata": {
        "id": "raJkKFK_TLS0"
      },
      "execution_count": 2,
      "outputs": []
    },
    {
      "cell_type": "code",
      "source": [
        "if GOOGLE_DRIVE:\n",
        "  from google.colab import drive\n",
        "  drive.mount('/content/drive/')\n",
        "  datapath = '/content/drive/My Drive/Colab Notebooks/UIUC/CS_410/Wordle/data/'\n",
        "else:\n",
        "  datapath = 'data/'"
      ],
      "metadata": {
        "colab": {
          "base_uri": "https://localhost:8080/"
        },
        "id": "EU9ulHlSSwoc",
        "outputId": "00491c20-0c0a-45da-f97e-d0f344daca54"
      },
      "execution_count": 3,
      "outputs": [
        {
          "output_type": "stream",
          "name": "stdout",
          "text": [
            "Mounted at /content/drive/\n"
          ]
        }
      ]
    },
    {
      "cell_type": "markdown",
      "source": [
        "### Matrix Operations Tool\n",
        "\n",
        "Create a method to encode a 5-letter word as a 5x26 matrix and use matrix\n",
        "operations to efficiently validate guesses and conduct pattern matching with the vocabulary."
      ],
      "metadata": {
        "id": "74nAiAPiwBrC"
      }
    },
    {
      "cell_type": "markdown",
      "source": [
        "#### Word Encoding"
      ],
      "metadata": {
        "id": "_JGcOuErx0J4"
      }
    },
    {
      "cell_type": "code",
      "source": [
        "abc = 'abcdefghijklmnopqrstuvwxyz'\n",
        "', '.join([str(ord(c)) for c in abc])"
      ],
      "metadata": {
        "colab": {
          "base_uri": "https://localhost:8080/",
          "height": 35
        },
        "id": "_ZikNPA-4kZu",
        "outputId": "0551c480-0016-4699-e0be-23694a56ed0d"
      },
      "execution_count": 4,
      "outputs": [
        {
          "output_type": "execute_result",
          "data": {
            "text/plain": [
              "'97, 98, 99, 100, 101, 102, 103, 104, 105, 106, 107, 108, 109, 110, 111, 112, 113, 114, 115, 116, 117, 118, 119, 120, 121, 122'"
            ],
            "application/vnd.google.colaboratory.intrinsic+json": {
              "type": "string"
            }
          },
          "metadata": {},
          "execution_count": 4
        }
      ]
    },
    {
      "cell_type": "markdown",
      "source": [
        "Observe that we can numerically encode each letter in the alphabet using its unicode value.  We will subtract 97 to index starting at 0."
      ],
      "metadata": {
        "id": "dksuG0DdwWeb"
      }
    },
    {
      "cell_type": "markdown",
      "source": [
        "The function `encode_word` takes a word and encodes it into a 5x26 binary matrix, where each row of the matrix represents the character position in the word and each column of the matrix represents a letter of the alphabet. "
      ],
      "metadata": {
        "id": "V0tdUbDnxaVX"
      }
    },
    {
      "cell_type": "code",
      "source": [
        "def encode_word(word):\n",
        "  idx = [i*26 + ord(c) - 97 for i, c in enumerate(word)]\n",
        "  w = np.zeros(5*26, dtype=int)\n",
        "  w[idx] = 1\n",
        "  w = w.reshape((5, 26))\n",
        "  return(w)"
      ],
      "metadata": {
        "id": "YOLjbpt88b6L"
      },
      "execution_count": 5,
      "outputs": []
    },
    {
      "cell_type": "markdown",
      "source": [
        "Word encoding examples:"
      ],
      "metadata": {
        "id": "6qu6Xb5R1zKn"
      }
    },
    {
      "cell_type": "code",
      "source": [
        "taxes = encode_word('taxes')\n",
        "texas = encode_word('texas')\n",
        "crate = encode_word('crate')\n",
        "crane = encode_word('crane')\n",
        "\n",
        "words = np.array([taxes, texas, crate, crane])"
      ],
      "metadata": {
        "id": "mM9dqo4qxv9V"
      },
      "execution_count": 6,
      "outputs": []
    },
    {
      "cell_type": "code",
      "source": [
        "np.set_printoptions(edgeitems=30, linewidth=100000, formatter=dict(float=lambda x: \"%.3g\" % x))"
      ],
      "metadata": {
        "id": "Dk7y4uNxymga"
      },
      "execution_count": 7,
      "outputs": []
    },
    {
      "cell_type": "code",
      "source": [
        "taxes"
      ],
      "metadata": {
        "colab": {
          "base_uri": "https://localhost:8080/"
        },
        "id": "Qo3IFfhpZLFO",
        "outputId": "97eb8572-c080-40c9-fdda-1d68c5b13347"
      },
      "execution_count": 8,
      "outputs": [
        {
          "output_type": "execute_result",
          "data": {
            "text/plain": [
              "array([[0, 0, 0, 0, 0, 0, 0, 0, 0, 0, 0, 0, 0, 0, 0, 0, 0, 0, 0, 1, 0, 0, 0, 0, 0, 0],\n",
              "       [1, 0, 0, 0, 0, 0, 0, 0, 0, 0, 0, 0, 0, 0, 0, 0, 0, 0, 0, 0, 0, 0, 0, 0, 0, 0],\n",
              "       [0, 0, 0, 0, 0, 0, 0, 0, 0, 0, 0, 0, 0, 0, 0, 0, 0, 0, 0, 0, 0, 0, 0, 1, 0, 0],\n",
              "       [0, 0, 0, 0, 1, 0, 0, 0, 0, 0, 0, 0, 0, 0, 0, 0, 0, 0, 0, 0, 0, 0, 0, 0, 0, 0],\n",
              "       [0, 0, 0, 0, 0, 0, 0, 0, 0, 0, 0, 0, 0, 0, 0, 0, 0, 0, 1, 0, 0, 0, 0, 0, 0, 0]])"
            ]
          },
          "metadata": {},
          "execution_count": 8
        }
      ]
    },
    {
      "cell_type": "markdown",
      "source": [
        "Observe that matrix entry row 2, column 1 is equal to 1, which corresponds to the letter 'a' in the word 'taxes'.  \n",
        "\n",
        "Note that 'a' is the 2nd letter of 'taxes' (matrix row 2) and the 1st letter of the alphabet (matrix column 1)."
      ],
      "metadata": {
        "id": "DeU7Dmvf13kc"
      }
    },
    {
      "cell_type": "markdown",
      "source": [
        "#### Guess Evaluation"
      ],
      "metadata": {
        "id": "hL2nFzjI1uLO"
      }
    },
    {
      "cell_type": "code",
      "source": [
        "crane @ crate.T"
      ],
      "metadata": {
        "colab": {
          "base_uri": "https://localhost:8080/"
        },
        "id": "Ns7Ku8Wky6Ph",
        "outputId": "d427e503-4df7-4229-bf13-abbb34f7bc23"
      },
      "execution_count": 9,
      "outputs": [
        {
          "output_type": "execute_result",
          "data": {
            "text/plain": [
              "array([[1, 0, 0, 0, 0],\n",
              "       [0, 1, 0, 0, 0],\n",
              "       [0, 0, 1, 0, 0],\n",
              "       [0, 0, 0, 0, 0],\n",
              "       [0, 0, 0, 0, 1]])"
            ]
          },
          "metadata": {},
          "execution_count": 9
        }
      ]
    },
    {
      "cell_type": "markdown",
      "source": [
        "Observe that the diagonal entries indicate the position of correct, i.e. Wordle green, letter placements"
      ],
      "metadata": {
        "id": "AszI27uczBpZ"
      }
    },
    {
      "cell_type": "code",
      "source": [
        "taxes @ texas.T"
      ],
      "metadata": {
        "colab": {
          "base_uri": "https://localhost:8080/"
        },
        "id": "KhtoIgyzy007",
        "outputId": "ad8c7217-cc8f-4600-ee5a-47b2a97c7678"
      },
      "execution_count": 10,
      "outputs": [
        {
          "output_type": "execute_result",
          "data": {
            "text/plain": [
              "array([[1, 0, 0, 0, 0],\n",
              "       [0, 0, 0, 1, 0],\n",
              "       [0, 0, 1, 0, 0],\n",
              "       [0, 1, 0, 0, 0],\n",
              "       [0, 0, 0, 0, 1]])"
            ]
          },
          "metadata": {},
          "execution_count": 10
        }
      ]
    },
    {
      "cell_type": "markdown",
      "source": [
        "Observe that the off-diagonal entries indicate the position of misplaced, i.e. Wordle yellow, letters"
      ],
      "metadata": {
        "id": "ou5tBDztzLtf"
      }
    },
    {
      "cell_type": "markdown",
      "source": [
        "Let's use these observations to create an alogorithm for Wordle guess evaluation:"
      ],
      "metadata": {
        "id": "ebujRt9Az3qx"
      }
    },
    {
      "cell_type": "code",
      "source": [
        "mm = taxes @ texas.T"
      ],
      "metadata": {
        "id": "DNUSHkrqz9yH"
      },
      "execution_count": 11,
      "outputs": []
    },
    {
      "cell_type": "code",
      "source": [
        "idx_green = np.diag(mm)\n",
        "idx_green"
      ],
      "metadata": {
        "colab": {
          "base_uri": "https://localhost:8080/"
        },
        "outputId": "c2b136a0-e781-40bd-f266-c767592f745c",
        "id": "tPk7vHtIDrLR"
      },
      "execution_count": 12,
      "outputs": [
        {
          "output_type": "execute_result",
          "data": {
            "text/plain": [
              "array([1, 0, 1, 0, 1])"
            ]
          },
          "metadata": {},
          "execution_count": 12
        }
      ]
    },
    {
      "cell_type": "markdown",
      "source": [
        "For misplaced letters, let's return -1:"
      ],
      "metadata": {
        "id": "DQvtl98_0KLJ"
      }
    },
    {
      "cell_type": "code",
      "source": [
        "idx_yellow = np.diag(mm) - mm.max(axis = 0) \n",
        "idx_yellow"
      ],
      "metadata": {
        "colab": {
          "base_uri": "https://localhost:8080/"
        },
        "outputId": "c074e142-71e8-40a9-bfa3-52c3f00028ab",
        "id": "XhnjsCf6DrLS"
      },
      "execution_count": 13,
      "outputs": [
        {
          "output_type": "execute_result",
          "data": {
            "text/plain": [
              "array([ 0, -1,  0, -1,  0])"
            ]
          },
          "metadata": {},
          "execution_count": 13
        }
      ]
    },
    {
      "cell_type": "markdown",
      "source": [
        "Let's pull this together to return a single evaluation result.\n",
        "\n",
        "- 1 = correct letter\n",
        "- -1 = misplaced letter\n",
        "- 0 = incorrect letter"
      ],
      "metadata": {
        "id": "sfbl5ODL0YWP"
      }
    },
    {
      "cell_type": "code",
      "source": [
        "2*np.diag(mm) - mm.max(axis = 0) "
      ],
      "metadata": {
        "colab": {
          "base_uri": "https://localhost:8080/"
        },
        "id": "oZ5i0Peq0l6J",
        "outputId": "d2c9089d-5cb8-4b83-d4e5-0a3c67c81605"
      },
      "execution_count": 14,
      "outputs": [
        {
          "output_type": "execute_result",
          "data": {
            "text/plain": [
              "array([ 1, -1,  1, -1,  1])"
            ]
          },
          "metadata": {},
          "execution_count": 14
        }
      ]
    },
    {
      "cell_type": "markdown",
      "source": [
        "The function `eval_guess` takes a `guess` word and uses matrix operations to return the letter placement results versus the `secret` word."
      ],
      "metadata": {
        "id": "mzm5C-231DZB"
      }
    },
    {
      "cell_type": "code",
      "source": [
        "def eval_guess(guess, secret):\n",
        "  encoded_guess = encode_word(guess)\n",
        "  encoded_secret = encode_word(secret)\n",
        "  mm = encoded_secret @ encoded_guess.T \n",
        "  result = 2*np.diag(mm) - mm.max(axis = 0)\n",
        "  return result"
      ],
      "metadata": {
        "id": "Mjo5pN7aFyKC"
      },
      "execution_count": 15,
      "outputs": []
    },
    {
      "cell_type": "code",
      "source": [
        "eval_guess('crate', 'crane')"
      ],
      "metadata": {
        "colab": {
          "base_uri": "https://localhost:8080/"
        },
        "id": "n5aApDH75vBi",
        "outputId": "d41d8a44-2f3c-43f1-c132-81e0828ba075"
      },
      "execution_count": 16,
      "outputs": [
        {
          "output_type": "execute_result",
          "data": {
            "text/plain": [
              "array([1, 1, 1, 0, 1])"
            ]
          },
          "metadata": {},
          "execution_count": 16
        }
      ]
    },
    {
      "cell_type": "code",
      "source": [
        "eval_guess('taxes', 'texas')"
      ],
      "metadata": {
        "colab": {
          "base_uri": "https://localhost:8080/"
        },
        "id": "PwP6scyc504T",
        "outputId": "7042c52e-9407-41ee-b38d-8e6a27509c87"
      },
      "execution_count": 17,
      "outputs": [
        {
          "output_type": "execute_result",
          "data": {
            "text/plain": [
              "array([ 1, -1,  1, -1,  1])"
            ]
          },
          "metadata": {},
          "execution_count": 17
        }
      ]
    },
    {
      "cell_type": "markdown",
      "source": [
        "### Prepare Words"
      ],
      "metadata": {
        "id": "jRZSu2dM27PN"
      }
    },
    {
      "cell_type": "markdown",
      "source": [
        "Load and encode the Wordle words:"
      ],
      "metadata": {
        "id": "6fB3GhBA3lAq"
      }
    },
    {
      "cell_type": "code",
      "source": [
        "all_words = []\n",
        "encoded_all = []\n",
        "\n",
        "with open(datapath + \"allowed_words.txt\", \"r\") as fin:\n",
        "  for line in fin:\n",
        "    word = line.strip()\n",
        "    all_words.append(word)\n",
        "    encoded_all.append(encode_word(word))\n",
        "\n",
        "all_words = np.array(all_words)\n",
        "encoded_all = np.array(encoded_all)"
      ],
      "metadata": {
        "id": "N5iNIR_sBFHZ"
      },
      "execution_count": 18,
      "outputs": []
    },
    {
      "cell_type": "code",
      "source": [
        "len(all_words)"
      ],
      "metadata": {
        "colab": {
          "base_uri": "https://localhost:8080/"
        },
        "id": "MNs52UVX3euQ",
        "outputId": "621dc0fe-444e-4b65-960c-17d82fb9e4c6"
      },
      "execution_count": 19,
      "outputs": [
        {
          "output_type": "execute_result",
          "data": {
            "text/plain": [
              "12972"
            ]
          },
          "metadata": {},
          "execution_count": 19
        }
      ]
    },
    {
      "cell_type": "code",
      "source": [
        "possible_words = []\n",
        "encoded_possible = []\n",
        "\n",
        "with open(datapath + \"possible_words.txt\", \"r\") as fin:\n",
        "  for line in fin:\n",
        "    word = line.strip()\n",
        "    possible_words.append(word)\n",
        "    encoded_possible.append(encode_word(word))\n",
        "\n",
        "possible_words = np.array(possible_words)\n",
        "encoded_possible = np.array(encoded_possible)"
      ],
      "metadata": {
        "id": "lpmMkZvkT9Qg"
      },
      "execution_count": 20,
      "outputs": []
    },
    {
      "cell_type": "code",
      "source": [
        "len(possible_words)"
      ],
      "metadata": {
        "colab": {
          "base_uri": "https://localhost:8080/"
        },
        "id": "_HNtz6_3Z8b4",
        "outputId": "18206d2d-5555-4232-b928-e581f83959f6"
      },
      "execution_count": 21,
      "outputs": [
        {
          "output_type": "execute_result",
          "data": {
            "text/plain": [
              "2315"
            ]
          },
          "metadata": {},
          "execution_count": 21
        }
      ]
    },
    {
      "cell_type": "markdown",
      "source": [
        "Load the POS tagging likelihood dataframe:"
      ],
      "metadata": {
        "id": "4NrgBQjC3rUb"
      }
    },
    {
      "cell_type": "code",
      "source": [
        "all_pos = pd.read_csv(datapath + 'all_pos.csv')\n",
        "all_pos.set_index('word', inplace=True)\n",
        "all_pos.head()"
      ],
      "metadata": {
        "colab": {
          "base_uri": "https://localhost:8080/",
          "height": 237
        },
        "outputId": "5472f9e4-f973-4514-8bfa-483fb777e5a0",
        "id": "Us_OeVKl4K40"
      },
      "execution_count": 22,
      "outputs": [
        {
          "output_type": "execute_result",
          "data": {
            "text/plain": [
              "       tag         p\n",
              "word                \n",
              "aahed  VBN  0.013752\n",
              "aalii   JJ  0.218075\n",
              "aargh   NN  0.618861\n",
              "aarti   NN  0.618861\n",
              "abaca   NN  0.618861"
            ],
            "text/html": [
              "\n",
              "  <div id=\"df-d1c6a950-e791-46f1-a545-8e48bef60398\">\n",
              "    <div class=\"colab-df-container\">\n",
              "      <div>\n",
              "<style scoped>\n",
              "    .dataframe tbody tr th:only-of-type {\n",
              "        vertical-align: middle;\n",
              "    }\n",
              "\n",
              "    .dataframe tbody tr th {\n",
              "        vertical-align: top;\n",
              "    }\n",
              "\n",
              "    .dataframe thead th {\n",
              "        text-align: right;\n",
              "    }\n",
              "</style>\n",
              "<table border=\"1\" class=\"dataframe\">\n",
              "  <thead>\n",
              "    <tr style=\"text-align: right;\">\n",
              "      <th></th>\n",
              "      <th>tag</th>\n",
              "      <th>p</th>\n",
              "    </tr>\n",
              "    <tr>\n",
              "      <th>word</th>\n",
              "      <th></th>\n",
              "      <th></th>\n",
              "    </tr>\n",
              "  </thead>\n",
              "  <tbody>\n",
              "    <tr>\n",
              "      <th>aahed</th>\n",
              "      <td>VBN</td>\n",
              "      <td>0.013752</td>\n",
              "    </tr>\n",
              "    <tr>\n",
              "      <th>aalii</th>\n",
              "      <td>JJ</td>\n",
              "      <td>0.218075</td>\n",
              "    </tr>\n",
              "    <tr>\n",
              "      <th>aargh</th>\n",
              "      <td>NN</td>\n",
              "      <td>0.618861</td>\n",
              "    </tr>\n",
              "    <tr>\n",
              "      <th>aarti</th>\n",
              "      <td>NN</td>\n",
              "      <td>0.618861</td>\n",
              "    </tr>\n",
              "    <tr>\n",
              "      <th>abaca</th>\n",
              "      <td>NN</td>\n",
              "      <td>0.618861</td>\n",
              "    </tr>\n",
              "  </tbody>\n",
              "</table>\n",
              "</div>\n",
              "      <button class=\"colab-df-convert\" onclick=\"convertToInteractive('df-d1c6a950-e791-46f1-a545-8e48bef60398')\"\n",
              "              title=\"Convert this dataframe to an interactive table.\"\n",
              "              style=\"display:none;\">\n",
              "        \n",
              "  <svg xmlns=\"http://www.w3.org/2000/svg\" height=\"24px\"viewBox=\"0 0 24 24\"\n",
              "       width=\"24px\">\n",
              "    <path d=\"M0 0h24v24H0V0z\" fill=\"none\"/>\n",
              "    <path d=\"M18.56 5.44l.94 2.06.94-2.06 2.06-.94-2.06-.94-.94-2.06-.94 2.06-2.06.94zm-11 1L8.5 8.5l.94-2.06 2.06-.94-2.06-.94L8.5 2.5l-.94 2.06-2.06.94zm10 10l.94 2.06.94-2.06 2.06-.94-2.06-.94-.94-2.06-.94 2.06-2.06.94z\"/><path d=\"M17.41 7.96l-1.37-1.37c-.4-.4-.92-.59-1.43-.59-.52 0-1.04.2-1.43.59L10.3 9.45l-7.72 7.72c-.78.78-.78 2.05 0 2.83L4 21.41c.39.39.9.59 1.41.59.51 0 1.02-.2 1.41-.59l7.78-7.78 2.81-2.81c.8-.78.8-2.07 0-2.86zM5.41 20L4 18.59l7.72-7.72 1.47 1.35L5.41 20z\"/>\n",
              "  </svg>\n",
              "      </button>\n",
              "      \n",
              "  <style>\n",
              "    .colab-df-container {\n",
              "      display:flex;\n",
              "      flex-wrap:wrap;\n",
              "      gap: 12px;\n",
              "    }\n",
              "\n",
              "    .colab-df-convert {\n",
              "      background-color: #E8F0FE;\n",
              "      border: none;\n",
              "      border-radius: 50%;\n",
              "      cursor: pointer;\n",
              "      display: none;\n",
              "      fill: #1967D2;\n",
              "      height: 32px;\n",
              "      padding: 0 0 0 0;\n",
              "      width: 32px;\n",
              "    }\n",
              "\n",
              "    .colab-df-convert:hover {\n",
              "      background-color: #E2EBFA;\n",
              "      box-shadow: 0px 1px 2px rgba(60, 64, 67, 0.3), 0px 1px 3px 1px rgba(60, 64, 67, 0.15);\n",
              "      fill: #174EA6;\n",
              "    }\n",
              "\n",
              "    [theme=dark] .colab-df-convert {\n",
              "      background-color: #3B4455;\n",
              "      fill: #D2E3FC;\n",
              "    }\n",
              "\n",
              "    [theme=dark] .colab-df-convert:hover {\n",
              "      background-color: #434B5C;\n",
              "      box-shadow: 0px 1px 3px 1px rgba(0, 0, 0, 0.15);\n",
              "      filter: drop-shadow(0px 1px 2px rgba(0, 0, 0, 0.3));\n",
              "      fill: #FFFFFF;\n",
              "    }\n",
              "  </style>\n",
              "\n",
              "      <script>\n",
              "        const buttonEl =\n",
              "          document.querySelector('#df-d1c6a950-e791-46f1-a545-8e48bef60398 button.colab-df-convert');\n",
              "        buttonEl.style.display =\n",
              "          google.colab.kernel.accessAllowed ? 'block' : 'none';\n",
              "\n",
              "        async function convertToInteractive(key) {\n",
              "          const element = document.querySelector('#df-d1c6a950-e791-46f1-a545-8e48bef60398');\n",
              "          const dataTable =\n",
              "            await google.colab.kernel.invokeFunction('convertToInteractive',\n",
              "                                                     [key], {});\n",
              "          if (!dataTable) return;\n",
              "\n",
              "          const docLinkHtml = 'Like what you see? Visit the ' +\n",
              "            '<a target=\"_blank\" href=https://colab.research.google.com/notebooks/data_table.ipynb>data table notebook</a>'\n",
              "            + ' to learn more about interactive tables.';\n",
              "          element.innerHTML = '';\n",
              "          dataTable['output_type'] = 'display_data';\n",
              "          await google.colab.output.renderOutput(dataTable, element);\n",
              "          const docLink = document.createElement('div');\n",
              "          docLink.innerHTML = docLinkHtml;\n",
              "          element.appendChild(docLink);\n",
              "        }\n",
              "      </script>\n",
              "    </div>\n",
              "  </div>\n",
              "  "
            ]
          },
          "metadata": {},
          "execution_count": 22
        }
      ]
    },
    {
      "cell_type": "markdown",
      "source": [
        "Load the TF_IDF likelihood dataframe:"
      ],
      "metadata": {
        "id": "Wi7oqjdU4Nqv"
      }
    },
    {
      "cell_type": "code",
      "source": [
        "all_tf = pd.read_csv(datapath + 'all_tf.csv')\n",
        "all_tf.set_index('word', inplace=True)\n",
        "all_tf.head()"
      ],
      "metadata": {
        "colab": {
          "base_uri": "https://localhost:8080/",
          "height": 237
        },
        "outputId": "c9c5a32c-edda-4851-c02c-a03526df0ad8",
        "id": "hpreJ-Pr4K41"
      },
      "execution_count": 23,
      "outputs": [
        {
          "output_type": "execute_result",
          "data": {
            "text/plain": [
              "                  p\n",
              "word               \n",
              "aahed  4.629283e-08\n",
              "aalii  3.594560e-10\n",
              "aargh  4.751212e-09\n",
              "aarti  1.331110e-08\n",
              "abaca  2.638774e-08"
            ],
            "text/html": [
              "\n",
              "  <div id=\"df-c33f5a15-9940-47b8-b11b-9521611d5b92\">\n",
              "    <div class=\"colab-df-container\">\n",
              "      <div>\n",
              "<style scoped>\n",
              "    .dataframe tbody tr th:only-of-type {\n",
              "        vertical-align: middle;\n",
              "    }\n",
              "\n",
              "    .dataframe tbody tr th {\n",
              "        vertical-align: top;\n",
              "    }\n",
              "\n",
              "    .dataframe thead th {\n",
              "        text-align: right;\n",
              "    }\n",
              "</style>\n",
              "<table border=\"1\" class=\"dataframe\">\n",
              "  <thead>\n",
              "    <tr style=\"text-align: right;\">\n",
              "      <th></th>\n",
              "      <th>p</th>\n",
              "    </tr>\n",
              "    <tr>\n",
              "      <th>word</th>\n",
              "      <th></th>\n",
              "    </tr>\n",
              "  </thead>\n",
              "  <tbody>\n",
              "    <tr>\n",
              "      <th>aahed</th>\n",
              "      <td>4.629283e-08</td>\n",
              "    </tr>\n",
              "    <tr>\n",
              "      <th>aalii</th>\n",
              "      <td>3.594560e-10</td>\n",
              "    </tr>\n",
              "    <tr>\n",
              "      <th>aargh</th>\n",
              "      <td>4.751212e-09</td>\n",
              "    </tr>\n",
              "    <tr>\n",
              "      <th>aarti</th>\n",
              "      <td>1.331110e-08</td>\n",
              "    </tr>\n",
              "    <tr>\n",
              "      <th>abaca</th>\n",
              "      <td>2.638774e-08</td>\n",
              "    </tr>\n",
              "  </tbody>\n",
              "</table>\n",
              "</div>\n",
              "      <button class=\"colab-df-convert\" onclick=\"convertToInteractive('df-c33f5a15-9940-47b8-b11b-9521611d5b92')\"\n",
              "              title=\"Convert this dataframe to an interactive table.\"\n",
              "              style=\"display:none;\">\n",
              "        \n",
              "  <svg xmlns=\"http://www.w3.org/2000/svg\" height=\"24px\"viewBox=\"0 0 24 24\"\n",
              "       width=\"24px\">\n",
              "    <path d=\"M0 0h24v24H0V0z\" fill=\"none\"/>\n",
              "    <path d=\"M18.56 5.44l.94 2.06.94-2.06 2.06-.94-2.06-.94-.94-2.06-.94 2.06-2.06.94zm-11 1L8.5 8.5l.94-2.06 2.06-.94-2.06-.94L8.5 2.5l-.94 2.06-2.06.94zm10 10l.94 2.06.94-2.06 2.06-.94-2.06-.94-.94-2.06-.94 2.06-2.06.94z\"/><path d=\"M17.41 7.96l-1.37-1.37c-.4-.4-.92-.59-1.43-.59-.52 0-1.04.2-1.43.59L10.3 9.45l-7.72 7.72c-.78.78-.78 2.05 0 2.83L4 21.41c.39.39.9.59 1.41.59.51 0 1.02-.2 1.41-.59l7.78-7.78 2.81-2.81c.8-.78.8-2.07 0-2.86zM5.41 20L4 18.59l7.72-7.72 1.47 1.35L5.41 20z\"/>\n",
              "  </svg>\n",
              "      </button>\n",
              "      \n",
              "  <style>\n",
              "    .colab-df-container {\n",
              "      display:flex;\n",
              "      flex-wrap:wrap;\n",
              "      gap: 12px;\n",
              "    }\n",
              "\n",
              "    .colab-df-convert {\n",
              "      background-color: #E8F0FE;\n",
              "      border: none;\n",
              "      border-radius: 50%;\n",
              "      cursor: pointer;\n",
              "      display: none;\n",
              "      fill: #1967D2;\n",
              "      height: 32px;\n",
              "      padding: 0 0 0 0;\n",
              "      width: 32px;\n",
              "    }\n",
              "\n",
              "    .colab-df-convert:hover {\n",
              "      background-color: #E2EBFA;\n",
              "      box-shadow: 0px 1px 2px rgba(60, 64, 67, 0.3), 0px 1px 3px 1px rgba(60, 64, 67, 0.15);\n",
              "      fill: #174EA6;\n",
              "    }\n",
              "\n",
              "    [theme=dark] .colab-df-convert {\n",
              "      background-color: #3B4455;\n",
              "      fill: #D2E3FC;\n",
              "    }\n",
              "\n",
              "    [theme=dark] .colab-df-convert:hover {\n",
              "      background-color: #434B5C;\n",
              "      box-shadow: 0px 1px 3px 1px rgba(0, 0, 0, 0.15);\n",
              "      filter: drop-shadow(0px 1px 2px rgba(0, 0, 0, 0.3));\n",
              "      fill: #FFFFFF;\n",
              "    }\n",
              "  </style>\n",
              "\n",
              "      <script>\n",
              "        const buttonEl =\n",
              "          document.querySelector('#df-c33f5a15-9940-47b8-b11b-9521611d5b92 button.colab-df-convert');\n",
              "        buttonEl.style.display =\n",
              "          google.colab.kernel.accessAllowed ? 'block' : 'none';\n",
              "\n",
              "        async function convertToInteractive(key) {\n",
              "          const element = document.querySelector('#df-c33f5a15-9940-47b8-b11b-9521611d5b92');\n",
              "          const dataTable =\n",
              "            await google.colab.kernel.invokeFunction('convertToInteractive',\n",
              "                                                     [key], {});\n",
              "          if (!dataTable) return;\n",
              "\n",
              "          const docLinkHtml = 'Like what you see? Visit the ' +\n",
              "            '<a target=\"_blank\" href=https://colab.research.google.com/notebooks/data_table.ipynb>data table notebook</a>'\n",
              "            + ' to learn more about interactive tables.';\n",
              "          element.innerHTML = '';\n",
              "          dataTable['output_type'] = 'display_data';\n",
              "          await google.colab.output.renderOutput(dataTable, element);\n",
              "          const docLink = document.createElement('div');\n",
              "          docLink.innerHTML = docLinkHtml;\n",
              "          element.appendChild(docLink);\n",
              "        }\n",
              "      </script>\n",
              "    </div>\n",
              "  </div>\n",
              "  "
            ]
          },
          "metadata": {},
          "execution_count": 23
        }
      ]
    },
    {
      "cell_type": "markdown",
      "source": [
        "Merge the POS and TF-IDF likelihood dataframes:"
      ],
      "metadata": {
        "id": "ZCexdeuu-kLW"
      }
    },
    {
      "cell_type": "code",
      "source": [
        "all_freq = all_pos.merge(all_tf, on='word', suffixes=('_pos', '_tf'))\n",
        "all_freq['p'] = all_freq['p_pos']*all_freq['p_tf']"
      ],
      "metadata": {
        "id": "wfXqglfG-jh5"
      },
      "execution_count": 24,
      "outputs": []
    },
    {
      "cell_type": "markdown",
      "source": [
        "Load the past Wordle solution words for strategy evaluation:"
      ],
      "metadata": {
        "id": "P9JJz7AI3xuP"
      }
    },
    {
      "cell_type": "code",
      "source": [
        "with open(datapath + \"past_words.txt\", \"r\") as fin:\n",
        "  past_words = [line.strip() for line in fin]\n",
        "\n",
        "n_games = len(past_words)\n",
        "n_games"
      ],
      "metadata": {
        "colab": {
          "base_uri": "https://localhost:8080/"
        },
        "id": "LmQyww3DoROq",
        "outputId": "11e326aa-83ba-4e75-9143-4c4cf480e766"
      },
      "execution_count": 25,
      "outputs": [
        {
          "output_type": "execute_result",
          "data": {
            "text/plain": [
              "509"
            ]
          },
          "metadata": {},
          "execution_count": 25
        }
      ]
    },
    {
      "cell_type": "markdown",
      "source": [
        "### Game Strategy"
      ],
      "metadata": {
        "id": "CTUB7f-DT5Yr"
      }
    },
    {
      "cell_type": "markdown",
      "source": [],
      "metadata": {
        "id": "n8yN7oI2WxGm"
      }
    },
    {
      "cell_type": "markdown",
      "source": [
        "Function `batch_eval` evaluates a `guess` word against all possible words in `encoded_words` and returns the eval pattern for each possible word.  This is useful for finding words that have the same pattern as the solution word."
      ],
      "metadata": {
        "id": "MO4qjtMoGTV1"
      }
    },
    {
      "cell_type": "code",
      "source": [
        "def batch_eval(guess, encoded_words):\n",
        "  encoded_guess = encode_word(guess)\n",
        "  mm = np.inner(encoded_words, encoded_guess)\n",
        "  patterns = 2*np.diagonal(mm, axis1=1, axis2=2) - mm.max(axis=1)\n",
        "  return patterns"
      ],
      "metadata": {
        "id": "5cHJo4yXBCxg"
      },
      "execution_count": 26,
      "outputs": []
    },
    {
      "cell_type": "markdown",
      "source": [
        "Function `correct_guess` returns `True` if the eval pattern is [1, 1, 1, 1, 1]."
      ],
      "metadata": {
        "id": "_6N3Clf3G4ve"
      }
    },
    {
      "cell_type": "code",
      "source": [
        "def correct_guess(pattern):\n",
        "  return pattern.sum() == len(pattern)"
      ],
      "metadata": {
        "id": "Mt8dgSKhBpc_"
      },
      "execution_count": 27,
      "outputs": []
    },
    {
      "cell_type": "markdown",
      "source": [
        "Function `pattern_match` returns the index for all `patterns` equal to `pattern`.  This is useful for reducing the solution space after a guess."
      ],
      "metadata": {
        "id": "YUUSQq88HEE7"
      }
    },
    {
      "cell_type": "code",
      "source": [
        "def pattern_match(pattern, patterns):\n",
        "  return np.where((patterns == pattern).all(axis=1))"
      ],
      "metadata": {
        "id": "9tpkW0mnBpaN"
      },
      "execution_count": 28,
      "outputs": []
    },
    {
      "cell_type": "markdown",
      "source": [
        "Function `discrete_probability` returns the discrete probability distribution for a vector of `counts`."
      ],
      "metadata": {
        "id": "_Tv4wY0hDgID"
      }
    },
    {
      "cell_type": "code",
      "source": [
        "def discrete_probability(counts):\n",
        "  return counts/counts.sum()"
      ],
      "metadata": {
        "id": "_0oVlONRK-2b"
      },
      "execution_count": 33,
      "outputs": []
    },
    {
      "cell_type": "markdown",
      "source": [
        "Function `entropy` returns the entropy for a given probability."
      ],
      "metadata": {
        "id": "zH4K2j6sDzvt"
      }
    },
    {
      "cell_type": "code",
      "source": [
        "def entropy(p):\n",
        "  return p*np.log2(p) - (1 - p)*np.log2(1 - p)  "
      ],
      "metadata": {
        "id": "miobCvwkKuw4"
      },
      "execution_count": 34,
      "outputs": []
    },
    {
      "cell_type": "markdown",
      "source": [
        "Function `pos_probability` returns the POS tag probability for a given `word` and function `tf_probability` returns the TF-IDF likelihood for a given `word`."
      ],
      "metadata": {
        "id": "A1IYaYtpD1AJ"
      }
    },
    {
      "cell_type": "code",
      "source": [
        "def pos_probability(word):\n",
        "  return all_pos.loc[word]['p']\n",
        "\n",
        "def tf_probability(word):\n",
        "  return all_tf.loc[word]['p']"
      ],
      "metadata": {
        "id": "FRFj4sQiW94S"
      },
      "execution_count": 35,
      "outputs": []
    },
    {
      "cell_type": "markdown",
      "source": [
        "Function `get_possible_words` returns the solution space of words in text and encoded format given a current `guess` and guess evaluation `pattern."
      ],
      "metadata": {
        "id": "YocBe70THTv-"
      }
    },
    {
      "cell_type": "code",
      "source": [
        "def get_possible_solutions(guess, pattern, words, encoded_words):\n",
        "  patterns = batch_eval(guess, encoded_words)\n",
        "  idx_pattern = pattern_match(pattern, patterns)\n",
        "  return words[idx_pattern], encoded_words[idx_pattern]"
      ],
      "metadata": {
        "id": "cT5SlxNFCqEs"
      },
      "execution_count": 29,
      "outputs": []
    },
    {
      "cell_type": "code",
      "source": [
        "sol_words, encoded_sols = get_possible_solutions('salet', eval_guess('salet', 'abyss'), possible_words, encoded_possible)\n",
        "sol_words"
      ],
      "metadata": {
        "colab": {
          "base_uri": "https://localhost:8080/"
        },
        "id": "0i8UE5yIDqzX",
        "outputId": "569e9db7-9336-48d2-dab9-90e9c4fbf3ae"
      },
      "execution_count": 60,
      "outputs": [
        {
          "output_type": "execute_result",
          "data": {
            "text/plain": [
              "array(['abyss', 'amass', 'amiss', 'arson', 'assay', 'awash', 'brash', 'brass', 'chaos', 'chasm', 'crash', 'crass', 'gnash', 'grasp', 'grass', 'quash', 'quasi'], dtype='<U5')"
            ]
          },
          "metadata": {},
          "execution_count": 60
        }
      ]
    },
    {
      "cell_type": "markdown",
      "source": [
        "Function `get_next_guess` returns the optimal guess word using entropy given the available remaining `words`."
      ],
      "metadata": {
        "id": "rpVnGHiyDUtw"
      }
    },
    {
      "cell_type": "code",
      "source": [
        "def get_next_guess(words, encoded_words):\n",
        "  # score the potential solutions by entropy variance\n",
        "  best_score = 0\n",
        "  best_i = 0\n",
        "  # iterate through remaining words\n",
        "  for i in range(len(words)):\n",
        "    patterns = batch_eval(words[i], encoded_words)      \n",
        "    unique_patterns, unique_counts = np.unique(patterns, return_counts=True, axis=0)\n",
        "    p = discrete_probability(unique_counts)\n",
        "    if len(p) == 1:\n",
        "      best_i = i\n",
        "      break\n",
        "    h = entropy(p)\n",
        "    # favor results with uniform distributions\n",
        "    score = len(h)/(h.var() + 1)\n",
        "    if score > best_score:\n",
        "      best_score = score\n",
        "      best_i = i\n",
        "    \n",
        "  return best_i, words[best_i]"
      ],
      "metadata": {
        "id": "Ktb4MMliKkSC"
      },
      "execution_count": 31,
      "outputs": []
    },
    {
      "cell_type": "code",
      "source": [
        "idx, guess = get_next_guess(sol_words, encoded_sols)\n",
        "guess"
      ],
      "metadata": {
        "colab": {
          "base_uri": "https://localhost:8080/",
          "height": 35
        },
        "id": "vEgXCHVYNXb5",
        "outputId": "08a8f919-bc44-49e8-8d79-e89f91d93103"
      },
      "execution_count": 61,
      "outputs": [
        {
          "output_type": "execute_result",
          "data": {
            "text/plain": [
              "'brash'"
            ],
            "application/vnd.google.colaboratory.intrinsic+json": {
              "type": "string"
            }
          },
          "metadata": {},
          "execution_count": 61
        }
      ]
    },
    {
      "cell_type": "markdown",
      "source": [
        "Function `play_game_entropy` will run through a complete Wordle game and return the `guesses` used to find the solution.  It favors guesses that yield uniform pattern distributions with high entropy."
      ],
      "metadata": {
        "id": "02HmoGjOUCbc"
      }
    },
    {
      "cell_type": "code",
      "source": [
        "def play_game_entropy(guess, secret, words, encoded_words):\n",
        "  guesses = []\n",
        "  n_guesses = 0    \n",
        "  \n",
        "  while len(words) > 0:\n",
        "    pattern = eval_guess(guess, secret)    \n",
        "    \n",
        "    if correct_guess(pattern):  \n",
        "      break\n",
        " \n",
        "    guesses.append(guess)\n",
        "    n_guesses += 1\n",
        "\n",
        "    words, encoded_words = get_possible_solutions(guess, pattern, words, encoded_words)\n",
        "    \n",
        "    idx, guess = get_next_guess(words, encoded_words)\n",
        "    \n",
        "    # remove guess from potential solutions in next iteration\n",
        "    encoded_words = np.delete(encoded_words, idx, axis=0)\n",
        "    words = np.delete(words, idx, axis=0)    \n",
        "\n",
        "  guesses.append(guess)\n",
        "  n_guesses += 1\n",
        "  return guesses"
      ],
      "metadata": {
        "id": "0fupozgZ2uiY"
      },
      "execution_count": 44,
      "outputs": []
    },
    {
      "cell_type": "markdown",
      "source": [
        "Function `play_game_frequency` will run through a complete Wordle game and return the `guesses` used to find the solution.  It selects a guess based on which possible word has the highest combined TF-IDF and POS likelihood."
      ],
      "metadata": {
        "id": "3m3IUqe54Gct"
      }
    },
    {
      "cell_type": "code",
      "source": [
        "def play_game_frequency(guess, secret, words, encoded_words, freq_df):\n",
        "  guesses = []\n",
        "  n_guesses = 0    \n",
        "  \n",
        "  while len(words) > 0:\n",
        "    pattern = eval_guess(guess, secret)    \n",
        "    \n",
        "    if correct_guess(pattern):  \n",
        "      break\n",
        " \n",
        "    guesses.append(guess)\n",
        "    n_guesses += 1\n",
        "\n",
        "    words, encoded_words = get_possible_solutions(guess, pattern, words, encoded_words)\n",
        "\n",
        "    # of possible words, use one with highest tf*pos probability\n",
        "    idx = freq_df.loc[words]['p'].argmax()    \n",
        "    guess = words[idx]    \n",
        "    \n",
        "    # remove guess from potential solutions in next iteration    \n",
        "    encoded_words = np.delete(encoded_words, idx, axis=0)\n",
        "    words = np.delete(words, idx, axis=0)    \n",
        "\n",
        "  guesses.append(guess)\n",
        "  n_guesses += 1\n",
        "  return guesses"
      ],
      "metadata": {
        "id": "Mf6E70_OkD6E"
      },
      "execution_count": 40,
      "outputs": []
    },
    {
      "cell_type": "markdown",
      "source": [
        "### Evaluation"
      ],
      "metadata": {
        "id": "x8ZinjpxA_G6"
      }
    },
    {
      "cell_type": "markdown",
      "source": [
        "#### Guess using Entropy"
      ],
      "metadata": {
        "id": "QHd3Eql18EYS"
      }
    },
    {
      "cell_type": "code",
      "source": [
        "openers = np.random.choice(possible_words, n_games, replace=True)"
      ],
      "metadata": {
        "id": "-xuZ55DXGZHu"
      },
      "execution_count": null,
      "outputs": []
    },
    {
      "cell_type": "markdown",
      "source": [
        "Play all previous Wordle games using a random word for the opening guess:"
      ],
      "metadata": {
        "id": "hkdBN5AZgw5r"
      }
    },
    {
      "cell_type": "code",
      "source": [
        "game_scores = np.zeros(n_games, dtype=int)\n",
        "\n",
        "for i, secret in enumerate(past_words):  \n",
        "\n",
        "  guess = openers[i]\n",
        "  guesses = play_game_entropy(guess, secret, possible_words, encoded_possible)  \n",
        "  game_scores[i] = len(guesses)\n",
        "  print(i, guesses, game_scores[i])\n",
        "\n",
        "print('Mean Score:', game_scores[game_scores < 7].mean())\n",
        "print('Games Won in 2 Guesses:', sum(game_scores < 3))\n",
        "print('Games Lost:', sum(game_scores > 6))\n",
        "\n",
        "random_entropy_scores = game_scores.copy()"
      ],
      "metadata": {
        "colab": {
          "base_uri": "https://localhost:8080/"
        },
        "id": "kdecLB7cFEox",
        "outputId": "7009a0c0-7e14-4165-ff08-581a31b8c02c"
      },
      "execution_count": 46,
      "outputs": [
        {
          "output_type": "stream",
          "name": "stdout",
          "text": [
            "0 ['prank', 'later', 'augur', 'cigar'] 4\n",
            "1 ['clove', 'tread', 'beret', 'rebut'] 4\n",
            "2 ['arson', 'pushy', 'missy', 'sissy'] 4\n",
            "3 ['grade', 'hoist', 'humph'] 3\n",
            "4 ['nobly', 'crate', 'shade', 'awake'] 4\n",
            "5 ['pushy', 'brush', 'blush'] 3\n",
            "6 ['wince', 'coral', 'focal'] 3\n",
            "7 ['juror', 'slate', 'heave', 'evade'] 4\n",
            "8 ['cadet', 'salon', 'lanky', 'naval'] 4\n",
            "9 ['badly', 'trice', 'surge', 'serve'] 4\n",
            "10 ['mafia', 'slate', 'death', 'heath'] 4\n",
            "11 ['vapor', 'trace', 'award', 'dwarf'] 4\n",
            "12 ['detox', 'horde', 'model'] 3\n",
            "13 ['snail', 'cater', 'harpy', 'karma'] 4\n",
            "14 ['spoke', 'slunk', 'shank', 'stink'] 4\n",
            "15 ['steed', 'drone', 'pride', 'crude', 'grade'] 5\n",
            "16 ['salve', 'diner', 'chief', 'quiet'] 4\n",
            "17 ['tidal', 'curse', 'beech', 'bench'] 4\n",
            "18 ['ramen', 'slate', 'abate'] 3\n",
            "19 ['pedal', 'resin', 'feign'] 3\n",
            "20 ['hater', 'valor', 'major'] 3\n",
            "21 ['twang', 'least', 'death'] 3\n",
            "22 ['mount', 'parse', 'cress', 'fresh'] 4\n",
            "23 ['infer', 'court', 'crust'] 3\n",
            "24 ['inlay', 'slept', 'stool'] 3\n",
            "25 ['logic', 'color', 'colon'] 3\n",
            "26 ['chasm', 'beast', 'abase'] 3\n",
            "27 ['dirty', 'merry', 'marry'] 3\n",
            "28 ['would', 'trace', 'react'] 3\n",
            "29 ['leery', 'nasty', 'batty'] 3\n",
            "30 ['spice', 'pride'] 2\n",
            "31 ['dusty', 'spare', 'floss'] 3\n",
            "32 ['evade', 'risen', 'befit', 'helix'] 4\n",
            "33 ['renew', 'chart', 'cargo', 'croak'] 4\n",
            "34 ['scent', 'story', 'still', 'staff'] 4\n",
            "35 ['bathe', 'lager', 'caper', 'paper'] 4\n",
            "36 ['femme', 'thief', 'safer', 'unfed'] 4\n",
            "37 ['tight', 'share', 'cheek', 'whelp'] 4\n",
            "38 ['lurid', 'pearl', 'brawl', 'crawl', 'trawl'] 5\n",
            "39 ['posse', 'baron', 'clout', 'outdo'] 4\n",
            "40 ['recut', 'alien', 'abode', 'adobe'] 4\n",
            "41 ['dingo', 'slate', 'charm', 'crack', 'crazy'] 5\n",
            "42 ['hilly', 'trace', 'sower'] 3\n",
            "43 ['salsa', 'trace', 'debar', 'repay'] 4\n",
            "44 ['razor', 'heist', 'limit', 'digit'] 4\n",
            "45 ['mafia', 'slate', 'agate', 'crate'] 4\n",
            "46 ['pasty', 'diner', 'cough', 'cluck'] 4\n",
            "47 ['lucky', 'brake', 'smoke', 'spike'] 4\n",
            "48 ['stank', 'cried', 'logic', 'mimic'] 4\n",
            "49 ['rough', 'mount', 'bound', 'found', 'pound'] 5\n",
            "50 ['using', 'trail', 'aphid', 'mafia', 'maxim'] 5\n",
            "51 ['fussy', 'trace', 'widen', 'given', 'liken', 'linen'] 6\n",
            "52 ['moose', 'ramen', 'unmet'] 3\n",
            "53 ['gummy', 'crate', 'wield', 'bleep', 'flesh'] 5\n",
            "54 ['wince', 'roast', 'godly', 'bobby', 'booby'] 5\n",
            "55 ['pitch', 'south', 'north', 'forth'] 4\n",
            "56 ['aping', 'tilde', 'birth', 'first'] 4\n",
            "57 ['ridge', 'donut', 'stand'] 3\n",
            "58 ['briar', 'bugle', 'belly'] 3\n",
            "59 ['aback', 'diner', 'shirt', 'ivory'] 4\n",
            "60 ['ralph', 'suite', 'semen', 'seedy'] 4\n",
            "61 ['whiff', 'spine', 'paint', 'point', 'print'] 5\n",
            "62 ['curvy', 'layer', 'yearn'] 3\n",
            "63 ['tally', 'crane', 'brain', 'drain'] 4\n",
            "64 ['chaos', 'tried', 'prime', 'bribe'] 4\n",
            "65 ['their', 'snout', 'scout', 'spout', 'stout'] 5\n",
            "66 ['crisp', 'plate', 'panel'] 3\n",
            "67 ['puree', 'drain', 'tract', 'crash', 'crass'] 5\n",
            "68 ['sheep', 'react', 'glide', 'bloke', 'flume'] 5\n",
            "69 ['curio', 'motel', 'shoal', 'offal'] 4\n",
            "70 ['loamy', 'cater', 'agree'] 3\n",
            "71 ['candy', 'suite', 'bevel', 'error'] 4\n",
            "72 ['flunk', 'stale', 'spoil', 'swirl'] 4\n",
            "73 ['topaz', 'scale', 'barge', 'argue'] 4\n",
            "74 ['paddy', 'diner', 'bused', 'bleed'] 4\n",
            "75 ['prong', 'slate', 'delta'] 3\n",
            "76 ['joint', 'pried', 'slick', 'click', 'flick'] 5\n",
            "77 ['umbra', 'melon', 'comet', 'totem'] 4\n",
            "78 ['sweep', 'tower', 'wooer'] 3\n",
            "79 ['iliac', 'horse', 'droop', 'grout', 'front'] 5\n",
            "80 ['admin', 'horse', 'shrub'] 3\n",
            "81 ['epoxy', 'pasty', 'paddy', 'parry'] 4\n",
            "82 ['spear', 'deign', 'bible', 'biome'] 4\n",
            "83 ['agate', 'pedal', 'lapel'] 3\n",
            "84 ['twice', 'roast', 'smart', 'start'] 4\n",
            "85 ['frill', 'trace', 'greet'] 3\n",
            "86 ['beset', 'diner', 'goner'] 3\n",
            "87 ['taint', 'curse', 'bowel', 'golem'] 4\n",
            "88 ['goose', 'slant', 'lusty'] 3\n",
            "89 ['minus', 'crate', 'goody', 'boozy', 'loopy'] 5\n",
            "90 ['hefty', 'slain', 'prong', 'round'] 4\n",
            "91 ['cough', 'suite', 'audit'] 3\n",
            "92 ['juicy', 'dying', 'eying', 'lying'] 4\n",
            "93 ['tatty', 'lance', 'rapid', 'gamma'] 4\n",
            "94 ['plane', 'coral', 'labor'] 3\n",
            "95 ['nobly', 'slate', 'islet'] 3\n",
            "96 ['fancy', 'chore', 'civic'] 3\n",
            "97 ['tonal', 'forge'] 2\n",
            "98 ['geeky', 'salty', 'dowry', 'corny'] 4\n",
            "99 ['belch', 'trail', 'flout', 'moult'] 4\n",
            "100 ['vapid', 'cabin', 'basic'] 3\n",
            "101 ['sewer', 'slant', 'sadly', 'salad'] 4\n",
            "102 ['trail', 'beast', 'agate'] 3\n",
            "103 ['ralph', 'spent', 'spiky', 'spicy'] 4\n",
            "104 ['vigor', 'trace', 'harpy', 'spray'] 4\n",
            "105 ['alter', 'space', 'essay'] 3\n",
            "106 ['seize', 'carol', 'gourd', 'fjord'] 4\n",
            "107 ['whose', 'spiel', 'speak', 'spend'] 4\n",
            "108 ['flown', 'trace', 'ahead', 'essay', 'kebab'] 5\n",
            "109 ['abode', 'guild'] 2\n",
            "110 ['bluer', 'tabby', 'aback'] 3\n",
            "111 ['solid', 'torch', 'motor'] 3\n",
            "112 ['sushi', 'blare', 'algae', 'alone'] 4\n",
            "113 ['cadet', 'batch', 'hatch'] 3\n",
            "114 ['bunny', 'layer', 'hyper'] 3\n",
            "115 ['curve', 'snout', 'thumb'] 3\n",
            "116 ['tulip', 'crane', 'dowry'] 3\n",
            "117 ['sushi', 'duchy', 'ought'] 3\n",
            "118 ['feign', 'react', 'beech', 'belch'] 4\n",
            "119 ['ghoul', 'hunch', 'butch', 'dutch'] 4\n",
            "120 ['splat', 'pilot'] 2\n",
            "121 ['crowd', 'tweed'] 2\n",
            "122 ['thorn', 'pilot', 'boast', 'comet'] 4\n",
            "123 ['theme', 'saint', 'daunt', 'gaunt', 'jaunt'] 5\n",
            "124 ['krill', 'saute', 'cheap', 'amend', 'enema'] 5\n",
            "125 ['hymen', 'plier', 'bused', 'steed'] 4\n",
            "126 ['plume', 'train', 'caddy', 'abyss'] 4\n",
            "127 ['voter', 'acorn', 'droop', 'broil', 'growl'] 5\n",
            "128 ['usurp', 'alien', 'cling', 'fling'] 4\n",
            "129 ['avian', 'lemon', 'token', 'dozen'] 4\n",
            "130 ['judge', 'roast', 'nobly', 'booby', 'boozy'] 5\n",
            "131 ['revue', 'trace', 'pride', 'erode'] 4\n",
            "132 ['meant', 'could', 'world'] 3\n",
            "133 ['girth', 'glade', 'gnome', 'gouge'] 4\n",
            "134 ['pinto', 'cried', 'chick', 'click'] 4\n",
            "135 ['usher', 'molar', 'briar'] 3\n",
            "136 ['silky', 'trace', 'great'] 3\n",
            "137 ['junta', 'least', 'tidal', 'altar'] 4\n",
            "138 ['cleat', 'solid', 'bully', 'pulpy'] 4\n",
            "139 ['credo', 'shirt', 'apart', 'blurt'] 4\n",
            "140 ['honor', 'model', 'posit', 'boast', 'coast'] 5\n",
            "141 ['waste', 'guild', 'dummy', 'duchy'] 4\n",
            "142 ['topaz', 'crone', 'brown', 'groin'] 4\n",
            "143 ['mucky', 'slate', 'diner', 'river', 'fiber', 'fixer'] 6\n",
            "144 ['annex', 'short', 'droop', 'croup', 'group'] 5\n",
            "145 ['cabby', 'diner', 'rouse', 'rogue'] 4\n",
            "146 ['friar', 'slate', 'madly', 'badly'] 4\n",
            "147 ['viral', 'trace', 'smart'] 3\n",
            "148 ['rigor', 'lithe', 'pithy'] 3\n",
            "149 ['story', 'madly', 'candy', 'bawdy', 'gaudy'] 5\n",
            "150 ['visit', 'cried', 'clink', 'chili', 'chill'] 5\n",
            "151 ['pouch', 'thorn', 'heron'] 3\n",
            "152 ['tough', 'rowdy', 'modal', 'vodka'] 4\n",
            "153 ['blind', 'since', 'finer'] 3\n",
            "154 ['patsy', 'siren', 'screw', 'surer'] 4\n",
            "155 ['excel', 'saint', 'rabid', 'radii', 'radio'] 5\n",
            "156 ['axial', 'horse', 'rogue', 'rouge'] 4\n",
            "157 ['rivet', 'drape', 'perch'] 3\n",
            "158 ['cynic', 'react', 'retch'] 3\n",
            "159 ['eater', 'trope', 'wrote'] 3\n",
            "160 ['swing', 'crate', 'cluck', 'clock'] 4\n",
            "161 ['vegan', 'price', 'tilde'] 3\n",
            "162 ['total', 'shout', 'stork', 'store'] 4\n",
            "163 ['bleat', 'diner', 'rouse', 'grope', 'prove'] 5\n",
            "164 ['lefty', 'cairn', 'bring'] 3\n",
            "165 ['ruder', 'slate', 'smile', 'solve'] 4\n",
            "166 ['paler', 'skate', 'cheat'] 3\n",
            "167 ['khaki', 'diner', 'price', 'tribe', 'grime'] 5\n",
            "168 ['snore', 'cleat', 'exult'] 3\n",
            "169 ['teary', 'diner', 'super', 'usher'] 4\n",
            "170 ['relax', 'stone', 'epoch'] 3\n",
            "171 ['itchy', 'tried', 'triad'] 3\n",
            "172 ['mound', 'crate', 'break'] 3\n",
            "173 ['comic', 'pinto', 'rhino'] 3\n",
            "174 ['brawn', 'later', 'moral', 'rural', 'viral'] 5\n",
            "175 ['hover', 'moldy', 'count', 'conic'] 4\n",
            "176 ['women', 'smelt', 'masse'] 3\n",
            "177 ['ennui', 'minty', 'conic', 'ionic', 'sonic'] 5\n",
            "178 ['slain', 'rival', 'vital'] 3\n",
            "179 ['scaly', 'trace'] 2\n",
            "180 ['giddy', 'reign', 'sling', 'using'] 4\n",
            "181 ['beast', 'heard', 'leach', 'peach'] 4\n",
            "182 ['opera', 'patsy', 'champ'] 3\n",
            "183 ['tiara', 'cleat', 'pasty', 'baton'] 4\n",
            "184 ['drill', 'trace', 'grave', 'brake'] 4\n",
            "185 ['downy', 'trace', 'chuck', 'pluck'] 4\n",
            "186 ['sober', 'trace', 'crane', 'crave', 'craze'] 5\n",
            "187 ['their', 'pride', 'gripe'] 3\n",
            "188 ['where', 'weary'] 2\n",
            "189 ['grave', 'point', 'picky'] 3\n",
            "190 ['dream', 'stale', 'acute'] 3\n",
            "191 ['goose', 'renal', 'deter', 'merry', 'berry', 'ferry'] 6\n",
            "192 ['mummy', 'trace', 'angle', 'abide', 'aside'] 5\n",
            "193 ['scrum', 'tried', 'tapir'] 3\n",
            "194 ['agile', 'world', 'troll'] 3\n",
            "195 ['inlay', 'unify'] 2\n",
            "196 ['couch', 'suite', 'rebus'] 3\n",
            "197 ['caper', 'hoist', 'boost'] 3\n",
            "198 ['pearl', 'torus', 'truss'] 3\n",
            "199 ['cairn', 'tilde', 'pique', 'siege'] 4\n",
            "200 ['stave', 'timer', 'tiger'] 3\n",
            "201 ['unite', 'grand', 'canal', 'banal'] 4\n",
            "202 ['ensue', 'slurp', 'slump'] 3\n",
            "203 ['overt', 'brain', 'crank'] 3\n",
            "204 ['merry', 'curse', 'forge', 'gorge'] 4\n",
            "205 ['salve', 'diner', 'retch', 'query'] 4\n",
            "206 ['cedar', 'grind', 'drink'] 3\n",
            "207 ['bezel', 'saint', 'mayor', 'favor'] 4\n",
            "208 ['weigh', 'parse', 'bleat', 'abbey'] 4\n",
            "209 ['biddy', 'salty', 'tangy'] 3\n",
            "210 ['phone', 'panic'] 2\n",
            "211 ['genie', 'roast', 'solar'] 3\n",
            "212 ['angle', 'price', 'shire'] 3\n",
            "213 ['spark', 'price', 'prong', 'proof', 'proud', 'prowl', 'proxy'] 7\n",
            "214 ['adopt', 'pilot', 'point'] 3\n",
            "215 ['speak', 'count', 'robot'] 3\n",
            "216 ['havoc', 'price', 'prick'] 3\n",
            "217 ['cleat', 'price', 'mince', 'since', 'wince'] 5\n",
            "218 ['abbey', 'short', 'grind', 'crick', 'crimp'] 5\n",
            "219 ['cream', 'hoist', 'blond', 'knoll'] 4\n",
            "220 ['condo', 'slate', 'spray', 'sugar'] 4\n",
            "221 ['allow', 'wrath', 'whack'] 3\n",
            "222 ['fugue', 'crust', 'adult', 'mount'] 4\n",
            "223 ['stair', 'crude', 'perky'] 3\n",
            "224 ['hussy', 'truce', 'caulk', 'could'] 4\n",
            "225 ['scamp', 'tried', 'brown', 'wrung'] 4\n",
            "226 ['sixth', 'lithe', 'light'] 3\n",
            "227 ['first', 'stash', 'these', 'those'] 4\n",
            "228 ['cacti', 'shirt', 'foist', 'joist', 'moist'] 5\n",
            "229 ['zebra', 'chard', 'shard'] 3\n",
            "230 ['truce', 'pleat'] 2\n",
            "231 ['slack', 'gloat', 'aloft'] 3\n",
            "232 ['gaudy', 'trice', 'slink', 'skill'] 4\n",
            "233 ['study', 'diner', 'elder'] 3\n",
            "234 ['burst', 'cried', 'prove', 'frame'] 4\n",
            "235 ['brick', 'parse', 'round', 'humor'] 4\n",
            "236 ['tarot', 'lance', 'gauze', 'mauve', 'pause'] 5\n",
            "237 ['elope', 'cleat', 'ulcer'] 3\n",
            "238 ['sweep', 'cairn', 'abort', 'ultra'] 4\n",
            "239 ['inlay', 'singe', 'joint', 'robin'] 4\n",
            "240 ['talon', 'since', 'cynic'] 3\n",
            "241 ['curse', 'drain', 'arbor', 'aroma'] 4\n",
            "242 ['stuck', 'caulk'] 2\n",
            "243 ['alien', 'trace', 'shave', 'shade', 'shake'] 5\n",
            "244 ['gross', 'tonga', 'dodgy', 'dodge'] 4\n",
            "245 ['augur', 'slice', 'spilt', 'skill', 'swill'] 5\n",
            "246 ['ultra', 'scant', 'cheat', 'tacit'] 4\n",
            "247 ['ridge', 'later', 'other'] 3\n",
            "248 ['fence', 'train', 'thorn'] 3\n",
            "249 ['dingy', 'crate', 'trope', 'trove'] 4\n",
            "250 ['sixth', 'blare', 'bloke'] 3\n",
            "251 ['beset', 'cairn', 'filmy', 'hippo', 'vivid'] 5\n",
            "252 ['putty', 'spare', 'spill'] 3\n",
            "253 ['snore', 'giant', 'chant'] 3\n",
            "254 ['learn', 'suite', 'choke'] 3\n",
            "255 ['dandy', 'trice', 'rouse', 'revue', 'rupee'] 5\n",
            "256 ['plant', 'tangy', 'nasty'] 3\n",
            "257 ['truck', 'rouge', 'mourn'] 3\n",
            "258 ['heist', 'chore', 'wheel', 'ahead'] 4\n",
            "259 ['solid', 'trice', 'prime', 'bribe', 'brine'] 5\n",
            "260 ['lapse', 'could', 'clock', 'cloth'] 4\n",
            "261 ['saner', 'cobra', 'hoard'] 3\n",
            "262 ['fruit', 'slant', 'sheet', 'sweet'] 4\n",
            "263 ['terra', 'hoist', 'month'] 3\n",
            "264 ['trump', 'plane', 'apple', 'lapse'] 4\n",
            "265 ['juror', 'slate', 'taint', 'batch', 'catch', 'hatch', 'match', 'patch', 'watch'] 9\n",
            "266 ['spelt', 'north', 'today'] 3\n",
            "267 ['quart', 'slunk', 'ficus', 'focus'] 4\n",
            "268 ['beret', 'cleat', 'smelt'] 3\n",
            "269 ['trace', 'tease'] 2\n",
            "270 ['onion', 'crate', 'cater'] 3\n",
            "271 ['abhor', 'close', 'dodge', 'movie'] 4\n",
            "272 ['endow', 'crate', 'haste', 'saute'] 4\n",
            "273 ['after', 'align', 'allow'] 3\n",
            "274 ['salon', 'diner', 'renew'] 3\n",
            "275 ['shrug', 'chore', 'their'] 3\n",
            "276 ['leech', 'flush', 'slash', 'slosh'] 4\n",
            "277 ['steam', 'diner', 'force', 'purge'] 4\n",
            "278 ['musty', 'stale', 'chest'] 3\n",
            "279 ['cello', 'demon', 'depot'] 3\n",
            "280 ['drama', 'heist', 'noble', 'epoxy'] 4\n",
            "281 ['slurp', 'patio', 'nymph'] 3\n",
            "282 ['sheen', 'giant', 'found'] 3\n",
            "283 ['amaze', 'chart', 'shaky', 'shall'] 4\n",
            "284 ['crony', 'party', 'harry'] 3\n",
            "285 ['vapor', 'coven', 'shove', 'stove'] 4\n",
            "286 ['avert', 'slink', 'godly', 'folly', 'lowly'] 5\n",
            "287 ['carat', 'spelt', 'shunt', 'snout'] 4\n",
            "288 ['acute', 'tripe', 'trope'] 3\n",
            "289 ['wench', 'fewer'] 2\n",
            "290 ['lower', 'awful', 'shawl'] 3\n",
            "291 ['blend', 'tonal', 'natal'] 3\n",
            "292 ['udder', 'saint', 'clamp', 'comma'] 4\n",
            "293 ['rider', 'court', 'foray'] 3\n",
            "294 ['stein', 'spore', 'scare'] 3\n",
            "295 ['plain', 'stair'] 2\n",
            "296 ['thump', 'drone', 'slick', 'black'] 4\n",
            "297 ['leaky', 'baron', 'admit', 'squad'] 4\n",
            "298 ['duvet', 'carol', 'royal'] 3\n",
            "299 ['legal', 'court', 'chuck', 'chunk'] 4\n",
            "300 ['maple', 'midge', 'mince'] 3\n",
            "301 ['druid', 'slate', 'shake', 'shame'] 4\n",
            "302 ['owing', 'crate', 'check', 'cheek'] 4\n",
            "303 ['beget', 'crane', 'lapse', 'ample'] 4\n",
            "304 ['whelp', 'tonal', 'claim', 'flair'] 4\n",
            "305 ['front', 'forge', 'foyer'] 3\n",
            "306 ['eaten', 'harpy', 'carol', 'cargo'] 4\n",
            "307 ['meant', 'pried', 'glide', 'chide', 'oxide'] 5\n",
            "308 ['march', 'slate', 'plait', 'plant'] 4\n",
            "309 ['crave', 'shove', 'olive'] 3\n",
            "310 ['swore', 'heart', 'exert', 'inert'] 4\n",
            "311 ['chant', 'baler', 'askew'] 3\n",
            "312 ['paler', 'shine', 'heist'] 3\n",
            "313 ['canal', 'snore', 'shown'] 3\n",
            "314 ['sumac', 'horse', 'testy', 'zesty'] 4\n",
            "315 ['craze', 'talon', 'hasty'] 3\n",
            "316 ['joust', 'trash'] 2\n",
            "317 ['fluff', 'filet', 'false', 'fella'] 4\n",
            "318 ['gloom', 'stale', 'rival', 'larva'] 4\n",
            "319 ['drawn', 'rouse', 'forth', 'forgo'] 4\n",
            "320 ['blend', 'roast', 'stork', 'storm', 'story'] 5\n",
            "321 ['proud', 'heart', 'hairy'] 3\n",
            "322 ['tying', 'tonic', 'train'] 3\n",
            "323 ['tread', 'rinse', 'perky', 'mower', 'homer'] 5\n",
            "324 ['beard', 'badge'] 2\n",
            "325 ['heady', 'round', 'digit', 'midst'] 4\n",
            "326 ['assay', 'hardy', 'mangy', 'canny'] 4\n",
            "327 ['staid', 'trust', 'gusto', 'fetus'] 4\n",
            "328 ['atoll', 'their', 'butch'] 3\n",
            "329 ['photo', 'alien', 'brace', 'farce'] 4\n",
            "330 ['flesh', 'slink', 'slang', 'slung'] 4\n",
            "331 ['soapy', 'gipsy', 'tipsy'] 3\n",
            "332 ['wagon', 'slate', 'fetal', 'metal'] 4\n",
            "333 ['banal', 'slope', 'filer', 'wield', 'yield'] 5\n",
            "334 ['comma', 'suite', 'genre', 'belle', 'delve'] 5\n",
            "335 ['carol', 'heist', 'deign', 'being'] 4\n",
            "336 ['aorta', 'crone', 'scour'] 3\n",
            "337 ['fluid', 'slept', 'clash', 'glass'] 4\n",
            "338 ['shown', 'dealt', 'cagey', 'gamer'] 4\n",
            "339 ['doing', 'slate', 'scrap'] 3\n",
            "340 ['tepid', 'lager', 'honey', 'boney', 'money'] 5\n",
            "341 ['whose', 'lathe', 'hedge', 'hinge'] 4\n",
            "342 ['adage', 'abort', 'album'] 3\n",
            "343 ['tweed', 'cairn', 'flock', 'pouch', 'vouch'] 5\n",
            "344 ['hutch', 'slate', 'asset'] 3\n",
            "345 ['value', 'train', 'tiara'] 3\n",
            "346 ['index', 'crate', 'crept'] 3\n",
            "347 ['rebar', 'bacon', 'bayou'] 3\n",
            "348 ['stray', 'atoll'] 2\n",
            "349 ['proof', 'baron', 'manor'] 3\n",
            "350 ['twixt', 'parse', 'debar', 'creak'] 4\n",
            "351 ['shrug', 'shine', 'shalt', 'shock', 'showy'] 5\n",
            "352 ['faint', 'beard', 'scale', 'phase'] 4\n",
            "353 ['dowel', 'snort', 'broth', 'froth'] 4\n",
            "354 ['lease', 'refit', 'depth'] 3\n",
            "355 ['altar', 'slice', 'flung', 'gloom'] 4\n",
            "356 ['bused', 'hoard', 'flood'] 3\n",
            "357 ['oxide', 'snail', 'await', 'trait'] 4\n",
            "358 ['slant', 'route', 'birth', 'girth'] 4\n",
            "359 ['snide', 'peril', 'piety'] 3\n",
            "360 ['snore', 'paler', 'paper', 'parer', 'payer'] 5\n",
            "361 ['cease', 'horse', 'loose', 'goose'] 4\n",
            "362 ['prong', 'sloth', 'aloft', 'float'] 4\n",
            "363 ['cower', 'sonar', 'donor'] 3\n",
            "364 ['quoth', 'sport', 'atoll', 'atone'] 4\n",
            "365 ['royal', 'thorn', 'credo', 'primo'] 4\n",
            "366 ['mural', 'party', 'apron'] 3\n",
            "367 ['lying', 'tonal', 'felon', 'blown'] 4\n",
            "368 ['silky', 'trace', 'cacao'] 3\n",
            "369 ['small', 'close', 'loser'] 3\n",
            "370 ['stare', 'point', 'input'] 3\n",
            "371 ['shack', 'baler', 'tonal', 'float', 'gloat'] 5\n",
            "372 ['never', 'shalt', 'alloy', 'awful'] 4\n",
            "373 ['gooey', 'trail', 'crisp', 'brink'] 4\n",
            "374 ['mambo', 'prime', 'smile', 'smite'] 4\n",
            "375 ['waxen', 'trade', 'beady'] 3\n",
            "376 ['quest', 'dusty', 'gusty', 'lusty', 'musty', 'rusty'] 6\n",
            "377 ['eaten', 'retch', 'retro'] 3\n",
            "378 ['lymph', 'cleat', 'guild', 'droll'] 4\n",
            "379 ['dryly', 'pasty', 'canny', 'baggy', 'gawky'] 5\n",
            "380 ['rigor', 'slate', 'butch', 'dutch', 'hutch'] 5\n",
            "381 ['chump', 'parse', 'pilot', 'pinto'] 4\n",
            "382 ['chirp', 'saint', 'daily', 'gaily'] 4\n",
            "383 ['sheet', 'covet', 'inlet', 'beget', 'egret'] 5\n",
            "384 ['debar', 'tonal', 'allay', 'lilac'] 4\n",
            "385 ['chain', 'rouse', 'sever'] 3\n",
            "386 ['brush', 'alien', 'field'] 3\n",
            "387 ['maxim', 'horse', 'flung', 'fluff'] 4\n",
            "388 ['cairn', 'short', 'hydro'] 3\n",
            "389 ['frail', 'flask', 'flack'] 3\n",
            "390 ['flout', 'parse', 'agape'] 3\n",
            "391 ['polar', 'mount', 'dodge', 'booze', 'voice'] 5\n",
            "392 ['datum', 'triad', 'stead'] 3\n",
            "393 ['woman', 'slate', 'stalk'] 3\n",
            "394 ['shirt', 'earth', 'berth'] 3\n",
            "395 ['audit', 'medal', 'madam'] 3\n",
            "396 ['awash', 'their', 'fight', 'light', 'might', 'night'] 6\n",
            "397 ['knoll', 'glean', 'plant', 'bland'] 4\n",
            "398 ['murky', 'tried', 'liner', 'liver'] 4\n",
            "399 ['glint', 'argue', 'hedge', 'wedge'] 4\n",
            "400 ['nylon', 'crate', 'rabid', 'augur'] 4\n",
            "401 ['marry', 'grimy', 'roomy'] 3\n",
            "402 ['lease', 'cairn', 'match', 'wacky'] 4\n",
            "403 ['mauve', 'short', 'blond', 'clock', 'flock'] 5\n",
            "404 ['thump', 'drone', 'angry'] 3\n",
            "405 ['shyly', 'ready', 'funky', 'booty', 'bobby'] 5\n",
            "406 ['deity', 'suite', 'write', 'trite'] 4\n",
            "407 ['uncut', 'parse', 'amply', 'aphid'] 4\n",
            "408 ['plate', 'torus', 'tryst'] 3\n",
            "409 ['spent', 'baler', 'guide', 'midge'] 4\n",
            "410 ['goner', 'sower', 'cower', 'lower', 'mower', 'power'] 6\n",
            "411 ['wreck', 'slate', 'elope'] 3\n",
            "412 ['tutor', 'shale', 'cinch'] 3\n",
            "413 ['munch', 'metal', 'motif', 'motor', 'motto'] 5\n",
            "414 ['cross', 'sloop', 'stomp'] 3\n",
            "415 ['thrum', 'suite', 'unset', 'upset'] 4\n",
            "416 ['since', 'moral', 'bully', 'bluff'] 4\n",
            "417 ['power', 'strap', 'cramp'] 3\n",
            "418 ['snuff', 'outer', 'quart'] 3\n",
            "419 ['focus', 'coral', 'colon', 'coyly'] 4\n",
            "420 ['maize', 'crust', 'pouty', 'youth'] 4\n",
            "421 ['creep', 'teary', 'rhyme'] 3\n",
            "422 ['pygmy', 'baggy', 'buggy'] 3\n",
            "423 ['venom', 'inter', 'alien'] 3\n",
            "424 ['cycle', 'tread', 'shear', 'smear'] 4\n",
            "425 ['shirt', 'pilot', 'audit', 'unfit'] 4\n",
            "426 ['aunty', 'pasty', 'party', 'patty'] 4\n",
            "427 ['prior', 'shine', 'flint', 'blink', 'cling'] 5\n",
            "428 ['shelf', 'glean'] 2\n",
            "429 ['plush', 'delay', 'angel', 'camel', 'label'] 5\n",
            "430 ['belly', 'party', 'shiny', 'hunky'] 4\n",
            "431 ['quail', 'giant', 'khaki'] 3\n",
            "432 ['grail', 'curse', 'metro', 'power', 'poker'] 5\n",
            "433 ['blaze', 'liver', 'cruel', 'gruel'] 4\n",
            "434 ['clasp', 'trice', 'twice'] 3\n",
            "435 ['micro', 'slate', 'thank', 'twang'] 4\n",
            "436 ['apnea', 'short', 'shrub', 'shrug'] 4\n",
            "437 ['drake', 'great', 'treat'] 3\n",
            "438 ['ruddy', 'snout', 'unfit', 'unlit'] 4\n",
            "439 ['weary', 'waive', 'waste'] 3\n",
            "440 ['pasty', 'trice', 'refit', 'merit'] 4\n",
            "441 ['mover', 'coven', 'woven'] 3\n",
            "442 ['black', 'focal', 'octal'] 3\n",
            "443 ['chute', 'renal', 'deign', 'needy'] 4\n",
            "444 ['clock', 'clone', 'clown'] 3\n",
            "445 ['brink', 'tilde', 'disco', 'widow'] 4\n",
            "446 ['quark', 'diner', 'bring', 'irony'] 4\n",
            "447 ['field', 'drone', 'ready', 'ruder'] 4\n",
            "448 ['plaza', 'gauze'] 2\n",
            "449 ['sonic', 'price', 'chief'] 3\n",
            "450 ['ember', 'panel', 'woven', 'onset'] 4\n",
            "451 ['haunt', 'slice', 'pride', 'prime', 'prize'] 5\n",
            "452 ['drink', 'singe', 'fungi'] 3\n",
            "453 ['cloak', 'crate', 'chard', 'charm'] 4\n",
            "454 ['stern', 'claim', 'godly', 'gully'] 4\n",
            "455 ['outer', 'eater', 'deter', 'inter'] 4\n",
            "456 ['whale', 'which', 'whoop'] 3\n",
            "457 ['array', 'slate', 'taint', 'taunt'] 4\n",
            "458 ['afire', 'metro', 'berry', 'decry', 'leery'] 5\n",
            "459 ['bunch', 'cater', 'clamp', 'class'] 4\n",
            "460 ['rowdy', 'slate', 'cutie', 'tepee', 'theme'] 5\n",
            "461 ['sassy', 'nerdy', 'lumpy', 'lobby', 'lofty'] 5\n",
            "462 ['exert', 'tonal', 'tasty', 'tibia'] 4\n",
            "463 ['catty', 'diner', 'slope', 'booze'] 4\n",
            "464 ['filmy', 'slate', 'along', 'alpha'] 4\n",
            "465 ['issue', 'crane', 'globe', 'theme', 'thyme'] 5\n",
            "466 ['beset', 'cleat', 'eclat'] 3\n",
            "467 ['fetus', 'burnt', 'doubt'] 3\n",
            "468 ['vigor', 'later', 'caper', 'parer'] 4\n",
            "469 ['stamp', 'truce', 'chute'] 3\n",
            "470 ['onset', 'stray', 'stick'] 3\n",
            "471 ['papal', 'diner', 'tribe', 'trice'] 4\n",
            "472 ['prose', 'guile', 'alike'] 3\n",
            "473 ['diner', 'sloth', 'sooth'] 3\n",
            "474 ['gusto', 'pearl', 'recap'] 3\n",
            "475 ['exact', 'aloft', 'taint', 'paint', 'saint'] 5\n",
            "476 ['recap', 'stole', 'bilge', 'liege'] 4\n",
            "477 ['strap', 'cried', 'humor', 'glory'] 4\n",
            "478 ['rival', 'trace', 'grate'] 3\n",
            "479 ['chalk', 'taper', 'about', 'admit'] 4\n",
            "480 ['moult', 'crane', 'brisk'] 3\n",
            "481 ['unity', 'delay', 'smoky', 'soggy'] 4\n",
            "482 ['style', 'chaos', 'brisk', 'usurp'] 4\n",
            "483 ['pique', 'chart', 'scald'] 3\n",
            "484 ['ebony', 'scorn'] 2\n",
            "485 ['borax', 'slate', 'leave'] 3\n",
            "486 ['berry', 'stale', 'cutie', 'twine'] 4\n",
            "487 ['delta', 'hoist', 'stink', 'sting'] 4\n",
            "488 ['nanny', 'trice', 'slump', 'bough'] 4\n",
            "489 ['scaly', 'raise', 'harsh', 'marsh'] 4\n",
            "490 ['spore', 'sloth'] 2\n",
            "491 ['handy', 'candy', 'dandy'] 3\n",
            "492 ['brace', 'short', 'round', 'vigor'] 4\n",
            "493 ['croup', 'talon', 'dodge', 'howdy'] 4\n",
            "494 ['glean', 'sinew', 'drone', 'enjoy'] 4\n",
            "495 ['tweet', 'cairn', 'basil', 'valid'] 4\n",
            "496 ['short', 'model', 'young', 'conic', 'ionic'] 5\n",
            "497 ['grasp', 'table', 'decal', 'equal'] 4\n",
            "498 ['fault', 'snout', 'unset'] 3\n",
            "499 ['aroma', 'shorn', 'floor'] 3\n",
            "500 ['began', 'chart', 'catch'] 3\n",
            "501 ['mafia', 'slate', 'spare', 'space', 'spade'] 5\n",
            "502 ['clink', 'risen', 'stein'] 3\n",
            "503 ['prime', 'deign', 'chief', 'exist'] 4\n",
            "504 ['clamp', 'diner', 'brisk', 'quirk'] 4\n",
            "505 ['raise', 'linen', 'denim'] 3\n",
            "506 ['riper', 'trace', 'drove', 'grove'] 4\n",
            "507 ['needy', 'parse', 'spiel'] 3\n",
            "508 ['smell', 'macro', 'might', 'muddy', 'mummy'] 5\n",
            "Mean Score: 3.6923076923076925\n",
            "Games Won in 2 Guesses: 21\n",
            "Games Lost: 2\n"
          ]
        }
      ]
    },
    {
      "cell_type": "code",
      "source": [
        "%timeit play_game_entropy('smell', 'mummy', possible_words, encoded_possible)"
      ],
      "metadata": {
        "colab": {
          "base_uri": "https://localhost:8080/"
        },
        "id": "wCyU-rAQFEl_",
        "outputId": "7844b36d-1a12-4cec-cc1e-f2c14cadbe1f"
      },
      "execution_count": 47,
      "outputs": [
        {
          "output_type": "stream",
          "name": "stdout",
          "text": [
            "58.2 ms ± 23 ms per loop (mean ± std. dev. of 7 runs, 10 loops each)\n"
          ]
        }
      ]
    },
    {
      "cell_type": "markdown",
      "source": [
        "The word 'salet' is a popular opening guess among Wordle enthusiasts.  Let's see how 'salet' performs versus a random opening guess:"
      ],
      "metadata": {
        "id": "0ArKs1b-Hx0I"
      }
    },
    {
      "cell_type": "code",
      "source": [
        "game_scores = np.zeros(n_games, dtype=int)\n",
        "\n",
        "for i, secret in enumerate(past_words):  \n",
        "\n",
        "  guess = 'salet'\n",
        "  guesses = play_game_entropy(guess, secret, possible_words, encoded_possible)  \n",
        "  game_scores[i] = len(guesses)\n",
        "  print(i, guesses, game_scores[i])\n",
        "\n",
        "print('Mean Score:', game_scores[game_scores < 7].mean())\n",
        "print('Games Won in 2 Guesses:', sum(game_scores < 3))\n",
        "print('Games Lost:', sum(game_scores > 6))\n",
        "\n",
        "salet_entropy_scores = game_scores.copy()"
      ],
      "metadata": {
        "id": "8rGPgfJ8o7YN",
        "colab": {
          "base_uri": "https://localhost:8080/"
        },
        "outputId": "f5a2cdb8-d369-444d-b2c2-f5ee298ee16c"
      },
      "execution_count": 52,
      "outputs": [
        {
          "output_type": "stream",
          "name": "stdout",
          "text": [
            "0 ['salet', 'adorn', 'chair', 'cigar'] 4\n",
            "1 ['salet', 'erect', 'merit', 'rebut'] 4\n",
            "2 ['salet', 'spiny', 'sissy'] 3\n",
            "3 ['salet', 'round', 'guppy', 'humph'] 4\n",
            "4 ['salet', 'beard', 'awake'] 3\n",
            "5 ['salet', 'floss', 'blush'] 3\n",
            "6 ['salet', 'final', 'focal'] 3\n",
            "7 ['salet', 'beard', 'adage', 'evade'] 4\n",
            "8 ['salet', 'banal', 'naval'] 3\n",
            "9 ['salet', 'spire', 'serve'] 3\n",
            "10 ['salet', 'grate', 'death', 'heath'] 4\n",
            "11 ['salet', 'adorn', 'chard', 'diary', 'dwarf'] 5\n",
            "12 ['salet', 'liver', 'bowel', 'model'] 4\n",
            "13 ['salet', 'cairn', 'harpy', 'karma'] 4\n",
            "14 ['salet', 'story', 'stink'] 3\n",
            "15 ['salet', 'beard', 'drake', 'grade'] 4\n",
            "16 ['salet', 'beret', 'comet', 'duvet', 'quiet'] 5\n",
            "17 ['salet', 'drone', 'begin', 'bench'] 4\n",
            "18 ['salet', 'grate', 'abate'] 3\n",
            "19 ['salet', 'drone', 'begin', 'feign'] 4\n",
            "20 ['salet', 'cairn', 'harpy', 'favor', 'major'] 5\n",
            "21 ['salet', 'grate', 'death'] 3\n",
            "22 ['salet', 'purse', 'cress', 'fresh'] 4\n",
            "23 ['salet', 'worst', 'crust'] 3\n",
            "24 ['salet', 'sloth', 'stool'] 3\n",
            "25 ['salet', 'moldy', 'colon'] 3\n",
            "26 ['salet', 'arise', 'abase'] 3\n",
            "27 ['salet', 'cairn', 'harry', 'marry'] 4\n",
            "28 ['salet', 'great', 'heart', 'react'] 4\n",
            "29 ['salet', 'party', 'batty'] 3\n",
            "30 ['salet', 'drone', 'pride'] 3\n",
            "31 ['salet', 'floss'] 2\n",
            "32 ['salet', 'hello', 'helix'] 3\n",
            "33 ['salet', 'adorn', 'croak'] 3\n",
            "34 ['salet', 'stank', 'staid', 'staff'] 4\n",
            "35 ['salet', 'gamer', 'caper', 'paper'] 4\n",
            "36 ['salet', 'diner', 'unfed'] 3\n",
            "37 ['salet', 'globe', 'dwell', 'whelp'] 4\n",
            "38 ['salet', 'trial', 'trawl'] 3\n",
            "39 ['salet', 'north', 'outdo'] 3\n",
            "40 ['salet', 'beard', 'abide', 'adobe'] 4\n",
            "41 ['salet', 'adorn', 'chair', 'crack', 'cramp', 'crazy'] 6\n",
            "42 ['salet', 'shrew', 'sewer', 'sower'] 4\n",
            "43 ['salet', 'beard', 'recap', 'repay'] 4\n",
            "44 ['salet', 'ingot', 'fight', 'digit'] 4\n",
            "45 ['salet', 'grate', 'crate'] 3\n",
            "46 ['salet', 'could', 'cluck'] 3\n",
            "47 ['salet', 'spire', 'spice', 'spike'] 4\n",
            "48 ['salet', 'round', 'picky', 'civic', 'mimic'] 5\n",
            "49 ['salet', 'round', 'bound', 'found', 'hound', 'mound', 'pound'] 7\n",
            "50 ['salet', 'cairn', 'mafia', 'maxim'] 4\n",
            "51 ['salet', 'liver', 'liken', 'linen'] 4\n",
            "52 ['salet', 'beret', 'comet', 'unmet'] 4\n",
            "53 ['salet', 'bless', 'flesh'] 3\n",
            "54 ['salet', 'round', 'boozy', 'booby'] 4\n",
            "55 ['salet', 'north', 'forth'] 3\n",
            "56 ['salet', 'worst', 'burst', 'first'] 4\n",
            "57 ['salet', 'stank', 'stand'] 3\n",
            "58 ['salet', 'hello', 'belle', 'belly'] 4\n",
            "59 ['salet', 'round', 'crook', 'ivory'] 4\n",
            "60 ['salet', 'spire', 'seedy'] 3\n",
            "61 ['salet', 'ingot', 'print'] 3\n",
            "62 ['salet', 'beard', 'weary', 'yearn'] 4\n",
            "63 ['salet', 'adorn', 'drain'] 3\n",
            "64 ['salet', 'drone', 'crepe', 'bribe'] 4\n",
            "65 ['salet', 'shunt', 'scout', 'spout', 'stout'] 5\n",
            "66 ['salet', 'lager', 'navel', 'panel'] 4\n",
            "67 ['salet', 'brash', 'crass'] 3\n",
            "68 ['salet', 'globe', 'flume'] 3\n",
            "69 ['salet', 'final', 'offal'] 3\n",
            "70 ['salet', 'anger', 'agree'] 3\n",
            "71 ['salet', 'drone', 'error'] 3\n",
            "72 ['salet', 'slink', 'spill', 'swirl'] 4\n",
            "73 ['salet', 'beard', 'creak', 'argue'] 4\n",
            "74 ['salet', 'liver', 'bowel', 'bleed'] 4\n",
            "75 ['salet', 'delta'] 2\n",
            "76 ['salet', 'could', 'flick'] 3\n",
            "77 ['salet', 'outer', 'totem'] 3\n",
            "78 ['salet', 'diner', 'mower', 'wooer'] 4\n",
            "79 ['salet', 'ingot', 'count', 'front'] 4\n",
            "80 ['salet', 'spiny', 'scrub', 'shrub'] 4\n",
            "81 ['salet', 'cairn', 'harry', 'marry', 'parry'] 5\n",
            "82 ['salet', 'drone', 'biome'] 3\n",
            "83 ['salet', 'lager', 'label', 'lapel'] 4\n",
            "84 ['salet', 'smart', 'start'] 3\n",
            "85 ['salet', 'beret', 'greet'] 3\n",
            "86 ['salet', 'diner', 'goner'] 3\n",
            "87 ['salet', 'filer', 'golem'] 3\n",
            "88 ['salet', 'lusty'] 2\n",
            "89 ['salet', 'could', 'lobby', 'loopy'] 4\n",
            "90 ['salet', 'round'] 2\n",
            "91 ['salet', 'audit'] 2\n",
            "92 ['salet', 'could', 'blink', 'lying'] 4\n",
            "93 ['salet', 'cairn', 'gawky', 'gamma'] 4\n",
            "94 ['salet', 'banal', 'labor'] 3\n",
            "95 ['salet', 'islet'] 2\n",
            "96 ['salet', 'round', 'picky', 'civic'] 4\n",
            "97 ['salet', 'drone', 'forge'] 3\n",
            "98 ['salet', 'round', 'corny'] 3\n",
            "99 ['salet', 'glint', 'moult'] 3\n",
            "100 ['salet', 'basin', 'basic'] 3\n",
            "101 ['salet', 'salon', 'salad'] 3\n",
            "102 ['salet', 'grate', 'agate'] 3\n",
            "103 ['salet', 'spiny', 'spicy'] 3\n",
            "104 ['salet', 'scamp', 'spray'] 3\n",
            "105 ['salet', 'arise', 'essay'] 3\n",
            "106 ['salet', 'round', 'chord', 'fjord'] 4\n",
            "107 ['salet', 'spire', 'speck', 'spend'] 4\n",
            "108 ['salet', 'beard', 'kebab'] 3\n",
            "109 ['salet', 'could', 'build', 'guild'] 4\n",
            "110 ['salet', 'adorn', 'aback'] 3\n",
            "111 ['salet', 'north', 'motor'] 3\n",
            "112 ['salet', 'regal', 'ankle', 'alone'] 4\n",
            "113 ['salet', 'party', 'batch', 'catch', 'hatch'] 5\n",
            "114 ['salet', 'diner', 'mower', 'hyper'] 4\n",
            "115 ['salet', 'north', 'pithy', 'thumb'] 4\n",
            "116 ['salet', 'round', 'dowry'] 3\n",
            "117 ['salet', 'ingot', 'ought'] 3\n",
            "118 ['salet', 'hello', 'belch'] 3\n",
            "119 ['salet', 'north', 'ditch', 'dutch'] 4\n",
            "120 ['salet', 'pilot'] 2\n",
            "121 ['salet', 'outer', 'tepee', 'thief', 'tweed'] 5\n",
            "122 ['salet', 'beret', 'comet'] 3\n",
            "123 ['salet', 'taint', 'daunt', 'gaunt', 'haunt', 'jaunt'] 6\n",
            "124 ['salet', 'beard', 'enema'] 3\n",
            "125 ['salet', 'steed'] 2\n",
            "126 ['salet', 'brash', 'abyss'] 3\n",
            "127 ['salet', 'could', 'growl'] 3\n",
            "128 ['salet', 'could', 'blink', 'fling'] 4\n",
            "129 ['salet', 'diner', 'dozen'] 3\n",
            "130 ['salet', 'round', 'boozy'] 3\n",
            "131 ['salet', 'drone', 'erode'] 3\n",
            "132 ['salet', 'could', 'world'] 3\n",
            "133 ['salet', 'drone', 'coupe', 'gouge'] 4\n",
            "134 ['salet', 'could', 'clink', 'click'] 4\n",
            "135 ['salet', 'adorn', 'chair', 'briar'] 4\n",
            "136 ['salet', 'great'] 2\n",
            "137 ['salet', 'trial', 'altar'] 3\n",
            "138 ['salet', 'moldy', 'billy', 'pulpy'] 4\n",
            "139 ['salet', 'glint', 'clout', 'blurt'] 4\n",
            "140 ['salet', 'ascot', 'coast'] 3\n",
            "141 ['salet', 'round', 'dumpy', 'duchy'] 4\n",
            "142 ['salet', 'round', 'brown', 'groin'] 4\n",
            "143 ['salet', 'diner', 'river', 'fiber', 'fixer'] 5\n",
            "144 ['salet', 'round', 'curio', 'group'] 4\n",
            "145 ['salet', 'drone', 'forge', 'rogue'] 4\n",
            "146 ['salet', 'banal', 'badly'] 3\n",
            "147 ['salet', 'smart'] 2\n",
            "148 ['salet', 'north', 'pithy'] 3\n",
            "149 ['salet', 'cairn', 'gawky', 'gaudy'] 4\n",
            "150 ['salet', 'could', 'chili', 'chill'] 4\n",
            "151 ['salet', 'drone', 'heron'] 3\n",
            "152 ['salet', 'adorn', 'dogma', 'vodka'] 4\n",
            "153 ['salet', 'diner', 'finer'] 3\n",
            "154 ['salet', 'shrew', 'scree', 'siren', 'surer'] 5\n",
            "155 ['salet', 'cairn', 'rabbi', 'radio'] 4\n",
            "156 ['salet', 'drone', 'forge', 'rouge'] 4\n",
            "157 ['salet', 'drone', 'ferry', 'perch'] 4\n",
            "158 ['salet', 'trice', 'retch'] 3\n",
            "159 ['salet', 'trice', 'brute', 'wrote'] 4\n",
            "160 ['salet', 'could', 'clock'] 3\n",
            "161 ['salet', 'tilde'] 2\n",
            "162 ['salet', 'store'] 2\n",
            "163 ['salet', 'drone', 'probe', 'prove'] 4\n",
            "164 ['salet', 'round', 'bring'] 3\n",
            "165 ['salet', 'solve'] 2\n",
            "166 ['salet', 'great', 'cheat'] 3\n",
            "167 ['salet', 'drone', 'crepe', 'bribe', 'grime'] 5\n",
            "168 ['salet', 'cleft', 'exult'] 3\n",
            "169 ['salet', 'risen', 'usher'] 3\n",
            "170 ['salet', 'drone', 'epoch'] 3\n",
            "171 ['salet', 'train', 'triad'] 3\n",
            "172 ['salet', 'beard', 'break'] 3\n",
            "173 ['salet', 'round', 'rhino'] 3\n",
            "174 ['salet', 'final', 'rival', 'viral'] 4\n",
            "175 ['salet', 'round', 'conch', 'conic'] 4\n",
            "176 ['salet', 'parse', 'cause', 'masse'] 4\n",
            "177 ['salet', 'spiny', 'sonic'] 3\n",
            "178 ['salet', 'trial', 'vital'] 3\n",
            "179 ['salet', 'grate', 'trace'] 3\n",
            "180 ['salet', 'missy', 'using'] 3\n",
            "181 ['salet', 'beard', 'heave', 'peach'] 4\n",
            "182 ['salet', 'adorn', 'chaff', 'champ'] 4\n",
            "183 ['salet', 'party', 'batch', 'baton'] 4\n",
            "184 ['salet', 'beard', 'brace', 'brake'] 4\n",
            "185 ['salet', 'could', 'pluck'] 3\n",
            "186 ['salet', 'beard', 'crave', 'crane', 'craze'] 5\n",
            "187 ['salet', 'drone', 'crepe', 'gripe'] 4\n",
            "188 ['salet', 'beard', 'weary'] 3\n",
            "189 ['salet', 'round', 'picky'] 3\n",
            "190 ['salet', 'grate', 'acute'] 3\n",
            "191 ['salet', 'drone', 'ferry'] 3\n",
            "192 ['salet', 'arise', 'aside'] 3\n",
            "193 ['salet', 'party', 'tapir'] 3\n",
            "194 ['salet', 'troll'] 2\n",
            "195 ['salet', 'round', 'hunky', 'unify'] 4\n",
            "196 ['salet', 'purse', 'rebus'] 3\n",
            "197 ['salet', 'worst', 'joist', 'boost'] 4\n",
            "198 ['salet', 'gusto', 'truss'] 3\n",
            "199 ['salet', 'spire', 'siege'] 3\n",
            "200 ['salet', 'outer', 'tiger'] 3\n",
            "201 ['salet', 'banal'] 2\n",
            "202 ['salet', 'slink', 'slump'] 3\n",
            "203 ['salet', 'adorn', 'crank'] 3\n",
            "204 ['salet', 'drone', 'forge', 'gorge'] 4\n",
            "205 ['salet', 'drone', 'ferry', 'every', 'query'] 5\n",
            "206 ['salet', 'round', 'drink'] 3\n",
            "207 ['salet', 'cairn', 'harpy', 'favor'] 4\n",
            "208 ['salet', 'anger', 'abbey'] 3\n",
            "209 ['salet', 'party', 'tangy'] 3\n",
            "210 ['salet', 'cairn', 'manic', 'panic'] 4\n",
            "211 ['salet', 'solar'] 2\n",
            "212 ['salet', 'spire', 'shire'] 3\n",
            "213 ['salet', 'round', 'crook', 'proxy'] 4\n",
            "214 ['salet', 'ingot', 'joint', 'point'] 4\n",
            "215 ['salet', 'ingot', 'robot'] 3\n",
            "216 ['salet', 'round', 'chirp', 'prick'] 4\n",
            "217 ['salet', 'drone', 'hinge', 'mince', 'wince'] 5\n",
            "218 ['salet', 'round', 'chirp', 'crimp'] 4\n",
            "219 ['salet', 'could', 'knoll'] 3\n",
            "220 ['salet', 'scamp', 'sonar', 'sugar'] 4\n",
            "221 ['salet', 'adorn', 'chaff', 'whack'] 4\n",
            "222 ['salet', 'ingot', 'count', 'mount'] 4\n",
            "223 ['salet', 'drone', 'ferry', 'jerky', 'perky'] 5\n",
            "224 ['salet', 'could'] 2\n",
            "225 ['salet', 'round', 'wrung'] 3\n",
            "226 ['salet', 'glint', 'light'] 3\n",
            "227 ['salet', 'testy', 'these', 'those'] 4\n",
            "228 ['salet', 'worst', 'joist', 'foist', 'hoist', 'moist'] 6\n",
            "229 ['salet', 'scamp', 'shark', 'shard'] 4\n",
            "230 ['salet', 'leapt', 'pleat'] 3\n",
            "231 ['salet', 'aloft'] 2\n",
            "232 ['salet', 'slink', 'skill'] 3\n",
            "233 ['salet', 'liver', 'bluer', 'elder'] 4\n",
            "234 ['salet', 'beard', 'crave', 'grape', 'frame'] 5\n",
            "235 ['salet', 'round', 'curio', 'humor'] 4\n",
            "236 ['salet', 'parse', 'pause'] 3\n",
            "237 ['salet', 'liver', 'bluer', 'ulcer'] 4\n",
            "238 ['salet', 'trial', 'ultra'] 3\n",
            "239 ['salet', 'round', 'robin'] 3\n",
            "240 ['salet', 'round', 'nymph', 'cynic'] 4\n",
            "241 ['salet', 'adorn', 'aroma'] 3\n",
            "242 ['salet', 'banal', 'gaily', 'caulk'] 4\n",
            "243 ['salet', 'spare', 'shake'] 3\n",
            "244 ['salet', 'drone', 'dodge'] 3\n",
            "245 ['salet', 'slink', 'spill', 'swill'] 4\n",
            "246 ['salet', 'taint', 'tacit'] 3\n",
            "247 ['salet', 'outer', 'other'] 3\n",
            "248 ['salet', 'north', 'thorn'] 3\n",
            "249 ['salet', 'trice', 'trope', 'trove'] 4\n",
            "250 ['salet', 'globe', 'bloke'] 3\n",
            "251 ['salet', 'round', 'vivid'] 3\n",
            "252 ['salet', 'slink', 'spill'] 3\n",
            "253 ['salet', 'audit', 'chant'] 3\n",
            "254 ['salet', 'drone', 'biome', 'choke'] 4\n",
            "255 ['salet', 'diner', 'puree', 'rupee'] 4\n",
            "256 ['salet', 'hasty', 'nasty'] 3\n",
            "257 ['salet', 'round', 'mourn'] 3\n",
            "258 ['salet', 'beard', 'ahead'] 3\n",
            "259 ['salet', 'drone', 'brine'] 3\n",
            "260 ['salet', 'troll', 'cloth'] 3\n",
            "261 ['salet', 'adorn', 'board', 'hoard'] 4\n",
            "262 ['salet', 'sheet', 'sweet'] 3\n",
            "263 ['salet', 'north', 'month'] 3\n",
            "264 ['salet', 'lapse'] 2\n",
            "265 ['salet', 'party', 'batch', 'catch', 'hatch', 'match', 'watch'] 7\n",
            "266 ['salet', 'train', 'today'] 3\n",
            "267 ['salet', 'missy', 'bonus', 'focus'] 4\n",
            "268 ['salet', 'slept', 'smelt'] 3\n",
            "269 ['salet', 'tease'] 2\n",
            "270 ['salet', 'eater', 'cater'] 3\n",
            "271 ['salet', 'drone', 'coupe', 'movie'] 4\n",
            "272 ['salet', 'saute'] 2\n",
            "273 ['salet', 'allay', 'allow'] 3\n",
            "274 ['salet', 'diner', 'renew'] 3\n",
            "275 ['salet', 'trice', 'their'] 3\n",
            "276 ['salet', 'slink', 'slump', 'slosh'] 4\n",
            "277 ['salet', 'drone', 'merge', 'purge'] 4\n",
            "278 ['salet', 'crest', 'chest'] 3\n",
            "279 ['salet', 'erect', 'befit', 'depot'] 4\n",
            "280 ['salet', 'drone', 'epoch', 'epoxy'] 4\n",
            "281 ['salet', 'round', 'nymph'] 3\n",
            "282 ['salet', 'round', 'bound', 'found'] 4\n",
            "283 ['salet', 'shall'] 2\n",
            "284 ['salet', 'cairn', 'harry'] 3\n",
            "285 ['salet', 'store', 'stoke', 'stone', 'stove'] 5\n",
            "286 ['salet', 'could', 'lowly'] 3\n",
            "287 ['salet', 'shunt', 'snout'] 3\n",
            "288 ['salet', 'trice', 'trope'] 3\n",
            "289 ['salet', 'diner', 'mower', 'fewer'] 4\n",
            "290 ['salet', 'shall', 'shawl'] 3\n",
            "291 ['salet', 'fatal', 'natal'] 3\n",
            "292 ['salet', 'adorn', 'cocoa', 'comma'] 4\n",
            "293 ['salet', 'adorn', 'borax', 'foray'] 4\n",
            "294 ['salet', 'spare', 'scare'] 3\n",
            "295 ['salet', 'stank', 'staid', 'stair'] 4\n",
            "296 ['salet', 'final', 'clamp', 'black'] 4\n",
            "297 ['salet', 'scamp', 'sonar', 'squad'] 4\n",
            "298 ['salet', 'final', 'moral', 'royal'] 4\n",
            "299 ['salet', 'round', 'chunk'] 3\n",
            "300 ['salet', 'drone', 'hinge', 'mince'] 4\n",
            "301 ['salet', 'spare', 'shake', 'shade', 'shame'] 5\n",
            "302 ['salet', 'diner', 'cheek'] 3\n",
            "303 ['salet', 'regal', 'ankle', 'amble', 'ample'] 5\n",
            "304 ['salet', 'final', 'flair'] 3\n",
            "305 ['salet', 'diner', 'mower', 'cover', 'joker', 'boxer', 'foyer'] 7\n",
            "306 ['salet', 'cairn', 'cargo'] 3\n",
            "307 ['salet', 'drone', 'oxide'] 3\n",
            "308 ['salet', 'aloft', 'plait', 'plant'] 4\n",
            "309 ['salet', 'globe', 'olive'] 3\n",
            "310 ['salet', 'erect', 'inert'] 3\n",
            "311 ['salet', 'ashen', 'askew'] 3\n",
            "312 ['salet', 'crest', 'exist', 'heist'] 4\n",
            "313 ['salet', 'spiny', 'scorn', 'shown'] 4\n",
            "314 ['salet', 'testy', 'zesty'] 3\n",
            "315 ['salet', 'hasty'] 2\n",
            "316 ['salet', 'artsy', 'trash'] 3\n",
            "317 ['salet', 'delay', 'fella'] 3\n",
            "318 ['salet', 'banal', 'gaily', 'larva'] 4\n",
            "319 ['salet', 'round', 'morph', 'forgo'] 4\n",
            "320 ['salet', 'story'] 2\n",
            "321 ['salet', 'cairn', 'dairy', 'fairy', 'hairy'] 5\n",
            "322 ['salet', 'train'] 2\n",
            "323 ['salet', 'diner', 'mower', 'homer'] 4\n",
            "324 ['salet', 'range', 'badge'] 3\n",
            "325 ['salet', 'worst', 'midst'] 3\n",
            "326 ['salet', 'cairn', 'candy', 'canny'] 4\n",
            "327 ['salet', 'testy', 'fetus'] 3\n",
            "328 ['salet', 'north', 'ditch', 'butch'] 4\n",
            "329 ['salet', 'range', 'carve', 'farce'] 4\n",
            "330 ['salet', 'slink', 'slung'] 3\n",
            "331 ['salet', 'gusto', 'tipsy'] 3\n",
            "332 ['salet', 'petal', 'fetal', 'metal'] 4\n",
            "333 ['salet', 'globe', 'dwell', 'field', 'yield'] 5\n",
            "334 ['salet', 'hello', 'belie', 'delve'] 4\n",
            "335 ['salet', 'drone', 'eking', 'being'] 4\n",
            "336 ['salet', 'spiny', 'scrub', 'scour'] 4\n",
            "337 ['salet', 'clash', 'flask', 'glass'] 4\n",
            "338 ['salet', 'gamer'] 2\n",
            "339 ['salet', 'scamp', 'scrap'] 3\n",
            "340 ['salet', 'diner', 'boney', 'honey', 'money'] 5\n",
            "341 ['salet', 'drone', 'hinge'] 3\n",
            "342 ['salet', 'final', 'clamp', 'album'] 4\n",
            "343 ['salet', 'round', 'couch', 'pouch', 'vouch'] 5\n",
            "344 ['salet', 'asset'] 2\n",
            "345 ['salet', 'train', 'tiara'] 3\n",
            "346 ['salet', 'erect', 'crept'] 3\n",
            "347 ['salet', 'cairn', 'gawky', 'bayou'] 4\n",
            "348 ['salet', 'trial', 'atoll'] 3\n",
            "349 ['salet', 'cairn', 'manor'] 3\n",
            "350 ['salet', 'beard', 'creak'] 3\n",
            "351 ['salet', 'spiny', 'showy'] 3\n",
            "352 ['salet', 'arise', 'cease', 'phase'] 4\n",
            "353 ['salet', 'north', 'broth', 'froth'] 4\n",
            "354 ['salet', 'trice', 'depth'] 3\n",
            "355 ['salet', 'could', 'growl', 'gloom'] 4\n",
            "356 ['salet', 'could', 'blond', 'flood'] 4\n",
            "357 ['salet', 'audit', 'trait'] 3\n",
            "358 ['salet', 'north', 'birth', 'girth'] 4\n",
            "359 ['salet', 'trice', 'fetid', 'piety'] 4\n",
            "360 ['salet', 'gamer', 'caper', 'parer', 'payer'] 5\n",
            "361 ['salet', 'purse', 'goose'] 3\n",
            "362 ['salet', 'aloft', 'float'] 3\n",
            "363 ['salet', 'round', 'donor'] 3\n",
            "364 ['salet', 'grate', 'atone'] 3\n",
            "365 ['salet', 'round', 'crook', 'primo'] 4\n",
            "366 ['salet', 'adorn', 'apron'] 3\n",
            "367 ['salet', 'could', 'growl', 'blown'] 4\n",
            "368 ['salet', 'cairn', 'cabby', 'cacao'] 4\n",
            "369 ['salet', 'loser'] 2\n",
            "370 ['salet', 'ingot', 'input'] 3\n",
            "371 ['salet', 'aloft', 'bloat', 'gloat'] 4\n",
            "372 ['salet', 'final', 'afoul', 'awful'] 4\n",
            "373 ['salet', 'round', 'bring', 'brink'] 4\n",
            "374 ['salet', 'store', 'smite'] 3\n",
            "375 ['salet', 'beard', 'beady'] 3\n",
            "376 ['salet', 'gusto', 'dusty', 'musty', 'rusty'] 5\n",
            "377 ['salet', 'trice', 'metro', 'retro'] 4\n",
            "378 ['salet', 'could', 'droll'] 3\n",
            "379 ['salet', 'cairn', 'gawky'] 3\n",
            "380 ['salet', 'north', 'ditch', 'butch', 'hutch'] 5\n",
            "381 ['salet', 'north', 'junto', 'pinto'] 4\n",
            "382 ['salet', 'banal', 'gaily'] 3\n",
            "383 ['salet', 'beret', 'egret'] 3\n",
            "384 ['salet', 'allay', 'molar', 'lilac'] 4\n",
            "385 ['salet', 'shrew', 'sever'] 3\n",
            "386 ['salet', 'globe', 'dwell', 'field'] 4\n",
            "387 ['salet', 'could', 'bluff', 'fluff'] 4\n",
            "388 ['salet', 'round', 'droop', 'hydro'] 4\n",
            "389 ['salet', 'final', 'flack'] 3\n",
            "390 ['salet', 'beard', 'awake', 'agape'] 4\n",
            "391 ['salet', 'drone', 'coupe', 'voice'] 4\n",
            "392 ['salet', 'skate', 'stead'] 3\n",
            "393 ['salet', 'stalk'] 2\n",
            "394 ['salet', 'trice', 'metro', 'berth'] 4\n",
            "395 ['salet', 'cairn', 'gawky', 'mambo', 'madam'] 5\n",
            "396 ['salet', 'ingot', 'night'] 3\n",
            "397 ['salet', 'final', 'blank', 'bland'] 4\n",
            "398 ['salet', 'liver'] 2\n",
            "399 ['salet', 'drone', 'budge', 'hedge', 'wedge'] 5\n",
            "400 ['salet', 'adorn', 'array', 'augur'] 4\n",
            "401 ['salet', 'round', 'rocky', 'roomy'] 4\n",
            "402 ['salet', 'cairn', 'macaw', 'wacky'] 4\n",
            "403 ['salet', 'could', 'block', 'flock'] 4\n",
            "404 ['salet', 'adorn', 'angry'] 3\n",
            "405 ['salet', 'round', 'boozy', 'bobby'] 4\n",
            "406 ['salet', 'trice', 'tribe', 'tripe', 'trite'] 5\n",
            "407 ['salet', 'adorn', 'aphid'] 3\n",
            "408 ['salet', 'worst', 'crust', 'tryst'] 4\n",
            "409 ['salet', 'drone', 'budge', 'hedge', 'midge'] 5\n",
            "410 ['salet', 'diner', 'mower', 'cower', 'power'] 5\n",
            "411 ['salet', 'globe', 'clone', 'elope'] 4\n",
            "412 ['salet', 'round', 'nymph', 'cinch'] 4\n",
            "413 ['salet', 'north', 'booty', 'motto'] 4\n",
            "414 ['salet', 'story', 'stoop', 'stomp'] 4\n",
            "415 ['salet', 'unset', 'upset'] 3\n",
            "416 ['salet', 'could', 'bluff'] 3\n",
            "417 ['salet', 'adorn', 'chair', 'crack', 'cramp'] 5\n",
            "418 ['salet', 'audit', 'quart'] 3\n",
            "419 ['salet', 'could', 'coyly'] 3\n",
            "420 ['salet', 'north', 'booth', 'mouth', 'youth'] 5\n",
            "421 ['salet', 'drone', 'merge', 'rhyme'] 4\n",
            "422 ['salet', 'round', 'guppy', 'buggy'] 4\n",
            "423 ['salet', 'alien'] 2\n",
            "424 ['salet', 'spare', 'shear', 'smear'] 4\n",
            "425 ['salet', 'ingot', 'unfit'] 3\n",
            "426 ['salet', 'party', 'patty'] 3\n",
            "427 ['salet', 'could', 'clink', 'cling'] 4\n",
            "428 ['salet', 'regal', 'gleam', 'glean'] 4\n",
            "429 ['salet', 'lager', 'label'] 3\n",
            "430 ['salet', 'round', 'hunky'] 3\n",
            "431 ['salet', 'adorn', 'chaff', 'khaki'] 4\n",
            "432 ['salet', 'diner', 'mower', 'cover', 'joker', 'poker'] 6\n",
            "433 ['salet', 'liver', 'cruel', 'gruel'] 4\n",
            "434 ['salet', 'trice', 'twice'] 3\n",
            "435 ['salet', 'train', 'thank', 'twang'] 4\n",
            "436 ['salet', 'spiny', 'scrub', 'shrug'] 4\n",
            "437 ['salet', 'great', 'treat'] 3\n",
            "438 ['salet', 'pilot', 'unlit'] 3\n",
            "439 ['salet', 'baste', 'caste', 'haste', 'paste', 'taste', 'waste'] 7\n",
            "440 ['salet', 'erect', 'merit'] 3\n",
            "441 ['salet', 'diner', 'women', 'woken', 'woven'] 5\n",
            "442 ['salet', 'trial', 'octal'] 3\n",
            "443 ['salet', 'drone', 'needy'] 3\n",
            "444 ['salet', 'could', 'clock', 'clown'] 4\n",
            "445 ['salet', 'round', 'idiom', 'widow'] 4\n",
            "446 ['salet', 'round', 'crony', 'irony'] 4\n",
            "447 ['salet', 'diner', 'odder', 'ruder'] 4\n",
            "448 ['salet', 'range', 'gaffe', 'gauze'] 4\n",
            "449 ['salet', 'diner', 'chief'] 3\n",
            "450 ['salet', 'unset', 'onset'] 3\n",
            "451 ['salet', 'drone', 'crepe', 'prime', 'prize'] 5\n",
            "452 ['salet', 'round', 'hunky', 'fungi'] 4\n",
            "453 ['salet', 'adorn', 'charm'] 3\n",
            "454 ['salet', 'moldy', 'billy', 'fully', 'gully'] 5\n",
            "455 ['salet', 'outer', 'deter', 'enter', 'inter'] 5\n",
            "456 ['salet', 'round', 'chock', 'whoop'] 4\n",
            "457 ['salet', 'taint', 'taunt'] 3\n",
            "458 ['salet', 'globe', 'dwell', 'leech', 'leery'] 5\n",
            "459 ['salet', 'clash', 'clasp', 'class'] 4\n",
            "460 ['salet', 'trice', 'theme'] 3\n",
            "461 ['salet', 'troll', 'lofty'] 3\n",
            "462 ['salet', 'train', 'tibia'] 3\n",
            "463 ['salet', 'drone', 'biome', 'booze'] 4\n",
            "464 ['salet', 'final', 'clamp', 'alpha'] 4\n",
            "465 ['salet', 'trice', 'theme', 'thyme'] 4\n",
            "466 ['salet', 'eclat'] 2\n",
            "467 ['salet', 'ingot', 'court', 'doubt'] 4\n",
            "468 ['salet', 'gamer', 'caper', 'parer'] 4\n",
            "469 ['salet', 'trice', 'chute'] 3\n",
            "470 ['salet', 'story', 'stink', 'stick'] 4\n",
            "471 ['salet', 'trice'] 2\n",
            "472 ['salet', 'regal', 'ankle', 'alike'] 4\n",
            "473 ['salet', 'story', 'sooth'] 3\n",
            "474 ['salet', 'beard', 'recap'] 3\n",
            "475 ['salet', 'saint'] 2\n",
            "476 ['salet', 'globe', 'ledge', 'liege'] 4\n",
            "477 ['salet', 'could', 'growl', 'glory'] 4\n",
            "478 ['salet', 'grate'] 2\n",
            "479 ['salet', 'audit', 'admit'] 3\n",
            "480 ['salet', 'missy', 'brisk'] 3\n",
            "481 ['salet', 'spiny', 'showy', 'soggy'] 4\n",
            "482 ['salet', 'missy', 'bonus', 'usurp'] 4\n",
            "483 ['salet', 'shall', 'scald'] 3\n",
            "484 ['salet', 'spiny', 'scorn'] 3\n",
            "485 ['salet', 'regal', 'leafy', 'leach', 'leave'] 5\n",
            "486 ['salet', 'trice', 'twine'] 3\n",
            "487 ['salet', 'story', 'stink', 'sting'] 4\n",
            "488 ['salet', 'round', 'couch', 'bough'] 4\n",
            "489 ['salet', 'basin', 'harsh', 'marsh'] 4\n",
            "490 ['salet', 'sloth'] 2\n",
            "491 ['salet', 'cairn', 'dandy'] 3\n",
            "492 ['salet', 'round', 'crook', 'vigor'] 4\n",
            "493 ['salet', 'round', 'dowdy', 'howdy'] 4\n",
            "494 ['salet', 'drone', 'enjoy'] 3\n",
            "495 ['salet', 'rally', 'valid'] 3\n",
            "496 ['salet', 'round', 'conch', 'ionic'] 4\n",
            "497 ['salet', 'regal', 'equal'] 3\n",
            "498 ['salet', 'unset'] 2\n",
            "499 ['salet', 'could', 'growl', 'floor'] 4\n",
            "500 ['salet', 'party', 'batch', 'catch'] 4\n",
            "501 ['salet', 'spare', 'space', 'spade'] 4\n",
            "502 ['salet', 'store', 'stein'] 3\n",
            "503 ['salet', 'crest', 'exist'] 3\n",
            "504 ['salet', 'round', 'curry', 'quirk'] 4\n",
            "505 ['salet', 'drone', 'deign', 'denim'] 4\n",
            "506 ['salet', 'drone', 'probe', 'froze', 'grove'] 5\n",
            "507 ['salet', 'sleek', 'spiel'] 3\n",
            "508 ['salet', 'round', 'guppy', 'mucky', 'mummy'] 5\n",
            "Mean Score: 3.510891089108911\n",
            "Games Won in 2 Guesses: 37\n",
            "Games Lost: 4\n"
          ]
        }
      ]
    },
    {
      "cell_type": "code",
      "source": [
        "%timeit play_game_entropy('salet', 'mummy', possible_words, encoded_possible)"
      ],
      "metadata": {
        "colab": {
          "base_uri": "https://localhost:8080/"
        },
        "id": "uqHLeiEniM2r",
        "outputId": "8ed84255-cb24-443b-bad5-a7af9510f7ab"
      },
      "execution_count": 53,
      "outputs": [
        {
          "output_type": "stream",
          "name": "stdout",
          "text": [
            "204 ms ± 52.1 ms per loop (mean ± std. dev. of 7 runs, 10 loops each)\n"
          ]
        }
      ]
    },
    {
      "cell_type": "markdown",
      "source": [
        "#### Guess using TF-IDF and POS Likelihood"
      ],
      "metadata": {
        "id": "OxMLWlG08Kgl"
      }
    },
    {
      "cell_type": "markdown",
      "source": [
        "Play all previous Wordle games using a random word for the opening guess:"
      ],
      "metadata": {
        "id": "z8SRDSSi8hMG"
      }
    },
    {
      "cell_type": "code",
      "source": [
        "game_scores = np.zeros(n_games, dtype=int)\n",
        "\n",
        "for i, secret in enumerate(past_words):  \n",
        "\n",
        "  guess = openers[i]\n",
        "  guesses = play_game_frequency(guess, secret, possible_words, encoded_possible, all_freq)   \n",
        "  game_scores[i] = len(guesses)\n",
        "  print(i, guesses, game_scores[i])\n",
        "\n",
        "print('Mean Score:', game_scores[game_scores < 7].mean())\n",
        "print('Games Won in 2 Guesses:', sum(game_scores < 3))\n",
        "print('Games Lost:', sum(game_scores > 6))\n",
        "\n",
        "random_frequency_scores = game_scores.copy()"
      ],
      "metadata": {
        "colab": {
          "base_uri": "https://localhost:8080/"
        },
        "id": "VBtt8N4BNza3",
        "outputId": "15abcca6-d904-46b8-c57a-e1be255a6608"
      },
      "execution_count": 54,
      "outputs": [
        {
          "output_type": "stream",
          "name": "stdout",
          "text": [
            "0 ['prank', 'water', 'sugar', 'cigar'] 4\n",
            "1 ['clove', 'water', 'trend', 'merit', 'rebut'] 5\n",
            "2 ['arson', 'issue', 'visit', 'wispy', 'missy', 'sissy'] 6\n",
            "3 ['grade', 'think', 'couch', 'humph'] 4\n",
            "4 ['nobly', 'state', 'image', 'peace', 'aware', 'awake'] 6\n",
            "5 ['pushy', 'house', 'brush', 'blush'] 4\n",
            "6 ['wince', 'class', 'local', 'focal'] 4\n",
            "7 ['juror', 'think', 'place', 'adage', 'evade'] 5\n",
            "8 ['cadet', 'basis', 'major', 'happy', 'naval'] 5\n",
            "9 ['badly', 'think', 'power', 'curve', 'serve'] 5\n",
            "10 ['mafia', 'place', 'heart', 'heath'] 4\n",
            "11 ['vapor', 'heart', 'award', 'dwarf'] 4\n",
            "12 ['detox', 'order', 'model'] 3\n",
            "13 ['snail', 'water', 'marry', 'karma'] 4\n",
            "14 ['spoke', 'skill', 'stick', 'stink'] 4\n",
            "15 ['steed', 'drive', 'grade'] 3\n",
            "16 ['salve', 'other', 'quiet'] 3\n",
            "17 ['tidal', 'power', 'sense', 'bench'] 4\n",
            "18 ['ramen', 'place', 'state', 'abate'] 4\n",
            "19 ['pedal', 'sense', 'begin', 'reign', 'feign'] 5\n",
            "20 ['hater', 'labor', 'major'] 3\n",
            "21 ['twang', 'state', 'death'] 3\n",
            "22 ['mount', 'place', 'river', 'fresh'] 4\n",
            "23 ['infer', 'world', 'truth', 'crust'] 4\n",
            "24 ['inlay', 'world', 'block', 'stool'] 4\n",
            "25 ['logic', 'color', 'colon'] 3\n",
            "26 ['chasm', 'glass', 'feast', 'erase', 'abase'] 5\n",
            "27 ['dirty', 'early', 'marry'] 3\n",
            "28 ['would', 'think', 'state', 'react'] 4\n",
            "29 ['leery', 'study', 'fifty', 'tatty', 'batty'] 5\n",
            "30 ['spice', 'pride'] 2\n",
            "31 ['dusty', 'sense', 'class', 'gloss', 'floss'] 5\n",
            "32 ['evade', 'other', 'shell', 'helix'] 4\n",
            "33 ['renew', 'first', 'group', 'broad', 'croak'] 5\n",
            "34 ['scent', 'study', 'staff'] 3\n",
            "35 ['bathe', 'paper'] 2\n",
            "36 ['femme', 'brief', 'often', 'unfed'] 4\n",
            "37 ['tight', 'house', 'reach', 'wheel', 'whelp'] 5\n",
            "38 ['lurid', 'floor', 'reply', 'snarl', 'brawl', 'trawl'] 6\n",
            "39 ['posse', 'blood', 'radio', 'outdo'] 4\n",
            "40 ['recut', 'model', 'oxide', 'adobe'] 4\n",
            "41 ['dingo', 'place', 'craft', 'crazy'] 4\n",
            "42 ['hilly', 'state', 'speed', 'sober', 'sower'] 5\n",
            "43 ['salsa', 'woman', 'great', 'repay'] 4\n",
            "44 ['razor', 'think', 'visit', 'limit', 'digit'] 5\n",
            "45 ['mafia', 'place', 'cease', 'crate'] 4\n",
            "46 ['pasty', 'world', 'level', 'climb', 'clung', 'cluck'] 6\n",
            "47 ['lucky', 'stake', 'spoke', 'spike'] 4\n",
            "48 ['stank', 'world', 'piece', 'civic', 'mimic'] 5\n",
            "49 ['rough', 'doubt', 'would', 'pound'] 4\n",
            "50 ['using', 'field', 'chair', 'patio', 'maxim'] 5\n",
            "51 ['fussy', 'think', 'brain', 'given', 'linen'] 5\n",
            "52 ['moose', 'enemy', 'unmet'] 3\n",
            "53 ['gummy', 'think', 'heard', 'flesh'] 4\n",
            "54 ['wince', 'group', 'blood', 'booby'] 4\n",
            "55 ['pitch', 'death', 'mouth', 'worth', 'forth'] 5\n",
            "56 ['aping', 'first'] 2\n",
            "57 ['ridge', 'study', 'stand'] 3\n",
            "58 ['briar', 'blood', 'belle', 'belly'] 4\n",
            "59 ['aback', 'other', 'world', 'group', 'ivory'] 5\n",
            "60 ['ralph', 'study', 'seedy'] 3\n",
            "61 ['whiff', 'point', 'print'] 3\n",
            "62 ['curvy', 'layer', 'yearn'] 3\n",
            "63 ['tally', 'woman', 'brain', 'grain', 'drain'] 5\n",
            "64 ['chaos', 'level', 'enemy', 'judge', 'write', 'prize', 'bribe'] 7\n",
            "65 ['their', 'study', 'stout'] 3\n",
            "66 ['crisp', 'phone', 'panel'] 3\n",
            "67 ['puree', 'story', 'grass', 'brass', 'crass'] 5\n",
            "68 ['sheep', 'value', 'uncle', 'flute', 'fluke', 'flume'] 6\n",
            "69 ['curio', 'woman', 'float', 'offal'] 4\n",
            "70 ['loamy', 'water', 'agree'] 3\n",
            "71 ['candy', 'other', 'error'] 3\n",
            "72 ['flunk', 'world', 'brawl', 'swirl'] 4\n",
            "73 ['topaz', 'value', 'argue'] 3\n",
            "74 ['paddy', 'world', 'fluid', 'blend', 'bleed'] 5\n",
            "75 ['prong', 'state', 'delta'] 3\n",
            "76 ['joint', 'child', 'slick', 'flick'] 4\n",
            "77 ['umbra', 'model', 'women', 'totem'] 4\n",
            "78 ['sweep', 'water', 'wider', 'wooer'] 4\n",
            "79 ['iliac', 'other', 'sport', 'front'] 4\n",
            "80 ['admin', 'other', 'brush', 'shrub'] 4\n",
            "81 ['epoxy', 'party', 'parry'] 3\n",
            "82 ['spear', 'level', 'white', 'diode', 'biome'] 5\n",
            "83 ['agate', 'paper', 'lapel'] 3\n",
            "84 ['twice', 'study', 'staff', 'start'] 4\n",
            "85 ['frill', 'order', 'green', 'greet'] 4\n",
            "86 ['beset', 'order', 'power', 'cover', 'foyer', 'joker', 'homer', 'goner'] 8\n",
            "87 ['taint', 'world', 'loose', 'hovel', 'golem'] 5\n",
            "88 ['goose', 'study', 'lusty'] 3\n",
            "89 ['minus', 'other', 'blood', 'wooly', 'loopy'] 5\n",
            "90 ['hefty', 'world', 'board', 'round'] 4\n",
            "91 ['cough', 'value', 'urban', 'audit'] 4\n",
            "92 ['juicy', 'lying'] 2\n",
            "93 ['tatty', 'value', 'basis', 'major', 'gamma'] 5\n",
            "94 ['plane', 'total', 'labor'] 3\n",
            "95 ['nobly', 'place', 'level', 'ruler', 'islet'] 5\n",
            "96 ['fancy', 'child', 'civic'] 3\n",
            "97 ['tonal', 'power', 'force', 'forge'] 4\n",
            "98 ['geeky', 'study', 'happy', 'lobby', 'worry', 'corny'] 6\n",
            "99 ['belch', 'world', 'moult'] 3\n",
            "100 ['vapid', 'basis', 'basic'] 3\n",
            "101 ['sewer', 'study', 'solid', 'salad'] 4\n",
            "102 ['trail', 'state', 'abate', 'agate'] 4\n",
            "103 ['ralph', 'point', 'spice', 'spicy'] 4\n",
            "104 ['vigor', 'heart', 'urban', 'spray'] 4\n",
            "105 ['alter', 'space', 'essay'] 3\n",
            "106 ['seize', 'world', 'broad', 'chord', 'fjord'] 5\n",
            "107 ['whose', 'speed', 'spend'] 3\n",
            "108 ['flown', 'state', 'paper', 'decay', 'kebab'] 5\n",
            "109 ['abode', 'child', 'guild'] 3\n",
            "110 ['bluer', 'cabin', 'aback'] 3\n",
            "111 ['solid', 'power', 'motor'] 3\n",
            "112 ['sushi', 'world', 'block', 'along', 'alone'] 5\n",
            "113 ['cadet', 'match', 'watch', 'patch', 'hatch'] 5\n",
            "114 ['bunny', 'style', 'hyper'] 3\n",
            "115 ['curve', 'study', 'mouth', 'thumb'] 4\n",
            "116 ['tulip', 'order', 'board', 'dowry'] 4\n",
            "117 ['sushi', 'ought'] 2\n",
            "118 ['feign', 'level', 'reply', 'delta', 'below', 'belch'] 6\n",
            "119 ['ghoul', 'truth', 'butch', 'hutch', 'dutch'] 5\n",
            "120 ['splat', 'pilot'] 2\n",
            "121 ['crowd', 'wield', 'tweed'] 3\n",
            "122 ['thorn', 'doubt', 'coast', 'comet'] 4\n",
            "123 ['theme', 'point', 'grant', 'jaunt'] 4\n",
            "124 ['krill', 'state', 'decay', 'apnea', 'enema'] 5\n",
            "125 ['hymen', 'water', 'steel', 'steep', 'steed'] 5\n",
            "126 ['plume', 'think', 'cross', 'abyss'] 4\n",
            "127 ['voter', 'group', 'grown', 'growl'] 4\n",
            "128 ['usurp', 'think', 'being', 'going', 'lying', 'cling', 'fling'] 7\n",
            "129 ['avian', 'green', 'dozen'] 3\n",
            "130 ['judge', 'think', 'class', 'proof', 'booby', 'boozy'] 6\n",
            "131 ['revue', 'force', 'store', 'probe', 'drone', 'erode'] 6\n",
            "132 ['meant', 'world'] 2\n",
            "133 ['girth', 'glass', 'goofy', 'gouge'] 4\n",
            "134 ['pinto', 'child', 'climb', 'click'] 4\n",
            "135 ['usher', 'floor', 'radar', 'cigar', 'briar'] 5\n",
            "136 ['silky', 'other', 'great'] 3\n",
            "137 ['junta', 'water', 'actor', 'altar'] 4\n",
            "138 ['cleat', 'world', 'pupil', 'pulpy'] 4\n",
            "139 ['credo', 'first', 'quart', 'blurt'] 4\n",
            "140 ['honor', 'model', 'focus', 'coast'] 4\n",
            "141 ['waste', 'group', 'build', 'muddy', 'duchy'] 5\n",
            "142 ['topaz', 'order', 'cross', 'wrong', 'groin'] 5\n",
            "143 ['mucky', 'other', 'paper', 'river', 'wider', 'liner', 'fiber', 'fixer'] 8\n",
            "144 ['annex', 'world', 'group'] 3\n",
            "145 ['cabby', 'think', 'world', 'rouse', 'rogue'] 5\n",
            "146 ['friar', 'place', 'adult', 'badly'] 4\n",
            "147 ['viral', 'water', 'track', 'smart'] 4\n",
            "148 ['rigor', 'field', 'visit', 'witch', 'pithy'] 5\n",
            "149 ['story', 'enemy', 'happy', 'daily', 'gaudy'] 5\n",
            "150 ['visit', 'child', 'chill'] 3\n",
            "151 ['pouch', 'other', 'shore', 'heron'] 4\n",
            "152 ['tough', 'world', 'dozen', 'moody', 'vodka'] 5\n",
            "153 ['blind', 'night', 'minor', 'finer'] 4\n",
            "154 ['patsy', 'focus', 'surge', 'surer'] 4\n",
            "155 ['excel', 'think', 'basis', 'radio'] 4\n",
            "156 ['axial', 'other', 'force', 'rouse', 'rouge'] 5\n",
            "157 ['rivet', 'heard', 'perch'] 3\n",
            "158 ['cynic', 'place', 'wreck', 'retch'] 4\n",
            "159 ['eater', 'store', 'wrote'] 3\n",
            "160 ['swing', 'other', 'blood', 'clock'] 4\n",
            "161 ['vegan', 'other', 'title', 'tilde'] 4\n",
            "162 ['total', 'other', 'store'] 3\n",
            "163 ['bleat', 'order', 'prove'] 3\n",
            "164 ['lefty', 'group', 'bring'] 3\n",
            "165 ['ruder', 'place', 'whole', 'solve'] 4\n",
            "166 ['paler', 'state', 'agent', 'wheat', 'cheat'] 5\n",
            "167 ['khaki', 'point', 'drive', 'crime', 'grime'] 5\n",
            "168 ['snore', 'level', 'field', 'exalt', 'exult'] 5\n",
            "169 ['teary', 'order', 'river', 'upper', 'ulcer', 'usher'] 6\n",
            "170 ['relax', 'house', 'epoch'] 3\n",
            "171 ['itchy', 'point', 'trial', 'triad'] 4\n",
            "172 ['mound', 'place', 'water', 'break'] 4\n",
            "173 ['comic', 'video', 'rhino'] 3\n",
            "174 ['brawn', 'party', 'moral', 'rural', 'viral'] 5\n",
            "175 ['hover', 'point', 'ionic', 'sonic', 'conic'] 5\n",
            "176 ['women', 'image', 'maple', 'maybe', 'mauve', 'masse'] 6\n",
            "177 ['ennui', 'final', 'ionic', 'tonic', 'sonic'] 5\n",
            "178 ['slain', 'trial', 'vital'] 3\n",
            "179 ['scaly', 'reach', 'trace'] 3\n",
            "180 ['giddy', 'thing', 'bring', 'using'] 4\n",
            "181 ['beast', 'heard', 'peach'] 3\n",
            "182 ['opera', 'plant', 'swamp', 'champ'] 4\n",
            "183 ['tiara', 'metal', 'catch', 'fatty', 'baton'] 5\n",
            "184 ['drill', 'group', 'break', 'brake'] 4\n",
            "185 ['downy', 'place', 'pluck'] 3\n",
            "186 ['sober', 'heart', 'frame', 'grade', 'crane', 'crave', 'craze'] 7\n",
            "187 ['their', 'price', 'gripe'] 3\n",
            "188 ['where', 'weird', 'weary'] 3\n",
            "189 ['grave', 'think', 'picky'] 3\n",
            "190 ['dream', 'place', 'cause', 'acute'] 4\n",
            "191 ['goose', 'water', 'reply', 'mercy', 'ferry'] 5\n",
            "192 ['mummy', 'think', 'voice', 'raise', 'aside'] 5\n",
            "193 ['scrum', 'other', 'altar', 'tapir'] 4\n",
            "194 ['agile', 'world', 'troll'] 3\n",
            "195 ['inlay', 'unity', 'unify'] 3\n",
            "196 ['couch', 'value', 'fetus', 'rebus'] 4\n",
            "197 ['caper', 'think', 'study', 'boost'] 4\n",
            "198 ['pearl', 'first', 'truss'] 3\n",
            "199 ['cairn', 'field', 'siege'] 3\n",
            "200 ['stave', 'enter', 'tower', 'tiger'] 4\n",
            "201 ['unite', 'woman', 'nasal', 'canal', 'banal'] 5\n",
            "202 ['ensue', 'study', 'skull', 'slump'] 4\n",
            "203 ['overt', 'bring', 'frank', 'crank'] 4\n",
            "204 ['merry', 'force', 'horse', 'borne', 'gorge'] 5\n",
            "205 ['salve', 'other', 'mercy', 'query'] 4\n",
            "206 ['cedar', 'world', 'drink'] 3\n",
            "207 ['bezel', 'think', 'group', 'major', 'favor'] 5\n",
            "208 ['weigh', 'place', 'break', 'abbey'] 4\n",
            "209 ['biddy', 'money', 'funny', 'pansy', 'lanky', 'tangy'] 6\n",
            "210 ['phone', 'plain', 'panic'] 3\n",
            "211 ['genie', 'world', 'color', 'polar', 'solar'] 5\n",
            "212 ['angle', 'house', 'shire'] 3\n",
            "213 ['spark', 'power', 'proof', 'proud', 'proxy'] 5\n",
            "214 ['adopt', 'point'] 2\n",
            "215 ['speak', 'world', 'court', 'robot'] 4\n",
            "216 ['havoc', 'price', 'prick'] 3\n",
            "217 ['cleat', 'voice', 'since', 'wince'] 4\n",
            "218 ['abbey', 'think', 'crisp', 'crimp'] 4\n",
            "219 ['cream', 'think', 'known', 'knoll'] 4\n",
            "220 ['condo', 'state', 'sugar'] 3\n",
            "221 ['allow', 'water', 'whack'] 3\n",
            "222 ['fugue', 'study', 'mouth', 'mount'] 4\n",
            "223 ['stair', 'world', 'curve', 'ferry', 'jerky', 'perky'] 6\n",
            "224 ['hussy', 'group', 'doubt', 'would', 'could'] 5\n",
            "225 ['scamp', 'think', 'young', 'flung', 'wrung'] 5\n",
            "226 ['sixth', 'night', 'light'] 3\n",
            "227 ['first', 'these', 'those'] 3\n",
            "228 ['cacti', 'think', 'exist', 'moist'] 4\n",
            "229 ['zebra', 'marry', 'award', 'guard', 'hoard', 'chard', 'shard'] 7\n",
            "230 ['truce', 'death', 'agent', 'sweat', 'bleat', 'pleat'] 6\n",
            "231 ['slack', 'allow', 'along', 'aloud', 'aloft'] 5\n",
            "232 ['gaudy', 'think', 'skill'] 3\n",
            "233 ['study', 'world', 'elder'] 3\n",
            "234 ['burst', 'order', 'price', 'frame'] 4\n",
            "235 ['brick', 'other', 'humor'] 3\n",
            "236 ['tarot', 'value', 'cause', 'pause'] 4\n",
            "237 ['elope', 'clear', 'ulcer'] 3\n",
            "238 ['sweep', 'think', 'court', 'ultra'] 4\n",
            "239 ['inlay', 'think', 'begin', 'robin'] 4\n",
            "240 ['talon', 'sense', 'bunch', 'cynic'] 4\n",
            "241 ['curse', 'bring', 'proof', 'aroma'] 4\n",
            "242 ['stuck', 'chunk', 'caulk'] 3\n",
            "243 ['alien', 'state', 'space', 'share', 'shame', 'shake'] 6\n",
            "244 ['gross', 'young', 'logic', 'dodge'] 4\n",
            "245 ['augur', 'think', 'voice', 'spill', 'swill'] 5\n",
            "246 ['ultra', 'state', 'today', 'tacit'] 4\n",
            "247 ['ridge', 'other'] 2\n",
            "248 ['fence', 'think', 'thorn'] 3\n",
            "249 ['dingy', 'other', 'route', 'trope', 'trove'] 5\n",
            "250 ['sixth', 'world', 'block', 'bloke'] 4\n",
            "251 ['beset', 'world', 'humid', 'vivid'] 4\n",
            "252 ['putty', 'space', 'spoon', 'spill'] 4\n",
            "253 ['snore', 'think', 'chant'] 3\n",
            "254 ['learn', 'house', 'choke'] 3\n",
            "255 ['dandy', 'other', 'brief', 'revel', 'rupee'] 5\n",
            "256 ['plant', 'taken', 'nasty'] 3\n",
            "257 ['truck', 'rough', 'mourn'] 3\n",
            "258 ['heist', 'phone', 'wheel', 'ahead'] 4\n",
            "259 ['solid', 'think', 'bring', 'brine'] 4\n",
            "260 ['lapse', 'world', 'block', 'cloth'] 4\n",
            "261 ['saner', 'board', 'hoard'] 3\n",
            "262 ['fruit', 'event', 'sheet', 'sweet'] 4\n",
            "263 ['terra', 'point', 'month'] 3\n",
            "264 ['trump', 'place', 'apple', 'lapse'] 4\n",
            "265 ['juror', 'think', 'death', 'catch', 'match', 'watch'] 6\n",
            "266 ['spelt', 'think', 'today'] 3\n",
            "267 ['quart', 'house', 'focus'] 3\n",
            "268 ['beret', 'event', 'sweat', 'slept', 'smelt'] 5\n",
            "269 ['trace', 'tease'] 2\n",
            "270 ['onion', 'place', 'cream', 'cater'] 4\n",
            "271 ['abhor', 'point', 'movie'] 3\n",
            "272 ['endow', 'place', 'taste', 'saute'] 4\n",
            "273 ['after', 'allow'] 2\n",
            "274 ['salon', 'think', 'enemy', 'never', 'renew'] 5\n",
            "275 ['shrug', 'chair', 'their'] 3\n",
            "276 ['leech', 'flash', 'blush', 'slosh'] 4\n",
            "277 ['steam', 'order', 'curve', 'purge'] 4\n",
            "278 ['musty', 'first', 'coast', 'chest'] 4\n",
            "279 ['cello', 'demon', 'depot'] 3\n",
            "280 ['drama', 'think', 'level', 'scope', 'epoxy'] 5\n",
            "281 ['slurp', 'point', 'apnea', 'nymph'] 4\n",
            "282 ['sheen', 'point', 'young', 'found'] 4\n",
            "283 ['amaze', 'class', 'shalt', 'shall'] 4\n",
            "284 ['crony', 'party', 'early', 'marry', 'harry'] 5\n",
            "285 ['vapor', 'movie', 'glove', 'stove'] 4\n",
            "286 ['avert', 'child', 'skull', 'folly', 'lowly'] 5\n",
            "287 ['carat', 'point', 'onset', 'snout'] 4\n",
            "288 ['acute', 'style', 'theme', 'tribe', 'trope'] 5\n",
            "289 ['wench', 'jewel', 'sewer', 'fewer'] 4\n",
            "290 ['lower', 'awful', 'shawl'] 3\n",
            "291 ['blend', 'final', 'nasal', 'naval', 'natal'] 5\n",
            "292 ['udder', 'think', 'class', 'cocoa', 'comma'] 5\n",
            "293 ['rider', 'group', 'worth', 'moral', 'foray'] 5\n",
            "294 ['stein', 'space', 'scale', 'scare'] 4\n",
            "295 ['plain', 'chair', 'stair'] 3\n",
            "296 ['thump', 'world', 'level', 'class', 'black'] 5\n",
            "297 ['leaky', 'woman', 'sugar', 'squad'] 4\n",
            "298 ['duvet', 'woman', 'local', 'royal'] 4\n",
            "299 ['legal', 'think', 'chunk'] 3\n",
            "300 ['maple', 'movie', 'mince'] 3\n",
            "301 ['druid', 'place', 'state', 'shame'] 4\n",
            "302 ['owing', 'place', 'cheek'] 3\n",
            "303 ['beget', 'place', 'apple', 'ample'] 4\n",
            "304 ['whelp', 'class', 'blank', 'alarm', 'flair'] 5\n",
            "305 ['front', 'force', 'foyer'] 3\n",
            "306 ['eaten', 'basis', 'major', 'cargo'] 4\n",
            "307 ['meant', 'order', 'oxide'] 3\n",
            "308 ['march', 'state', 'plant'] 3\n",
            "309 ['crave', 'olive'] 2\n",
            "310 ['swore', 'heart', 'exert', 'inert'] 4\n",
            "311 ['chant', 'value', 'break', 'askew'] 4\n",
            "312 ['paler', 'house', 'heist'] 3\n",
            "313 ['canal', 'think', 'shown'] 3\n",
            "314 ['sumac', 'first', 'ethos', 'testy', 'zesty'] 5\n",
            "315 ['craze', 'woman', 'basis', 'pasta', 'hasty'] 5\n",
            "316 ['joust', 'these', 'trash'] 3\n",
            "317 ['fluff', 'field', 'fella'] 3\n",
            "318 ['gloom', 'level', 'larva'] 3\n",
            "319 ['drawn', 'other', 'glory', 'forgo'] 4\n",
            "320 ['blend', 'first', 'story'] 3\n",
            "321 ['proud', 'water', 'marry', 'fairy', 'hairy'] 5\n",
            "322 ['tying', 'train'] 2\n",
            "323 ['tread', 'power', 'cover', 'sober', 'foyer', 'joker', 'homer'] 7\n",
            "324 ['beard', 'badge'] 2\n",
            "325 ['heady', 'world', 'midst'] 3\n",
            "326 ['assay', 'party', 'daily', 'fancy', 'canny'] 5\n",
            "327 ['staid', 'trust', 'fetus'] 3\n",
            "328 ['atoll', 'think', 'depth', 'butch'] 4\n",
            "329 ['photo', 'level', 'cause', 'dance', 'farce'] 5\n",
            "330 ['flesh', 'slack', 'slump', 'slung'] 4\n",
            "331 ['soapy', 'gypsy', 'tipsy'] 3\n",
            "332 ['wagon', 'place', 'metal'] 3\n",
            "333 ['banal', 'world', 'child', 'field', 'yield'] 5\n",
            "334 ['comma', 'think', 'level', 'delve'] 4\n",
            "335 ['carol', 'think', 'being'] 3\n",
            "336 ['aorta', 'order', 'floor', 'choir', 'scour'] 5\n",
            "337 ['fluid', 'place', 'glass'] 3\n",
            "338 ['shown', 'place', 'great', 'gamer'] 4\n",
            "339 ['doing', 'place', 'scrap'] 3\n",
            "340 ['tepid', 'house', 'money'] 3\n",
            "341 ['whose', 'hence', 'hinge'] 3\n",
            "342 ['adage', 'allow', 'altar', 'alpha', 'album'] 5\n",
            "343 ['tweed', 'group', 'union', 'couch', 'vouch'] 5\n",
            "344 ['hutch', 'state', 'asset'] 3\n",
            "345 ['value', 'woman', 'staff', 'track', 'tiara'] 5\n",
            "346 ['index', 'place', 'crept'] 3\n",
            "347 ['rebar', 'basis', 'baton', 'bayou'] 4\n",
            "348 ['stray', 'attic', 'atoll'] 3\n",
            "349 ['proof', 'color', 'major', 'mayor', 'manor'] 5\n",
            "350 ['twixt', 'place', 'cream', 'creak'] 4\n",
            "351 ['shrug', 'shook', 'shone', 'shoal', 'showy'] 5\n",
            "352 ['faint', 'place', 'phase'] 3\n",
            "353 ['dowel', 'group', 'cross', 'front', 'froth'] 5\n",
            "354 ['lease', 'begin', 'depth'] 3\n",
            "355 ['altar', 'blood', 'gloom'] 3\n",
            "356 ['bused', 'world', 'flood'] 3\n",
            "357 ['oxide', 'first', 'trait'] 3\n",
            "358 ['slant', 'other', 'truth', 'birth', 'mirth', 'girth'] 6\n",
            "359 ['snide', 'river', 'piety'] 3\n",
            "360 ['snore', 'water', 'paper', 'paler', 'payer'] 5\n",
            "361 ['cease', 'house', 'loose', 'goose'] 4\n",
            "362 ['prong', 'blood', 'clock', 'float'] 4\n",
            "363 ['cower', 'motor', 'donor'] 3\n",
            "364 ['quoth', 'story', 'atoll', 'atone'] 4\n",
            "365 ['royal', 'other', 'group', 'primo'] 4\n",
            "366 ['mural', 'party', 'apron'] 3\n",
            "367 ['lying', 'panel', 'colon', 'blown'] 4\n",
            "368 ['silky', 'other', 'woman', 'cacao'] 4\n",
            "369 ['small', 'pulse', 'loser'] 3\n",
            "370 ['stare', 'think', 'input'] 3\n",
            "371 ['shack', 'water', 'today', 'float', 'gloat'] 5\n",
            "372 ['never', 'study', 'quick', 'album', 'awful'] 5\n",
            "373 ['gooey', 'think', 'blink', 'brink'] 4\n",
            "374 ['mambo', 'crime', 'smile', 'smite'] 4\n",
            "375 ['waxen', 'place', 'heart', 'beady'] 4\n",
            "376 ['quest', 'gusto', 'dusty', 'lusty', 'rusty'] 5\n",
            "377 ['eaten', 'title', 'fetus', 'petty', 'metro', 'retro'] 6\n",
            "378 ['lymph', 'world', 'droll'] 3\n",
            "379 ['dryly', 'money', 'happy', 'fatty', 'savvy', 'baggy', 'gawky'] 7\n",
            "380 ['rigor', 'place', 'bunch', 'hutch'] 4\n",
            "381 ['chump', 'point', 'pinto'] 3\n",
            "382 ['chirp', 'build', 'smile', 'gaily'] 4\n",
            "383 ['sheet', 'quiet', 'tenet', 'facet', 'egret'] 5\n",
            "384 ['debar', 'woman', 'usual', 'lilac'] 4\n",
            "385 ['chain', 'world', 'trust', 'sperm', 'sever'] 5\n",
            "386 ['brush', 'place', 'level', 'field'] 4\n",
            "387 ['maxim', 'other', 'flung', 'fluff'] 4\n",
            "388 ['cairn', 'story', 'hydro'] 3\n",
            "389 ['frail', 'flash', 'flame', 'flank', 'flack'] 5\n",
            "390 ['flout', 'sense', 'image', 'grade', 'agape'] 5\n",
            "391 ['polar', 'house', 'voice'] 3\n",
            "392 ['datum', 'today', 'stead'] 3\n",
            "393 ['woman', 'place', 'trail', 'shalt', 'stalk'] 5\n",
            "394 ['shirt', 'other', 'earth', 'berth'] 4\n",
            "395 ['audit', 'radar', 'madam'] 3\n",
            "396 ['awash', 'think', 'night'] 3\n",
            "397 ['knoll', 'plant', 'slang', 'bland'] 4\n",
            "398 ['murky', 'other', 'paper', 'river', 'liver'] 5\n",
            "399 ['glint', 'judge', 'hedge', 'wedge'] 4\n",
            "400 ['nylon', 'state', 'march', 'augur'] 4\n",
            "401 ['marry', 'grimy', 'roomy'] 3\n",
            "402 ['lease', 'woman', 'watch', 'wacky'] 4\n",
            "403 ['mauve', 'think', 'block', 'clock', 'flock'] 5\n",
            "404 ['thump', 'world', 'range', 'grain', 'angry'] 5\n",
            "405 ['shyly', 'money', 'today', 'worry', 'goofy', 'poppy', 'bobby'] 7\n",
            "406 ['deity', 'white', 'spite', 'quite', 'elite', 'trite'] 6\n",
            "407 ['uncut', 'world', 'speed', 'aphid'] 4\n",
            "408 ['plate', 'think', 'trust', 'tryst'] 4\n",
            "409 ['spent', 'order', 'judge', 'hedge', 'badge', 'midge'] 6\n",
            "410 ['goner', 'power'] 2\n",
            "411 ['wreck', 'state', 'phone', 'elope'] 4\n",
            "412 ['tutor', 'place', 'chick', 'cinch'] 4\n",
            "413 ['munch', 'model', 'motor', 'motto'] 4\n",
            "414 ['cross', 'shook', 'stone', 'stout', 'stomp'] 5\n",
            "415 ['thrum', 'study', 'upset'] 3\n",
            "416 ['since', 'world', 'alpha', 'bluff'] 4\n",
            "417 ['power', 'graph', 'tramp', 'cramp'] 4\n",
            "418 ['snuff', 'group', 'curve', 'quart'] 4\n",
            "419 ['focus', 'voice', 'color', 'coyly'] 4\n",
            "420 ['maize', 'world', 'focus', 'young', 'youth'] 5\n",
            "421 ['creep', 'heart', 'rhyme'] 3\n",
            "422 ['pygmy', 'angry', 'buggy'] 3\n",
            "423 ['venom', 'scene', 'enter', 'alien'] 4\n",
            "424 ['cycle', 'other', 'swear', 'spear', 'smear'] 5\n",
            "425 ['shirt', 'limit', 'audit', 'unfit'] 4\n",
            "426 ['aunty', 'party', 'pasty', 'patty'] 4\n",
            "427 ['prior', 'think', 'being', 'using', 'lying', 'cling'] 6\n",
            "428 ['shelf', 'clear', 'gleam', 'glean'] 4\n",
            "429 ['plush', 'world', 'level', 'label'] 4\n",
            "430 ['belly', 'study', 'hurry', 'hunky'] 4\n",
            "431 ['quail', 'image', 'piano', 'khaki'] 4\n",
            "432 ['grail', 'other', 'power', 'poker'] 4\n",
            "433 ['blaze', 'level', 'model', 'steel', 'cruel', 'gruel'] 6\n",
            "434 ['clasp', 'voice', 'juice', 'twice'] 4\n",
            "435 ['micro', 'state', 'plant', 'thank', 'twang'] 5\n",
            "436 ['apnea', 'world', 'first', 'scrub', 'shrug'] 5\n",
            "437 ['drake', 'great', 'treat'] 3\n",
            "438 ['ruddy', 'house', 'input', 'unfit', 'unlit'] 5\n",
            "439 ['weary', 'waste'] 2\n",
            "440 ['pasty', 'think', 'limit', 'merit'] 4\n",
            "441 ['mover', 'novel', 'woven'] 3\n",
            "442 ['black', 'local', 'octal'] 3\n",
            "443 ['chute', 'order', 'field', 'needy'] 4\n",
            "444 ['clock', 'close', 'cloth', 'clown'] 4\n",
            "445 ['brink', 'field', 'midst', 'giddy', 'widow'] 5\n",
            "446 ['quark', 'other', 'world', 'cross', 'proof', 'irony'] 6\n",
            "447 ['field', 'order', 'under', 'ruder'] 4\n",
            "448 ['plaza', 'maize', 'gauze'] 3\n",
            "449 ['sonic', 'child', 'chief'] 3\n",
            "450 ['ember', 'level', 'speed', 'asset', 'onset'] 5\n",
            "451 ['haunt', 'world', 'price', 'prize'] 4\n",
            "452 ['drink', 'night', 'again', 'fungi'] 4\n",
            "453 ['cloak', 'cause', 'chair', 'charm'] 4\n",
            "454 ['stern', 'child', 'apply', 'fully', 'bully', 'gully'] 6\n",
            "455 ['outer', 'water', 'enter', 'inter'] 4\n",
            "456 ['whale', 'whiff', 'whoop'] 3\n",
            "457 ['array', 'place', 'basis', 'gamma', 'haunt', 'taunt'] 6\n",
            "458 ['afire', 'entry', 'query', 'leery'] 4\n",
            "459 ['bunch', 'class'] 2\n",
            "460 ['rowdy', 'think', 'theme'] 3\n",
            "461 ['sassy', 'money', 'lobby', 'lorry', 'lofty'] 5\n",
            "462 ['exert', 'think', 'topic', 'timid', 'tibia'] 5\n",
            "463 ['catty', 'world', 'house', 'movie', 'booze'] 5\n",
            "464 ['filmy', 'world', 'place', 'alpha'] 4\n",
            "465 ['issue', 'place', 'theme', 'thyme'] 4\n",
            "466 ['beset', 'great', 'eclat'] 3\n",
            "467 ['fetus', 'mouth', 'court', 'doubt'] 4\n",
            "468 ['vigor', 'water', 'paper', 'paler', 'payer', 'parer'] 6\n",
            "469 ['stamp', 'think', 'chute'] 3\n",
            "470 ['onset', 'study', 'staff', 'still', 'stick'] 5\n",
            "471 ['papal', 'think', 'tribe', 'trite', 'trice'] 5\n",
            "472 ['prose', 'value', 'blade', 'algae', 'alike'] 5\n",
            "473 ['diner', 'class', 'shook', 'sooth'] 4\n",
            "474 ['gusto', 'place', 'recap'] 3\n",
            "475 ['exact', 'adult', 'paint', 'faint', 'saint'] 5\n",
            "476 ['recap', 'house', 'title', 'liege'] 4\n",
            "477 ['strap', 'order', 'glory'] 3\n",
            "478 ['rival', 'water', 'heart', 'trade', 'crate', 'grate'] 6\n",
            "479 ['chalk', 'water', 'today', 'admit'] 4\n",
            "480 ['moult', 'sense', 'grass', 'crisp', 'brisk'] 5\n",
            "481 ['unity', 'early', 'hobby', 'woody', 'foggy', 'soggy'] 6\n",
            "482 ['style', 'focus', 'brush', 'usurp'] 4\n",
            "483 ['pique', 'world', 'scald'] 3\n",
            "484 ['ebony', 'grown', 'scorn'] 3\n",
            "485 ['borax', 'place', 'lease', 'leave'] 4\n",
            "486 ['berry', 'place', 'house', 'knife', 'twine'] 5\n",
            "487 ['delta', 'think', 'point', 'sting'] 4\n",
            "488 ['nanny', 'other', 'shook', 'cough', 'dough', 'bough'] 6\n",
            "489 ['scaly', 'basis', 'pause', 'harsh', 'marsh'] 5\n",
            "490 ['spore', 'shook', 'slosh', 'sloth'] 4\n",
            "491 ['handy', 'candy', 'sandy', 'dandy'] 4\n",
            "492 ['brace', 'world', 'story', 'humor', 'vigor'] 5\n",
            "493 ['croup', 'woman', 'towel', 'dowdy', 'howdy'] 5\n",
            "494 ['glean', 'sense', 'enter', 'enjoy'] 4\n",
            "495 ['tweet', 'group', 'child', 'valid'] 4\n",
            "496 ['short', 'woman', 'young', 'novel', 'condo', 'ionic'] 6\n",
            "497 ['grasp', 'value', 'equal'] 3\n",
            "498 ['fault', 'input', 'unmet', 'unset'] 4\n",
            "499 ['aroma', 'story', 'floor'] 3\n",
            "500 ['began', 'class', 'catch'] 3\n",
            "501 ['mafia', 'place', 'spare', 'spade'] 4\n",
            "502 ['clink', 'night', 'train', 'stein'] 4\n",
            "503 ['prime', 'exist'] 2\n",
            "504 ['clamp', 'think', 'brisk', 'quirk'] 4\n",
            "505 ['raise', 'field', 'index', 'denim'] 4\n",
            "506 ['riper', 'heart', 'force', 'drone', 'broke', 'grove'] 6\n",
            "507 ['needy', 'other', 'label', 'pixel', 'spiel'] 5\n",
            "508 ['smell', 'woman', 'dummy', 'mummy'] 4\n",
            "Mean Score: 4.0\n",
            "Games Won in 2 Guesses: 18\n",
            "Games Lost: 9\n"
          ]
        }
      ]
    },
    {
      "cell_type": "code",
      "source": [
        "%timeit play_game_frequency('smell', 'mummy', possible_words, encoded_possible, all_freq)"
      ],
      "metadata": {
        "colab": {
          "base_uri": "https://localhost:8080/"
        },
        "id": "a_cDu6aX5z2h",
        "outputId": "42a15a15-1181-4219-cd08-3e208d785b33"
      },
      "execution_count": 56,
      "outputs": [
        {
          "output_type": "stream",
          "name": "stdout",
          "text": [
            "5.93 ms ± 164 µs per loop (mean ± std. dev. of 7 runs, 100 loops each)\n"
          ]
        }
      ]
    },
    {
      "cell_type": "markdown",
      "source": [
        "The word 'salet' is a popular opening guess among Wordle enthusiasts.  Let's see how 'salet' performs versus a random opening guess:"
      ],
      "metadata": {
        "id": "QY1jbA618bdA"
      }
    },
    {
      "cell_type": "code",
      "source": [
        "game_scores = np.zeros(n_games, dtype=int)\n",
        "\n",
        "for i, secret in enumerate(past_words):  \n",
        "\n",
        "  guess = 'salet'\n",
        "  guesses = play_game_frequency(guess, secret, possible_words, encoded_possible, all_freq)  \n",
        "  game_scores[i] = len(guesses)\n",
        "  print(i, guesses, game_scores[i])\n",
        "\n",
        "print('Mean Score:', game_scores[game_scores < 7].mean())\n",
        "print('Games Won in 2 Guesses:', sum(game_scores < 3))\n",
        "print('Games Lost:', sum(game_scores > 6))\n",
        "\n",
        "salet_frequency_scores = game_scores.copy()"
      ],
      "metadata": {
        "colab": {
          "base_uri": "https://localhost:8080/"
        },
        "id": "i4rgPo_JiMmO",
        "outputId": "09d4ac8d-5633-41fa-c996-0b1713f95463"
      },
      "execution_count": 57,
      "outputs": [
        {
          "output_type": "stream",
          "name": "stdout",
          "text": [
            "0 ['salet', 'woman', 'cigar'] 3\n",
            "1 ['salet', 'event', 'merit', 'rebut'] 4\n",
            "2 ['salet', 'shook', 'swung', 'sissy'] 4\n",
            "3 ['salet', 'group', 'punch', 'humph'] 4\n",
            "4 ['salet', 'heard', 'image', 'quake', 'awake'] 5\n",
            "5 ['salet', 'locus', 'blush'] 3\n",
            "6 ['salet', 'claim', 'local', 'focal'] 4\n",
            "7 ['salet', 'heard', 'adage', 'evade'] 4\n",
            "8 ['salet', 'labor', 'daily', 'naval'] 4\n",
            "9 ['salet', 'sense', 'serve'] 3\n",
            "10 ['salet', 'death', 'heath'] 3\n",
            "11 ['salet', 'woman', 'award', 'dwarf'] 4\n",
            "12 ['salet', 'level', 'model'] 3\n",
            "13 ['salet', 'major', 'karma'] 3\n",
            "14 ['salet', 'study', 'stock', 'stink'] 4\n",
            "15 ['salet', 'heard', 'grade'] 3\n",
            "16 ['salet', 'quiet'] 2\n",
            "17 ['salet', 'voice', 'mercy', 'bench'] 4\n",
            "18 ['salet', 'death', 'crate', 'abate'] 4\n",
            "19 ['salet', 'voice', 'being', 'reign', 'feign'] 5\n",
            "20 ['salet', 'major'] 2\n",
            "21 ['salet', 'death'] 2\n",
            "22 ['salet', 'house', 'fresh'] 3\n",
            "23 ['salet', 'first', 'trust', 'crust'] 4\n",
            "24 ['salet', 'still', 'stool'] 3\n",
            "25 ['salet', 'color', 'colon'] 3\n",
            "26 ['salet', 'phase', 'cease', 'erase', 'abase'] 5\n",
            "27 ['salet', 'major', 'marry'] 3\n",
            "28 ['salet', 'heart', 'react'] 3\n",
            "29 ['salet', 'party', 'fatty', 'tatty', 'batty'] 5\n",
            "30 ['salet', 'voice', 'pride'] 3\n",
            "31 ['salet', 'locus', 'gloss', 'floss'] 4\n",
            "32 ['salet', 'hello', 'helix'] 3\n",
            "33 ['salet', 'woman', 'broad', 'croak'] 4\n",
            "34 ['salet', 'staff'] 2\n",
            "35 ['salet', 'paper'] 2\n",
            "36 ['salet', 'order', 'kneed', 'unwed', 'unfed'] 5\n",
            "37 ['salet', 'field', 'quell', 'whelp'] 4\n",
            "38 ['salet', 'total', 'trail', 'trawl'] 4\n",
            "39 ['salet', 'think', 'motor', 'outgo', 'outdo'] 5\n",
            "40 ['salet', 'heard', 'abode', 'adobe'] 4\n",
            "41 ['salet', 'woman', 'chair', 'crazy'] 4\n",
            "42 ['salet', 'speed', 'sober', 'sower'] 4\n",
            "43 ['salet', 'heard', 'repay'] 3\n",
            "44 ['salet', 'point', 'fight', 'digit'] 4\n",
            "45 ['salet', 'death', 'crate'] 3\n",
            "46 ['salet', 'world', 'lunch', 'pluck', 'cluck'] 5\n",
            "47 ['salet', 'sense', 'scope', 'spike'] 4\n",
            "48 ['salet', 'group', 'civic', 'mimic'] 4\n",
            "49 ['salet', 'group', 'pound'] 3\n",
            "50 ['salet', 'major', 'magic', 'mania', 'maxim'] 5\n",
            "51 ['salet', 'level', 'linen'] 3\n",
            "52 ['salet', 'quiet', 'unmet'] 3\n",
            "53 ['salet', 'flesh'] 2\n",
            "54 ['salet', 'group', 'knock', 'woody', 'booby'] 5\n",
            "55 ['salet', 'think', 'mouth', 'worth', 'forth'] 5\n",
            "56 ['salet', 'first'] 2\n",
            "57 ['salet', 'staff', 'stack', 'stamp', 'stain', 'stand'] 6\n",
            "58 ['salet', 'hello', 'belle', 'belly'] 4\n",
            "59 ['salet', 'group', 'chord', 'ivory'] 4\n",
            "60 ['salet', 'sense', 'serum', 'seedy'] 4\n",
            "61 ['salet', 'point', 'print'] 3\n",
            "62 ['salet', 'heard', 'weary', 'yearn'] 4\n",
            "63 ['salet', 'woman', 'brain', 'grain', 'drain'] 5\n",
            "64 ['salet', 'voice', 'pride', 'urine', 'grime', 'bribe'] 6\n",
            "65 ['salet', 'short', 'stout'] 3\n",
            "66 ['salet', 'layer', 'panel'] 3\n",
            "67 ['salet', 'grass', 'brass', 'crass'] 4\n",
            "68 ['salet', 'field', 'fluke', 'flume'] 4\n",
            "69 ['salet', 'claim', 'royal', 'offal'] 4\n",
            "70 ['salet', 'amber', 'agree'] 3\n",
            "71 ['salet', 'voice', 'error'] 3\n",
            "72 ['salet', 'skill', 'swirl'] 3\n",
            "73 ['salet', 'heard', 'break', 'argue'] 4\n",
            "74 ['salet', 'level', 'elder', 'bleed'] 4\n",
            "75 ['salet', 'delta'] 2\n",
            "76 ['salet', 'world', 'lunch', 'click', 'flick'] 5\n",
            "77 ['salet', 'other', 'token', 'totem'] 4\n",
            "78 ['salet', 'order', 'power', 'wooer'] 4\n",
            "79 ['salet', 'point', 'front'] 3\n",
            "80 ['salet', 'shook', 'shiny', 'shrug', 'shrub'] 5\n",
            "81 ['salet', 'major', 'rapid', 'parka', 'parry'] 5\n",
            "82 ['salet', 'voice', 'diode', 'biome'] 4\n",
            "83 ['salet', 'layer', 'label', 'lapel'] 4\n",
            "84 ['salet', 'shaft', 'smart', 'start'] 4\n",
            "85 ['salet', 'quiet', 'tenet', 'comet', 'greet'] 5\n",
            "86 ['salet', 'order', 'power', 'cover', 'foyer', 'boxer', 'joker', 'homer', 'goner'] 9\n",
            "87 ['salet', 'ruler', 'golem'] 3\n",
            "88 ['salet', 'lusty'] 2\n",
            "89 ['salet', 'world', 'logic', 'lobby', 'loopy'] 5\n",
            "90 ['salet', 'group', 'humor', 'round'] 4\n",
            "91 ['salet', 'about', 'audit'] 3\n",
            "92 ['salet', 'world', 'lunch', 'lying'] 4\n",
            "93 ['salet', 'major', 'gamma'] 3\n",
            "94 ['salet', 'labor'] 2\n",
            "95 ['salet', 'islet'] 2\n",
            "96 ['salet', 'group', 'civic'] 3\n",
            "97 ['salet', 'voice', 'borne', 'forge'] 4\n",
            "98 ['salet', 'group', 'micro', 'corny'] 4\n",
            "99 ['salet', 'light', 'blunt', 'moult'] 4\n",
            "100 ['salet', 'basis', 'basic'] 3\n",
            "101 ['salet', 'salad'] 2\n",
            "102 ['salet', 'death', 'crate', 'abate', 'agate'] 5\n",
            "103 ['salet', 'shook', 'swung', 'sissy', 'spicy'] 5\n",
            "104 ['salet', 'sugar', 'spray'] 3\n",
            "105 ['salet', 'phase', 'essay'] 3\n",
            "106 ['salet', 'group', 'chord', 'fjord'] 4\n",
            "107 ['salet', 'sense', 'spend'] 3\n",
            "108 ['salet', 'heard', 'began', 'kebab'] 4\n",
            "109 ['salet', 'world', 'child', 'build', 'guild'] 5\n",
            "110 ['salet', 'woman', 'chair', 'aback'] 4\n",
            "111 ['salet', 'think', 'motor'] 3\n",
            "112 ['salet', 'place', 'alive', 'alone'] 4\n",
            "113 ['salet', 'party', 'catch', 'match', 'watch', 'hatch'] 6\n",
            "114 ['salet', 'order', 'river', 'upper', 'hyper'] 5\n",
            "115 ['salet', 'think', 'throw', 'thumb'] 4\n",
            "116 ['salet', 'group', 'micro', 'worry', 'dowry'] 5\n",
            "117 ['salet', 'point', 'grout', 'ought'] 4\n",
            "118 ['salet', 'hello', 'belch'] 3\n",
            "119 ['salet', 'think', 'mouth', 'butch', 'hutch', 'dutch'] 6\n",
            "120 ['salet', 'pilot'] 2\n",
            "121 ['salet', 'other', 'tweed'] 3\n",
            "122 ['salet', 'quiet', 'tenet', 'comet'] 4\n",
            "123 ['salet', 'paint', 'haunt', 'gaunt', 'taunt', 'jaunt'] 6\n",
            "124 ['salet', 'heard', 'above', 'enema'] 4\n",
            "125 ['salet', 'steer', 'steep', 'steed'] 4\n",
            "126 ['salet', 'grass', 'abyss'] 3\n",
            "127 ['salet', 'world', 'growl'] 3\n",
            "128 ['salet', 'world', 'lunch', 'blink', 'fling'] 5\n",
            "129 ['salet', 'order', 'dozen'] 3\n",
            "130 ['salet', 'group', 'knock', 'woody', 'booby', 'boozy'] 6\n",
            "131 ['salet', 'voice', 'phone', 'froze', 'broke', 'erode'] 6\n",
            "132 ['salet', 'world'] 2\n",
            "133 ['salet', 'voice', 'borne', 'dodge', 'gouge'] 5\n",
            "134 ['salet', 'world', 'lunch', 'click'] 4\n",
            "135 ['salet', 'woman', 'cigar', 'friar', 'briar'] 5\n",
            "136 ['salet', 'heart', 'great'] 3\n",
            "137 ['salet', 'total', 'altar'] 3\n",
            "138 ['salet', 'color', 'fully', 'pulpy'] 4\n",
            "139 ['salet', 'light', 'blunt', 'blurt'] 4\n",
            "140 ['salet', 'coast'] 2\n",
            "141 ['salet', 'group', 'quick', 'duchy'] 4\n",
            "142 ['salet', 'group', 'grown', 'groin'] 4\n",
            "143 ['salet', 'order', 'river', 'nicer', 'fiber', 'fixer'] 6\n",
            "144 ['salet', 'group'] 2\n",
            "145 ['salet', 'voice', 'borne', 'rogue'] 4\n",
            "146 ['salet', 'labor', 'badly'] 3\n",
            "147 ['salet', 'shaft', 'smart'] 3\n",
            "148 ['salet', 'think', 'birth', 'pithy'] 4\n",
            "149 ['salet', 'major', 'happy', 'candy', 'daddy', 'gaudy'] 6\n",
            "150 ['salet', 'world', 'imply', 'chill'] 4\n",
            "151 ['salet', 'voice', 'error', 'heron'] 4\n",
            "152 ['salet', 'woman', 'board', 'vodka'] 4\n",
            "153 ['salet', 'order', 'river', 'nicer', 'finer'] 5\n",
            "154 ['salet', 'speed', 'sober', 'sewer', 'surer'] 5\n",
            "155 ['salet', 'major', 'radio'] 3\n",
            "156 ['salet', 'voice', 'borne', 'rogue', 'rouge'] 5\n",
            "157 ['salet', 'voice', 'mercy', 'perch'] 4\n",
            "158 ['salet', 'white', 'fetch', 'retch'] 4\n",
            "159 ['salet', 'white', 'wrote'] 3\n",
            "160 ['salet', 'world', 'block', 'clock'] 4\n",
            "161 ['salet', 'tilde'] 2\n",
            "162 ['salet', 'stone', 'store'] 3\n",
            "163 ['salet', 'voice', 'prove'] 3\n",
            "164 ['salet', 'group', 'bring'] 3\n",
            "165 ['salet', 'solve'] 2\n",
            "166 ['salet', 'heart', 'wheat', 'cheat'] 4\n",
            "167 ['salet', 'voice', 'pride', 'urine', 'grime'] 5\n",
            "168 ['salet', 'cleft', 'exult'] 3\n",
            "169 ['salet', 'wiser', 'usher'] 3\n",
            "170 ['salet', 'voice', 'epoch'] 3\n",
            "171 ['salet', 'today', 'triad'] 3\n",
            "172 ['salet', 'heard', 'break'] 3\n",
            "173 ['salet', 'group', 'micro', 'rhino'] 4\n",
            "174 ['salet', 'claim', 'final', 'rival', 'viral'] 5\n",
            "175 ['salet', 'group', 'onion', 'ionic', 'conic'] 5\n",
            "176 ['salet', 'cause', 'raise', 'masse'] 4\n",
            "177 ['salet', 'shook', 'sorry', 'sound', 'sonic'] 5\n",
            "178 ['salet', 'total', 'vital'] 3\n",
            "179 ['salet', 'death', 'trace'] 3\n",
            "180 ['salet', 'focus', 'brush', 'using'] 4\n",
            "181 ['salet', 'heard', 'beach', 'peach'] 4\n",
            "182 ['salet', 'woman', 'drama', 'champ'] 4\n",
            "183 ['salet', 'party', 'catch', 'datum', 'baton'] 5\n",
            "184 ['salet', 'heard', 'frame', 'brake'] 4\n",
            "185 ['salet', 'world', 'lunch', 'pluck'] 4\n",
            "186 ['salet', 'heard', 'frame', 'brake', 'grape', 'crane', 'crave', 'craze'] 8\n",
            "187 ['salet', 'voice', 'pride', 'gripe'] 4\n",
            "188 ['salet', 'heard', 'weary'] 3\n",
            "189 ['salet', 'group', 'pinch', 'picky'] 4\n",
            "190 ['salet', 'death', 'acute'] 3\n",
            "191 ['salet', 'voice', 'enemy', 'ferry'] 4\n",
            "192 ['salet', 'phase', 'aside'] 3\n",
            "193 ['salet', 'party', 'tapir'] 3\n",
            "194 ['salet', 'cloth', 'troll'] 3\n",
            "195 ['salet', 'group', 'quick', 'unify'] 4\n",
            "196 ['salet', 'house', 'rebus'] 3\n",
            "197 ['salet', 'first', 'ghost', 'boost'] 4\n",
            "198 ['salet', 'torso', 'truss'] 3\n",
            "199 ['salet', 'sense', 'scope', 'surge', 'siege'] 5\n",
            "200 ['salet', 'other', 'enter', 'tiger'] 4\n",
            "201 ['salet', 'labor', 'badly', 'banal'] 4\n",
            "202 ['salet', 'skill', 'slump'] 3\n",
            "203 ['salet', 'woman', 'brand', 'frank', 'crank'] 5\n",
            "204 ['salet', 'voice', 'borne', 'forge', 'gorge'] 5\n",
            "205 ['salet', 'voice', 'enemy', 'query'] 4\n",
            "206 ['salet', 'group', 'brick', 'drink'] 4\n",
            "207 ['salet', 'major', 'vapor', 'favor'] 4\n",
            "208 ['salet', 'amber', 'abbey'] 3\n",
            "209 ['salet', 'party', 'tawny', 'tangy'] 4\n",
            "210 ['salet', 'major', 'happy', 'panic'] 4\n",
            "211 ['salet', 'solar'] 2\n",
            "212 ['salet', 'sense', 'scope', 'surge', 'shire'] 5\n",
            "213 ['salet', 'group', 'proof', 'proxy'] 4\n",
            "214 ['salet', 'point'] 2\n",
            "215 ['salet', 'point', 'court', 'robot'] 4\n",
            "216 ['salet', 'group', 'prick'] 3\n",
            "217 ['salet', 'voice', 'piece', 'wince'] 4\n",
            "218 ['salet', 'group', 'crimp'] 3\n",
            "219 ['salet', 'world', 'knoll'] 3\n",
            "220 ['salet', 'sugar'] 2\n",
            "221 ['salet', 'woman', 'wharf', 'whack'] 4\n",
            "222 ['salet', 'point', 'mount'] 3\n",
            "223 ['salet', 'voice', 'enemy', 'ferry', 'derby', 'jerky', 'perky'] 7\n",
            "224 ['salet', 'world', 'could'] 3\n",
            "225 ['salet', 'group', 'wrung'] 3\n",
            "226 ['salet', 'light'] 2\n",
            "227 ['salet', 'these', 'those'] 3\n",
            "228 ['salet', 'first', 'twist', 'moist'] 4\n",
            "229 ['salet', 'sugar', 'sharp', 'shark', 'shard'] 5\n",
            "230 ['salet', 'alert', 'bleat', 'cleat', 'pleat'] 5\n",
            "231 ['salet', 'plant', 'float', 'aloft'] 4\n",
            "232 ['salet', 'skill'] 2\n",
            "233 ['salet', 'level', 'elder'] 3\n",
            "234 ['salet', 'heard', 'frame'] 3\n",
            "235 ['salet', 'group', 'humor'] 3\n",
            "236 ['salet', 'cause', 'pause'] 3\n",
            "237 ['salet', 'level', 'elder', 'flyer', 'ulcer'] 5\n",
            "238 ['salet', 'total', 'ultra'] 3\n",
            "239 ['salet', 'group', 'micro', 'robin'] 4\n",
            "240 ['salet', 'group', 'civic', 'cynic'] 4\n",
            "241 ['salet', 'woman', 'aroma'] 3\n",
            "242 ['salet', 'labor', 'daily', 'caulk'] 4\n",
            "243 ['salet', 'space', 'share', 'shame', 'shake'] 5\n",
            "244 ['salet', 'voice', 'borne', 'dodge'] 4\n",
            "245 ['salet', 'skill', 'spill', 'swill'] 4\n",
            "246 ['salet', 'paint', 'tacit'] 3\n",
            "247 ['salet', 'other'] 2\n",
            "248 ['salet', 'think', 'thorn'] 3\n",
            "249 ['salet', 'white', 'trope', 'trove'] 4\n",
            "250 ['salet', 'field', 'lemon', 'globe', 'bloke'] 5\n",
            "251 ['salet', 'group', 'civic', 'vivid'] 4\n",
            "252 ['salet', 'skill', 'spill'] 3\n",
            "253 ['salet', 'about', 'giant', 'chant'] 4\n",
            "254 ['salet', 'voice', 'choke'] 3\n",
            "255 ['salet', 'order', 'renew', 'rupee'] 4\n",
            "256 ['salet', 'pasta', 'nasty'] 3\n",
            "257 ['salet', 'group', 'humor', 'mourn'] 4\n",
            "258 ['salet', 'heard', 'ahead'] 3\n",
            "259 ['salet', 'voice', 'pride', 'urine', 'brine'] 5\n",
            "260 ['salet', 'cloth'] 2\n",
            "261 ['salet', 'woman', 'board', 'hoard'] 4\n",
            "262 ['salet', 'sheet', 'sweet'] 3\n",
            "263 ['salet', 'think', 'month'] 3\n",
            "264 ['salet', 'lapse'] 2\n",
            "265 ['salet', 'party', 'catch', 'match', 'watch'] 5\n",
            "266 ['salet', 'today'] 2\n",
            "267 ['salet', 'focus'] 2\n",
            "268 ['salet', 'slept', 'smelt'] 3\n",
            "269 ['salet', 'tease'] 2\n",
            "270 ['salet', 'water', 'cater'] 3\n",
            "271 ['salet', 'voice', 'movie'] 3\n",
            "272 ['salet', 'saute'] 2\n",
            "273 ['salet', 'allow'] 2\n",
            "274 ['salet', 'order', 'renew'] 3\n",
            "275 ['salet', 'white', 'their'] 3\n",
            "276 ['salet', 'skill', 'slump', 'slosh'] 4\n",
            "277 ['salet', 'voice', 'judge', 'purge'] 4\n",
            "278 ['salet', 'exist', 'crest', 'chest'] 4\n",
            "279 ['salet', 'event', 'merit', 'debut', 'depot'] 5\n",
            "280 ['salet', 'voice', 'error', 'epoxy'] 4\n",
            "281 ['salet', 'group', 'pinch', 'nymph'] 4\n",
            "282 ['salet', 'group', 'union', 'found'] 4\n",
            "283 ['salet', 'small', 'shall'] 3\n",
            "284 ['salet', 'major', 'rapid', 'carry', 'harry'] 5\n",
            "285 ['salet', 'stone', 'store', 'stove'] 4\n",
            "286 ['salet', 'world', 'lowly'] 3\n",
            "287 ['salet', 'short', 'stout', 'scout', 'snout'] 5\n",
            "288 ['salet', 'white', 'trope'] 3\n",
            "289 ['salet', 'order', 'river', 'upper', 'cheer', 'fewer'] 6\n",
            "290 ['salet', 'small', 'snarl', 'shawl'] 4\n",
            "291 ['salet', 'latch', 'fatal', 'natal'] 4\n",
            "292 ['salet', 'woman', 'comma'] 3\n",
            "293 ['salet', 'woman', 'foray'] 3\n",
            "294 ['salet', 'space', 'scare'] 3\n",
            "295 ['salet', 'staff', 'stack', 'stamp', 'stain', 'stair'] 6\n",
            "296 ['salet', 'claim', 'black'] 3\n",
            "297 ['salet', 'sugar', 'squad'] 3\n",
            "298 ['salet', 'claim', 'royal'] 3\n",
            "299 ['salet', 'group', 'quick', 'chunk'] 4\n",
            "300 ['salet', 'voice', 'piece', 'wince', 'mince'] 5\n",
            "301 ['salet', 'space', 'share', 'shame'] 4\n",
            "302 ['salet', 'order', 'chief', 'cheek'] 4\n",
            "303 ['salet', 'place', 'apple', 'ample'] 4\n",
            "304 ['salet', 'claim', 'plain', 'flair'] 4\n",
            "305 ['salet', 'order', 'power', 'cover', 'foyer'] 5\n",
            "306 ['salet', 'major', 'radio', 'cargo'] 4\n",
            "307 ['salet', 'voice', 'oxide'] 3\n",
            "308 ['salet', 'plant'] 2\n",
            "309 ['salet', 'field', 'olive'] 3\n",
            "310 ['salet', 'event', 'inert'] 3\n",
            "311 ['salet', 'askew'] 2\n",
            "312 ['salet', 'exist', 'heist'] 3\n",
            "313 ['salet', 'shook', 'shown'] 3\n",
            "314 ['salet', 'these', 'fetus', 'pesto', 'zesty'] 5\n",
            "315 ['salet', 'pasta', 'nasty', 'hasty'] 4\n",
            "316 ['salet', 'trash'] 2\n",
            "317 ['salet', 'delay', 'fella'] 3\n",
            "318 ['salet', 'labor', 'larva'] 3\n",
            "319 ['salet', 'group', 'vigor', 'forgo'] 4\n",
            "320 ['salet', 'study', 'story'] 3\n",
            "321 ['salet', 'major', 'rapid', 'fairy', 'hairy'] 5\n",
            "322 ['salet', 'today', 'train'] 3\n",
            "323 ['salet', 'order', 'power', 'cover', 'foyer', 'boxer', 'joker', 'homer'] 8\n",
            "324 ['salet', 'range', 'gauge', 'badge'] 4\n",
            "325 ['salet', 'first', 'midst'] 3\n",
            "326 ['salet', 'major', 'happy', 'candy', 'canny'] 5\n",
            "327 ['salet', 'these', 'fetus'] 3\n",
            "328 ['salet', 'think', 'mouth', 'butch'] 4\n",
            "329 ['salet', 'range', 'farce'] 3\n",
            "330 ['salet', 'skill', 'slump', 'slush', 'slung'] 5\n",
            "331 ['salet', 'torso', 'tipsy'] 3\n",
            "332 ['salet', 'metal'] 2\n",
            "333 ['salet', 'field', 'wield', 'yield'] 4\n",
            "334 ['salet', 'hello', 'relic', 'delve'] 4\n",
            "335 ['salet', 'voice', 'being'] 3\n",
            "336 ['salet', 'shook', 'sword', 'scour'] 4\n",
            "337 ['salet', 'class', 'glass'] 3\n",
            "338 ['salet', 'paper', 'maker', 'gamer'] 4\n",
            "339 ['salet', 'sugar', 'spray', 'scrap'] 4\n",
            "340 ['salet', 'order', 'money'] 3\n",
            "341 ['salet', 'voice', 'binge', 'hinge'] 4\n",
            "342 ['salet', 'claim', 'album'] 3\n",
            "343 ['salet', 'group', 'union', 'couch', 'vouch'] 5\n",
            "344 ['salet', 'asset'] 2\n",
            "345 ['salet', 'today', 'train', 'tiara'] 4\n",
            "346 ['salet', 'event', 'theft', 'crept'] 4\n",
            "347 ['salet', 'major', 'canon', 'bayou'] 4\n",
            "348 ['salet', 'total', 'atoll'] 3\n",
            "349 ['salet', 'major', 'mayor', 'manor'] 4\n",
            "350 ['salet', 'heard', 'break', 'creak'] 4\n",
            "351 ['salet', 'shook', 'shown', 'showy'] 4\n",
            "352 ['salet', 'phase'] 2\n",
            "353 ['salet', 'think', 'mouth', 'broth', 'froth'] 5\n",
            "354 ['salet', 'white', 'depth'] 3\n",
            "355 ['salet', 'world', 'block', 'gloom'] 4\n",
            "356 ['salet', 'world', 'blood', 'flood'] 4\n",
            "357 ['salet', 'about', 'giant', 'trait'] 4\n",
            "358 ['salet', 'think', 'birth', 'mirth', 'girth'] 5\n",
            "359 ['salet', 'white', 'piety'] 3\n",
            "360 ['salet', 'paper', 'payer'] 3\n",
            "361 ['salet', 'house', 'noise', 'goose'] 4\n",
            "362 ['salet', 'plant', 'float'] 3\n",
            "363 ['salet', 'group', 'micro', 'donor'] 4\n",
            "364 ['salet', 'death', 'extra', 'atone'] 4\n",
            "365 ['salet', 'group', 'prior', 'primo'] 4\n",
            "366 ['salet', 'woman', 'adorn', 'apron'] 4\n",
            "367 ['salet', 'world', 'clown', 'blown'] 4\n",
            "368 ['salet', 'major', 'cacao'] 3\n",
            "369 ['salet', 'loser'] 2\n",
            "370 ['salet', 'point', 'input'] 3\n",
            "371 ['salet', 'plant', 'float', 'gloat'] 4\n",
            "372 ['salet', 'claim', 'royal', 'awful'] 4\n",
            "373 ['salet', 'group', 'brick', 'brink'] 4\n",
            "374 ['salet', 'stone', 'spite', 'suite', 'smite'] 5\n",
            "375 ['salet', 'heard', 'beady'] 3\n",
            "376 ['salet', 'torso', 'rusty'] 3\n",
            "377 ['salet', 'white', 'entry', 'metro', 'retro'] 5\n",
            "378 ['salet', 'world', 'droll'] 3\n",
            "379 ['salet', 'major', 'happy', 'candy', 'baggy', 'gawky'] 6\n",
            "380 ['salet', 'think', 'mouth', 'butch', 'hutch'] 5\n",
            "381 ['salet', 'think', 'intro', 'pinto'] 4\n",
            "382 ['salet', 'labor', 'daily', 'gaily'] 4\n",
            "383 ['salet', 'quiet', 'tenet', 'comet', 'greet', 'egret'] 6\n",
            "384 ['salet', 'allow', 'villa', 'lilac'] 4\n",
            "385 ['salet', 'speed', 'sober', 'sewer', 'sever'] 5\n",
            "386 ['salet', 'field'] 2\n",
            "387 ['salet', 'world', 'lunch', 'plump', 'bluff', 'fluff'] 6\n",
            "388 ['salet', 'group', 'micro', 'hydro'] 4\n",
            "389 ['salet', 'claim', 'black', 'flack'] 4\n",
            "390 ['salet', 'heard', 'image', 'agape'] 4\n",
            "391 ['salet', 'voice'] 2\n",
            "392 ['salet', 'state', 'steam', 'steak', 'stead'] 5\n",
            "393 ['salet', 'stall', 'stalk'] 3\n",
            "394 ['salet', 'white', 'depth', 'tenth', 'berth'] 5\n",
            "395 ['salet', 'major', 'magic', 'madam'] 4\n",
            "396 ['salet', 'point', 'night'] 3\n",
            "397 ['salet', 'claim', 'blank', 'bland'] 4\n",
            "398 ['salet', 'level', 'liver'] 3\n",
            "399 ['salet', 'voice', 'judge', 'hedge', 'wedge'] 5\n",
            "400 ['salet', 'woman', 'chair', 'augur'] 4\n",
            "401 ['salet', 'group', 'chord', 'roomy'] 4\n",
            "402 ['salet', 'major', 'happy', 'candy', 'wacky'] 5\n",
            "403 ['salet', 'world', 'block', 'clock', 'flock'] 5\n",
            "404 ['salet', 'woman', 'brand', 'angry'] 4\n",
            "405 ['salet', 'group', 'onion', 'hobby', 'bobby'] 5\n",
            "406 ['salet', 'white', 'quite', 'trite'] 4\n",
            "407 ['salet', 'woman', 'chair', 'aphid'] 4\n",
            "408 ['salet', 'first', 'trust', 'tryst'] 4\n",
            "409 ['salet', 'voice', 'binge', 'ridge', 'midge'] 5\n",
            "410 ['salet', 'order', 'power'] 3\n",
            "411 ['salet', 'field', 'lemon', 'globe', 'clove', 'elope'] 6\n",
            "412 ['salet', 'group', 'civic', 'cinch'] 4\n",
            "413 ['salet', 'think', 'motor', 'motto'] 4\n",
            "414 ['salet', 'study', 'stock', 'storm', 'stomp'] 5\n",
            "415 ['salet', 'upset'] 2\n",
            "416 ['salet', 'world', 'lunch', 'plump', 'bluff'] 5\n",
            "417 ['salet', 'woman', 'drama', 'cramp'] 4\n",
            "418 ['salet', 'about', 'quart'] 3\n",
            "419 ['salet', 'world', 'coyly'] 3\n",
            "420 ['salet', 'think', 'mouth', 'youth'] 4\n",
            "421 ['salet', 'voice', 'judge', 'rhyme'] 4\n",
            "422 ['salet', 'group', 'buggy'] 3\n",
            "423 ['salet', 'alien'] 2\n",
            "424 ['salet', 'space', 'swear', 'shear', 'smear'] 5\n",
            "425 ['salet', 'point', 'night', 'unfit'] 4\n",
            "426 ['salet', 'party', 'patty'] 3\n",
            "427 ['salet', 'world', 'lunch', 'clink', 'cling'] 5\n",
            "428 ['salet', 'place', 'gleam', 'glean'] 4\n",
            "429 ['salet', 'layer', 'label'] 3\n",
            "430 ['salet', 'group', 'quick', 'funky', 'hunky'] 5\n",
            "431 ['salet', 'woman', 'chair', 'khaki'] 4\n",
            "432 ['salet', 'order', 'power', 'poker'] 4\n",
            "433 ['salet', 'level', 'model', 'wheel', 'cruel', 'gruel'] 6\n",
            "434 ['salet', 'white', 'twice'] 3\n",
            "435 ['salet', 'today', 'train', 'thank', 'twang'] 5\n",
            "436 ['salet', 'shook', 'shiny', 'shrug'] 4\n",
            "437 ['salet', 'heart', 'great', 'treat'] 4\n",
            "438 ['salet', 'pilot', 'unlit'] 3\n",
            "439 ['salet', 'waste'] 2\n",
            "440 ['salet', 'event', 'merit'] 3\n",
            "441 ['salet', 'order', 'money', 'woken', 'woven'] 5\n",
            "442 ['salet', 'total', 'octal'] 3\n",
            "443 ['salet', 'voice', 'enemy', 'needy'] 4\n",
            "444 ['salet', 'world', 'clown'] 3\n",
            "445 ['salet', 'group', 'onion', 'widow'] 4\n",
            "446 ['salet', 'group', 'brown', 'irony'] 4\n",
            "447 ['salet', 'order', 'wider', 'under', 'ruder'] 5\n",
            "448 ['salet', 'range', 'vague', 'gauze'] 4\n",
            "449 ['salet', 'order', 'chief'] 3\n",
            "450 ['salet', 'upset', 'onset'] 3\n",
            "451 ['salet', 'voice', 'pride', 'prize'] 4\n",
            "452 ['salet', 'group', 'buggy', 'fungi'] 4\n",
            "453 ['salet', 'woman', 'drama', 'charm'] 4\n",
            "454 ['salet', 'color', 'fully', 'bully', 'gully'] 5\n",
            "455 ['salet', 'other', 'enter', 'inter'] 4\n",
            "456 ['salet', 'group', 'whoop'] 3\n",
            "457 ['salet', 'paint', 'haunt', 'gaunt', 'taunt'] 5\n",
            "458 ['salet', 'field', 'clerk', 'leery'] 4\n",
            "459 ['salet', 'class'] 2\n",
            "460 ['salet', 'white', 'theme'] 3\n",
            "461 ['salet', 'cloth', 'lofty'] 3\n",
            "462 ['salet', 'today', 'train', 'tibia'] 4\n",
            "463 ['salet', 'voice', 'borne', 'booze'] 4\n",
            "464 ['salet', 'claim', 'alpha'] 3\n",
            "465 ['salet', 'white', 'theme', 'thyme'] 4\n",
            "466 ['salet', 'eclat'] 2\n",
            "467 ['salet', 'point', 'court', 'doubt'] 4\n",
            "468 ['salet', 'paper', 'payer', 'parer'] 4\n",
            "469 ['salet', 'white', 'chute'] 3\n",
            "470 ['salet', 'study', 'stock', 'stick'] 4\n",
            "471 ['salet', 'white', 'tribe', 'trice'] 4\n",
            "472 ['salet', 'place', 'alive', 'alike'] 4\n",
            "473 ['salet', 'study', 'sixth', 'sooth'] 4\n",
            "474 ['salet', 'heard', 'repay', 'recap'] 4\n",
            "475 ['salet', 'saint'] 2\n",
            "476 ['salet', 'field', 'liege'] 3\n",
            "477 ['salet', 'world', 'floor', 'glory'] 4\n",
            "478 ['salet', 'death', 'crate', 'grate'] 4\n",
            "479 ['salet', 'about', 'adapt', 'admit'] 4\n",
            "480 ['salet', 'focus', 'risky', 'brisk'] 4\n",
            "481 ['salet', 'shook', 'sorry', 'soggy'] 4\n",
            "482 ['salet', 'focus', 'brush', 'usurp'] 4\n",
            "483 ['salet', 'small', 'scalp', 'scaly', 'scald'] 5\n",
            "484 ['salet', 'shook', 'sword', 'scorn'] 4\n",
            "485 ['salet', 'place', 'leave'] 3\n",
            "486 ['salet', 'white', 'twice', 'twine'] 4\n",
            "487 ['salet', 'study', 'stock', 'strip', 'stiff', 'sting'] 6\n",
            "488 ['salet', 'group', 'young', 'cough', 'dough', 'bough'] 6\n",
            "489 ['salet', 'basis', 'harsh', 'marsh'] 4\n",
            "490 ['salet', 'still', 'sloth'] 3\n",
            "491 ['salet', 'major', 'happy', 'candy', 'dandy'] 5\n",
            "492 ['salet', 'group', 'vigor'] 3\n",
            "493 ['salet', 'group', 'onion', 'hobby', 'howdy'] 5\n",
            "494 ['salet', 'voice', 'error', 'enjoy'] 4\n",
            "495 ['salet', 'valid'] 2\n",
            "496 ['salet', 'group', 'onion', 'ionic'] 4\n",
            "497 ['salet', 'place', 'legal', 'equal'] 4\n",
            "498 ['salet', 'upset', 'unset'] 3\n",
            "499 ['salet', 'world', 'floor'] 3\n",
            "500 ['salet', 'party', 'catch'] 3\n",
            "501 ['salet', 'space', 'spare', 'spade'] 4\n",
            "502 ['salet', 'stone', 'stern', 'stein'] 4\n",
            "503 ['salet', 'exist'] 2\n",
            "504 ['salet', 'group', 'hurry', 'quirk'] 4\n",
            "505 ['salet', 'voice', 'begin', 'denim'] 4\n",
            "506 ['salet', 'voice', 'prove', 'drove', 'grove'] 5\n",
            "507 ['salet', 'sleep', 'spiel'] 3\n",
            "508 ['salet', 'group', 'quick', 'funny', 'buddy', 'mummy'] 6\n",
            "Mean Score: 3.734653465346535\n",
            "Games Won in 2 Guesses: 48\n",
            "Games Lost: 4\n"
          ]
        }
      ]
    },
    {
      "cell_type": "code",
      "source": [
        "%timeit play_game_frequency('salet', 'mummy', possible_words, encoded_possible, all_freq)"
      ],
      "metadata": {
        "colab": {
          "base_uri": "https://localhost:8080/"
        },
        "id": "sqGc96qc7Pm9",
        "outputId": "91d39b64-7d55-4822-8730-2e1667a6d655"
      },
      "execution_count": 58,
      "outputs": [
        {
          "output_type": "stream",
          "name": "stdout",
          "text": [
            "7.46 ms ± 88.9 µs per loop (mean ± std. dev. of 7 runs, 100 loops each)\n"
          ]
        }
      ]
    },
    {
      "cell_type": "markdown",
      "source": [
        "Using TF-IDF POS likelihood approach has a ~20x speedup compared to the entropy approach."
      ],
      "metadata": {
        "id": "l3_spap-89x3"
      }
    },
    {
      "cell_type": "markdown",
      "source": [
        "### Results"
      ],
      "metadata": {
        "id": "2CIEOjSv9j10"
      }
    },
    {
      "cell_type": "code",
      "source": [
        "results_df = pd.DataFrame({'random_entropy':pd.Series(random_entropy_scores).describe(), 'random_frequency':pd.Series(random_frequency_scores).describe(),\n",
        "                           'salet_entropy':pd.Series(salet_entropy_scores).describe(), 'salet_frequency':pd.Series(salet_frequency_scores).describe()})\n",
        "results_df.loc[['mean', 'std']]"
      ],
      "metadata": {
        "colab": {
          "base_uri": "https://localhost:8080/",
          "height": 112
        },
        "id": "VUJvKtbH9VoB",
        "outputId": "d75a2ed0-d9fa-49ee-e216-fbf542238bc8"
      },
      "execution_count": 59,
      "outputs": [
        {
          "output_type": "execute_result",
          "data": {
            "text/plain": [
              "      random_entropy  random_frequency  salet_entropy  salet_frequency\n",
              "mean        3.709234          4.056974       3.538310         3.768173\n",
              "std         0.845282          1.039901       0.835368         1.033536"
            ],
            "text/html": [
              "\n",
              "  <div id=\"df-a7aed801-2929-4e4e-a3cd-6739b52d560a\">\n",
              "    <div class=\"colab-df-container\">\n",
              "      <div>\n",
              "<style scoped>\n",
              "    .dataframe tbody tr th:only-of-type {\n",
              "        vertical-align: middle;\n",
              "    }\n",
              "\n",
              "    .dataframe tbody tr th {\n",
              "        vertical-align: top;\n",
              "    }\n",
              "\n",
              "    .dataframe thead th {\n",
              "        text-align: right;\n",
              "    }\n",
              "</style>\n",
              "<table border=\"1\" class=\"dataframe\">\n",
              "  <thead>\n",
              "    <tr style=\"text-align: right;\">\n",
              "      <th></th>\n",
              "      <th>random_entropy</th>\n",
              "      <th>random_frequency</th>\n",
              "      <th>salet_entropy</th>\n",
              "      <th>salet_frequency</th>\n",
              "    </tr>\n",
              "  </thead>\n",
              "  <tbody>\n",
              "    <tr>\n",
              "      <th>mean</th>\n",
              "      <td>3.709234</td>\n",
              "      <td>4.056974</td>\n",
              "      <td>3.538310</td>\n",
              "      <td>3.768173</td>\n",
              "    </tr>\n",
              "    <tr>\n",
              "      <th>std</th>\n",
              "      <td>0.845282</td>\n",
              "      <td>1.039901</td>\n",
              "      <td>0.835368</td>\n",
              "      <td>1.033536</td>\n",
              "    </tr>\n",
              "  </tbody>\n",
              "</table>\n",
              "</div>\n",
              "      <button class=\"colab-df-convert\" onclick=\"convertToInteractive('df-a7aed801-2929-4e4e-a3cd-6739b52d560a')\"\n",
              "              title=\"Convert this dataframe to an interactive table.\"\n",
              "              style=\"display:none;\">\n",
              "        \n",
              "  <svg xmlns=\"http://www.w3.org/2000/svg\" height=\"24px\"viewBox=\"0 0 24 24\"\n",
              "       width=\"24px\">\n",
              "    <path d=\"M0 0h24v24H0V0z\" fill=\"none\"/>\n",
              "    <path d=\"M18.56 5.44l.94 2.06.94-2.06 2.06-.94-2.06-.94-.94-2.06-.94 2.06-2.06.94zm-11 1L8.5 8.5l.94-2.06 2.06-.94-2.06-.94L8.5 2.5l-.94 2.06-2.06.94zm10 10l.94 2.06.94-2.06 2.06-.94-2.06-.94-.94-2.06-.94 2.06-2.06.94z\"/><path d=\"M17.41 7.96l-1.37-1.37c-.4-.4-.92-.59-1.43-.59-.52 0-1.04.2-1.43.59L10.3 9.45l-7.72 7.72c-.78.78-.78 2.05 0 2.83L4 21.41c.39.39.9.59 1.41.59.51 0 1.02-.2 1.41-.59l7.78-7.78 2.81-2.81c.8-.78.8-2.07 0-2.86zM5.41 20L4 18.59l7.72-7.72 1.47 1.35L5.41 20z\"/>\n",
              "  </svg>\n",
              "      </button>\n",
              "      \n",
              "  <style>\n",
              "    .colab-df-container {\n",
              "      display:flex;\n",
              "      flex-wrap:wrap;\n",
              "      gap: 12px;\n",
              "    }\n",
              "\n",
              "    .colab-df-convert {\n",
              "      background-color: #E8F0FE;\n",
              "      border: none;\n",
              "      border-radius: 50%;\n",
              "      cursor: pointer;\n",
              "      display: none;\n",
              "      fill: #1967D2;\n",
              "      height: 32px;\n",
              "      padding: 0 0 0 0;\n",
              "      width: 32px;\n",
              "    }\n",
              "\n",
              "    .colab-df-convert:hover {\n",
              "      background-color: #E2EBFA;\n",
              "      box-shadow: 0px 1px 2px rgba(60, 64, 67, 0.3), 0px 1px 3px 1px rgba(60, 64, 67, 0.15);\n",
              "      fill: #174EA6;\n",
              "    }\n",
              "\n",
              "    [theme=dark] .colab-df-convert {\n",
              "      background-color: #3B4455;\n",
              "      fill: #D2E3FC;\n",
              "    }\n",
              "\n",
              "    [theme=dark] .colab-df-convert:hover {\n",
              "      background-color: #434B5C;\n",
              "      box-shadow: 0px 1px 3px 1px rgba(0, 0, 0, 0.15);\n",
              "      filter: drop-shadow(0px 1px 2px rgba(0, 0, 0, 0.3));\n",
              "      fill: #FFFFFF;\n",
              "    }\n",
              "  </style>\n",
              "\n",
              "      <script>\n",
              "        const buttonEl =\n",
              "          document.querySelector('#df-a7aed801-2929-4e4e-a3cd-6739b52d560a button.colab-df-convert');\n",
              "        buttonEl.style.display =\n",
              "          google.colab.kernel.accessAllowed ? 'block' : 'none';\n",
              "\n",
              "        async function convertToInteractive(key) {\n",
              "          const element = document.querySelector('#df-a7aed801-2929-4e4e-a3cd-6739b52d560a');\n",
              "          const dataTable =\n",
              "            await google.colab.kernel.invokeFunction('convertToInteractive',\n",
              "                                                     [key], {});\n",
              "          if (!dataTable) return;\n",
              "\n",
              "          const docLinkHtml = 'Like what you see? Visit the ' +\n",
              "            '<a target=\"_blank\" href=https://colab.research.google.com/notebooks/data_table.ipynb>data table notebook</a>'\n",
              "            + ' to learn more about interactive tables.';\n",
              "          element.innerHTML = '';\n",
              "          dataTable['output_type'] = 'display_data';\n",
              "          await google.colab.output.renderOutput(dataTable, element);\n",
              "          const docLink = document.createElement('div');\n",
              "          docLink.innerHTML = docLinkHtml;\n",
              "          element.appendChild(docLink);\n",
              "        }\n",
              "      </script>\n",
              "    </div>\n",
              "  </div>\n",
              "  "
            ]
          },
          "metadata": {},
          "execution_count": 59
        }
      ]
    },
    {
      "cell_type": "markdown",
      "source": [
        "Using 'salet' as the opening guess combined with the entropy guessing approach yielded the best average Wordle game score of 3.53.  \n",
        "\n",
        "The average score of 3.53 beats the average human score of 3.919, which was the performance target.\n",
        "\n",
        "It's worth noting that the POS and TF-IDF likelihood guessing approach also achieved better results than the human player average, and did so at a ~20x speedup compared to the entropy approach.  The POS and TF-IDF likelihood guessing approach also had the most games won (48) in 2 guesses or less.\n",
        "\n"
      ],
      "metadata": {
        "id": "e_jMSNJ9_-As"
      }
    },
    {
      "cell_type": "markdown",
      "source": [
        "### Game Demo\n",
        "\n",
        "Demonstrate this strategy tool using the official Wordle game (https://www.nytimes.com/games/wordle/index.html) using the word for the day on December 8, 2022.\n",
        "\n",
        "We will relay the status from the game board to the strategy tool by typing 0 for gray letters, -1 for yellow letters, and 1 for green letters."
      ],
      "metadata": {
        "id": "1NUH8LGjPiY5"
      }
    },
    {
      "cell_type": "markdown",
      "source": [
        "How to input pattern into `get_possible_solution`:\n",
        "\n",
        "$$\n",
        "\\bigg[\n",
        "\\quad\n",
        "\\underline{ }\\underline{ }\\quad\n",
        "\\underline{ }\\underline{ }\\quad\n",
        "\\underline{ }\\underline{ }\\quad\n",
        "\\underline{ }\\underline{ }\\quad\n",
        "\\underline{ }\\underline{ }\\quad\n",
        "\\bigg]\n",
        "\\begin{cases}\n",
        "1 & \\text{correct (green)}\\\\\n",
        "0 & \\text{incorrect (gray)}\\\\\n",
        "-1 & \\text{misplaced (yellow)}\\\\\n",
        "\\end{cases}\n",
        "$$"
      ],
      "metadata": {
        "id": "hzKIDfB7JnSp"
      }
    },
    {
      "cell_type": "markdown",
      "source": [
        "Opening guess:  SALET"
      ],
      "metadata": {
        "id": "1lqTH44nP62w"
      }
    },
    {
      "cell_type": "code",
      "source": [
        "sol_words, encoded_sols = get_possible_solutions('salet', [0, 0, 0, 1, 0], possible_words, encoded_possible)\n",
        "sol_words"
      ],
      "metadata": {
        "colab": {
          "base_uri": "https://localhost:8080/"
        },
        "outputId": "ea7f0898-0e41-494f-c072-1ce0d58c4801",
        "id": "i79Vr6oxOz5Z"
      },
      "execution_count": 62,
      "outputs": [
        {
          "output_type": "execute_result",
          "data": {
            "text/plain": [
              "array(['bicep', 'boney', 'boxer', 'breed', 'brief', 'buyer', 'cheek', 'cheer', 'chief', 'cider', 'corer', 'coven', 'cover', 'covey', 'cower', 'creed', 'creek', 'creep', 'cried', 'crier', 'cyber', 'defer', 'dicey', 'diner', 'diver', 'dopey', 'dozen', 'dried', 'drier', 'dryer', 'embed', 'ember', 'emcee', 'fever', 'fewer', 'fiber', 'finer', 'fixer', 'foyer', 'freed', 'freer', 'fried', 'given', 'giver', 'goner', 'gooey', 'greed', 'green', 'grief', 'homer', 'honey', 'hover', 'hymen', 'hyper', 'index', 'infer', 'inner', 'joker', 'kneed', 'miner', 'modem', 'money', 'mover', 'mower', 'never', 'newer', 'nicer', 'odder', 'offer', 'order', 'owner', 'piney', 'piper', 'poker', 'power', 'preen', 'pried', 'puree', 'purer', 'queen', 'queer', 'refer', 'renew', 'rider', 'ripen', 'riper', 'river', 'rodeo', 'roger', 'rover', 'rower', 'ruder', 'rupee', 'udder', 'under', 'unfed', 'unwed', 'upper', 'video', 'viper', 'vixen', 'widen', 'wider', 'woken', 'women', 'wooer', 'woven'], dtype='<U5')"
            ]
          },
          "metadata": {},
          "execution_count": 62
        }
      ]
    },
    {
      "cell_type": "code",
      "source": [
        "idx, guess = get_next_guess(sol_words, encoded_sols)\n",
        "guess"
      ],
      "metadata": {
        "colab": {
          "base_uri": "https://localhost:8080/",
          "height": 35
        },
        "outputId": "5ecf391f-4e61-4727-abac-eba6daa41981",
        "id": "KOKLnxxTOz5Z"
      },
      "execution_count": 63,
      "outputs": [
        {
          "output_type": "execute_result",
          "data": {
            "text/plain": [
              "'diner'"
            ],
            "application/vnd.google.colaboratory.intrinsic+json": {
              "type": "string"
            }
          },
          "metadata": {},
          "execution_count": 63
        }
      ]
    },
    {
      "cell_type": "markdown",
      "source": [
        "Next guess: DINER"
      ],
      "metadata": {
        "id": "4EgsaGVgQuIZ"
      }
    },
    {
      "cell_type": "code",
      "source": [
        "sol_words, encoded_sols = get_possible_solutions('diner', [0, -1, -1, 1, 1], sol_words, encoded_sols)\n",
        "sol_words"
      ],
      "metadata": {
        "colab": {
          "base_uri": "https://localhost:8080/"
        },
        "outputId": "d5d50ca5-0374-4d38-e30c-897011aeb73b",
        "id": "YbD6ArF7Q6-V"
      },
      "execution_count": 64,
      "outputs": [
        {
          "output_type": "execute_result",
          "data": {
            "text/plain": [
              "array(['infer'], dtype='<U5')"
            ]
          },
          "metadata": {},
          "execution_count": 64
        }
      ]
    },
    {
      "cell_type": "markdown",
      "source": [
        "Next guess:  INFER"
      ],
      "metadata": {
        "id": "mPwn7ifEQwav"
      }
    },
    {
      "cell_type": "markdown",
      "source": [
        "![image.png](data:image/png;base64,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)"
      ],
      "metadata": {
        "id": "BJDFJ2ZpQ27I"
      }
    },
    {
      "cell_type": "markdown",
      "source": [
        "Correct! "
      ],
      "metadata": {
        "id": "aFhPTZZrQzad"
      }
    }
  ]
}